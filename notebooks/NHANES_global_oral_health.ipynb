{
 "cells": [
  {
   "cell_type": "markdown",
   "metadata": {},
   "source": [
    "# NHANES project about General Oral Health: descriptive and regression analysis\n",
    "> This notebook has the purpose to collect all the analysis on Nhanes dataset for a medical paper project \n",
    "\n",
    "Requirements and Information:\n",
    "1. Nhanes dataset from 2009/10 to 2013/14\n",
    "2. 5 Intrinsic Capacity domains\n",
    "    1. Locomotion:\n",
    "        - Standingup from armless chair difficulty (PFQ061I)\n",
    "    2. Cognitive Function:\n",
    "        - Have serious difficulty concentrating (DLQ040)\n",
    "    3. Vitality:\n",
    "        - Weight change intentional (WHQ060)\n",
    "        - Poor appetite or overeating (DPQ050)\n",
    "    4. Psychological status:\n",
    "        - Feeling down, depressed, or hopeless (DPQ020)\n",
    "        - Have little interest in doing things (DPQ010)\n",
    "    5. Sensory domain:\n",
    "        - Have serious difficulty hearing? (DLQ010)\n",
    "        - Have serious difficulty seeing? (DLQ020)\n",
    "3. Exposure/Predictor:\n",
    "    1. OHQ835 : {Do you/Does SP} think {you/s/he} might have gum disease?\n",
    "    2. OHQ845 : Overall, how would {you/SP} rate the health of {your/his/her} teeth and gums?\n",
    "    3. OHQ850 : Ever had treatment for gum disease?\n",
    "    4. OHQ855 : Any teeth became loose without an injury\n",
    "    5. OHQ860 : Ever been told of bone loss around teeth\n",
    "    6. OHQ865 : Noticed a tooth that doesn't look right\n",
    "    7. OHQ870 : How many days use dental floss/device\n",
    "    8. OHQ875 : Days used mouthwash for dental problem\n",
    "4. Confounding Variables:\n",
    "    - Gender (RIAGENDR)\n",
    "    - Age at screening (RIDAGEYR)\n",
    "    - Race (RIDRETH1)\n",
    "    - Education\t(DMDEDUC2)\n",
    "    - Poverty income ratio (INDFMPIR)\n",
    "    - Smoking status (SMQ020)\n",
    "5. Mediators:\n",
    "    - Heart failure\t(RIDRETH1)  \n",
    "    - Coronary heart disease (MCQ160b)\n",
    "    - Stroke (MCQ160c)\n",
    "    - Liver disease\t(MCQ160o)\n",
    "    - Cancer (MCQ500)\n",
    "    - Diabetes (MCQ220)\n",
    "    - High blood pressure (DIQ010)\n",
    "6. Age => 60"
   ]
  },
  {
   "cell_type": "markdown",
   "metadata": {},
   "source": [
    "## NHANES 2013/14: Intrinsic Capacity and Global Oral Health"
   ]
  },
  {
   "cell_type": "markdown",
   "metadata": {},
   "source": [
    "### Import Libraries"
   ]
  },
  {
   "cell_type": "code",
   "execution_count": 1,
   "metadata": {
    "vscode": {
     "languageId": "r"
    }
   },
   "outputs": [
    {
     "name": "stderr",
     "output_type": "stream",
     "text": [
      "Loading required package: grid\n",
      "\n",
      "Loading required package: Matrix\n",
      "\n",
      "Loading required package: survival\n",
      "\n",
      "\n",
      "Attaching package: 'survey'\n",
      "\n",
      "\n",
      "The following object is masked from 'package:graphics':\n",
      "\n",
      "    dotchart\n",
      "\n",
      "\n",
      "\n",
      "Attaching package: 'dplyr'\n",
      "\n",
      "\n",
      "The following object is masked from 'package:MASS':\n",
      "\n",
      "    select\n",
      "\n",
      "\n",
      "The following objects are masked from 'package:stats':\n",
      "\n",
      "    filter, lag\n",
      "\n",
      "\n",
      "The following objects are masked from 'package:base':\n",
      "\n",
      "    intersect, setdiff, setequal, union\n",
      "\n",
      "\n",
      "\n",
      "Attaching package: 'tidyr'\n",
      "\n",
      "\n",
      "The following objects are masked from 'package:Matrix':\n",
      "\n",
      "    expand, pack, unpack\n",
      "\n",
      "\n",
      "-- \u001b[1mAttaching core tidyverse packages\u001b[22m ------------------------ tidyverse 2.0.0 --\n",
      "\u001b[32mv\u001b[39m \u001b[34mforcats  \u001b[39m 1.0.0     \u001b[32mv\u001b[39m \u001b[34mreadr    \u001b[39m 2.1.5\n",
      "\u001b[32mv\u001b[39m \u001b[34mggplot2  \u001b[39m 3.5.1     \u001b[32mv\u001b[39m \u001b[34mstringr  \u001b[39m 1.5.1\n",
      "\u001b[32mv\u001b[39m \u001b[34mlubridate\u001b[39m 1.9.4     \u001b[32mv\u001b[39m \u001b[34mtibble   \u001b[39m 3.2.1\n",
      "\u001b[32mv\u001b[39m \u001b[34mpurrr    \u001b[39m 1.0.2     \n",
      "-- \u001b[1mConflicts\u001b[22m ------------------------------------------ tidyverse_conflicts() --\n",
      "\u001b[31mx\u001b[39m \u001b[34mtidyr\u001b[39m::\u001b[32mexpand()\u001b[39m masks \u001b[34mMatrix\u001b[39m::expand()\n",
      "\u001b[31mx\u001b[39m \u001b[34mdplyr\u001b[39m::\u001b[32mfilter()\u001b[39m masks \u001b[34mstats\u001b[39m::filter()\n",
      "\u001b[31mx\u001b[39m \u001b[34mdplyr\u001b[39m::\u001b[32mlag()\u001b[39m    masks \u001b[34mstats\u001b[39m::lag()\n",
      "\u001b[31mx\u001b[39m \u001b[34mtidyr\u001b[39m::\u001b[32mpack()\u001b[39m   masks \u001b[34mMatrix\u001b[39m::pack()\n",
      "\u001b[31mx\u001b[39m \u001b[34mdplyr\u001b[39m::\u001b[32mselect()\u001b[39m masks \u001b[34mMASS\u001b[39m::select()\n",
      "\u001b[31mx\u001b[39m \u001b[34mtidyr\u001b[39m::\u001b[32munpack()\u001b[39m masks \u001b[34mMatrix\u001b[39m::unpack()\n",
      "\u001b[36mi\u001b[39m Use the conflicted package (\u001b[3m\u001b[34m<http://conflicted.r-lib.org/>\u001b[39m\u001b[23m) to force all conflicts to become errors\n",
      "\n",
      "Attaching package: 'flextable'\n",
      "\n",
      "\n",
      "The following object is masked from 'package:purrr':\n",
      "\n",
      "    compose\n",
      "\n",
      "\n",
      "\n",
      "Attaching package: 'psych'\n",
      "\n",
      "\n",
      "The following objects are masked from 'package:ggplot2':\n",
      "\n",
      "    %+%, alpha\n",
      "\n",
      "\n"
     ]
    }
   ],
   "source": [
    "library(haven)\n",
    "library(nhanesA)\n",
    "library(survey)\n",
    "library(MASS)\n",
    "library(dplyr)\n",
    "library(tidyr)\n",
    "library(tidyverse)\n",
    "library(ggplot2)\n",
    "library(readr)\n",
    "library(flextable)\n",
    "library(officer)\n",
    "library(nnet)\n",
    "library(broom)\n",
    "library(ggplot2)\n",
    "library(psych)"
   ]
  },
  {
   "cell_type": "markdown",
   "metadata": {},
   "source": [
    "### Configurations"
   ]
  },
  {
   "cell_type": "code",
   "execution_count": 2,
   "metadata": {
    "vscode": {
     "languageId": "r"
    }
   },
   "outputs": [],
   "source": [
    "path_to_data_09_10 <- \"/Users/silvanoquarto/Desktop/LAVORO/MEDICAL_PHYSICS/Med-Physics/data/NHANES/2009_10/\"\n",
    "path_to_data_11_12 <- \"/Users/silvanoquarto/Desktop/LAVORO/MEDICAL_PHYSICS/Med-Physics/data/NHANES/2011_12/\"\n",
    "path_to_data_13_14 <- \"/Users/silvanoquarto/Desktop/LAVORO/MEDICAL_PHYSICS/Med-Physics/data/NHANES/2013_14/\""
   ]
  },
  {
   "cell_type": "markdown",
   "metadata": {},
   "source": [
    "### Load Dataset & Feature Selection"
   ]
  },
  {
   "cell_type": "code",
   "execution_count": 3,
   "metadata": {
    "vscode": {
     "languageId": "r"
    }
   },
   "outputs": [],
   "source": [
    "# Datasets for 2009/10 period\n",
    "\n",
    "demo_09_10 <- read_xpt(file.path(path_to_data_09_10, \"DEMO_F.xpt\"))\n",
    "\n",
    "demo_09_10_selected <- demo_09_10 %>%\n",
    "  select(SEQN, RIAGENDR, RIDAGEYR, RIDRETH1, DMDEDUC2, INDFMPIR)\n",
    "\n",
    "alcohol_09_10 <- read_xpt(file.path(path_to_data_09_10, \"ALQ_F.xpt\"))\n",
    "\n",
    "alcohol_09_10_selected <- alcohol_09_10 %>%\n",
    "  select(SEQN, ALQ101)\n",
    "\n",
    "smoking_09_10 <- read_xpt(file.path(path_to_data_09_10, \"SMQ_F.xpt.txt\"))\n",
    "\n",
    "smoking_09_10_selected <- smoking_09_10 %>%\n",
    "    select(SEQN, SMQ020)\n",
    "\n",
    "med_conditions_09_10 <- read_xpt(file.path(path_to_data_09_10, \"MCQ_F.xpt\"))\n",
    "\n",
    "med_conditions_09_10_selected <- med_conditions_09_10 %>%\n",
    "    select(SEQN, MCQ140, MCQ160B, MCQ160C, MCQ160D, MCQ160E, MCQ160F, MCQ160L, MCQ220)\n",
    "\n",
    "med_conditions_09_10_selected <- med_conditions_09_10_selected %>%\n",
    "  rename(DLQ020 = MCQ140)\n",
    "\n",
    "\n",
    "blood_pressure_09_10 <- read_xpt(file.path(path_to_data_09_10, \"BPQ_F.xpt\"))\n",
    "\n",
    "blood_pressure_09_10_selected <- blood_pressure_09_10 %>%\n",
    "    select(SEQN, BPQ020)\n",
    "\n",
    "\n",
    "diabetes_09_10 <- read_xpt(file.path(path_to_data_09_10, \"DIQ_F.xpt\"))\n",
    "\n",
    "diabetes_09_10_selected <- diabetes_09_10 %>%\n",
    "    select(SEQN, DIQ010)\n",
    "\n",
    "\n",
    "oral_09_10 <- read_xpt(file.path(path_to_data_09_10, \"OHQ_F.xpt\"))\n",
    "\n",
    "selected_cols <- c(\n",
    "  \"OHQ835\",\n",
    "  \"OHQ845\",\n",
    "  \"OHQ850\",\n",
    "  \"OHQ855\",\n",
    "  \"OHQ860\",\n",
    "  \"OHQ865\",\n",
    "  \"OHQ870\",\n",
    "  \"OHQ875\"\n",
    ")\n",
    "oral_09_10_selected <- oral_09_10 %>%\n",
    "    select(SEQN, all_of(selected_cols))\n",
    "\n",
    "\n",
    "locomotion_09_10 <- read_xpt(file.path(path_to_data_09_10, \"PFQ_F.xpt\"))\n",
    "\n",
    "locomotion_09_10_selected <- locomotion_09_10 %>%\n",
    "    select(SEQN, PFQ061I)\n",
    "\n",
    "\n",
    "mental_health_09_10 <- read_xpt(file.path(path_to_data_09_10, \"DPQ_F.xpt\"))\n",
    "\n",
    "mental_health_09_10_selected <- mental_health_09_10 %>%\n",
    "    select(SEQN, DPQ010, DPQ020, DPQ050, DPQ070)\n",
    "\n",
    "mental_health_09_10_selected <- mental_health_09_10_selected %>%\n",
    "  mutate(DPQ070 = case_when(\n",
    "    DPQ070 %in% c(0, 1) ~ 2,\n",
    "    DPQ070 %in% c(2, 3) ~ 1,\n",
    "    TRUE ~ DPQ070\n",
    "  ))\n",
    "\n",
    "mental_health_09_10_selected <- mental_health_09_10_selected %>%\n",
    "  rename(DLQ040 = DPQ070)\n",
    "\n",
    "\n",
    "weight_history_09_10 <- read_xpt(file.path(path_to_data_09_10, \"WHQ_F.xpt\"))\n",
    "\n",
    "weight_history_09_10_selected <- weight_history_09_10 %>%\n",
    "    select(SEQN, WHQ060)\n",
    "\n",
    "\n",
    "audiometry_09_10 <- read_xpt(file.path(path_to_data_09_10, \"AUQ_F.xpt\"))\n",
    "\n",
    "audiometry_09_10_selected <- audiometry_09_10 %>%\n",
    "    select(SEQN, AUQ131)\n",
    "\n",
    "audiometry_09_10_selected <- audiometry_09_10_selected %>%\n",
    "  mutate(AUQ131 = case_when(\n",
    "    AUQ131 %in% c(1, 2, 3) ~ 2,\n",
    "    AUQ131 %in% c(4, 5, 6) ~ 1,\n",
    "    TRUE ~ AUQ131\n",
    "  ))\n",
    "\n",
    "audiometry_09_10_selected <- audiometry_09_10_selected %>%\n",
    "  rename(DLQ010 = AUQ131)"
   ]
  },
  {
   "cell_type": "code",
   "execution_count": 4,
   "metadata": {
    "vscode": {
     "languageId": "r"
    }
   },
   "outputs": [],
   "source": [
    "# Datasets for 2011/12 period\n",
    "\n",
    "demo_11_12 <- read_xpt(file.path(path_to_data_11_12, \"DEMO_G.xpt.txt\"))\n",
    "\n",
    "demo_11_12_selected <- demo_11_12 %>%\n",
    "  select(SEQN, RIAGENDR, RIDAGEYR, RIDRETH1, DMDEDUC2, INDFMPIR)\n",
    "\n",
    "alcohol_11_12 <- read_xpt(file.path(path_to_data_11_12, \"ALQ_G.xpt.txt\"))\n",
    "\n",
    "alcohol_11_12_selected <- alcohol_11_12 %>%\n",
    "  select(SEQN, ALQ101)\n",
    "\n",
    "\n",
    "smoking_11_12 <- read_xpt(file.path(path_to_data_11_12, \"SMQ_G.xpt.txt\"))\n",
    "\n",
    "smoking_11_12_selected <- smoking_11_12 %>%\n",
    "    select(SEQN, SMQ020)\n",
    "\n",
    "\n",
    "med_conditions_11_12 <- read_xpt(file.path(path_to_data_11_12, \"MCQ_G.xpt.txt\"))\n",
    "\n",
    "med_conditions_11_12_selected <- med_conditions_11_12 %>%\n",
    "    select(SEQN, MCQ140, MCQ160B, MCQ160C, MCQ160D, MCQ160E, MCQ160F, MCQ160L, MCQ220)\n",
    "\n",
    "med_conditions_11_12_selected <- med_conditions_11_12_selected %>%\n",
    "  rename(DLQ020 = MCQ140)\n",
    "\n",
    "\n",
    "blood_pressure_11_12 <- read_xpt(file.path(path_to_data_11_12, \"BPQ_G.xpt.txt\"))\n",
    "\n",
    "blood_pressure_11_12_selected <- blood_pressure_11_12 %>%\n",
    "    select(SEQN, BPQ020)\n",
    "\n",
    "\n",
    "diabetes_11_12 <- read_xpt(file.path(path_to_data_11_12, \"DIQ_G.xpt.txt\"))\n",
    "\n",
    "diabetes_11_12_selected <- diabetes_11_12 %>%\n",
    "    select(SEQN, DIQ010)\n",
    "\n",
    "\n",
    "oral_11_12 <- read_xpt(file.path(path_to_data_11_12, \"OHQ_G.xpt.txt\"))\n",
    "\n",
    "selected_cols <- c(\n",
    "  \"OHQ835\",\n",
    "  \"OHQ845\",\n",
    "  \"OHQ850\",\n",
    "  \"OHQ855\",\n",
    "  \"OHQ860\",\n",
    "  \"OHQ865\",\n",
    "  \"OHQ870\",\n",
    "  \"OHQ875\"\n",
    ")\n",
    "oral_11_12_selected <- oral_11_12 %>%\n",
    "    select(SEQN, all_of(selected_cols))\n",
    "\n",
    "locomotion_11_12 <- read_xpt(file.path(path_to_data_11_12, \"PFQ_G.xpt.txt\"))\n",
    "\n",
    "locomotion_11_12_selected <- locomotion_11_12 %>%\n",
    "    select(SEQN, PFQ061I)\n",
    "\n",
    "\n",
    "mental_health_11_12 <- read_xpt(file.path(path_to_data_11_12, \"DPQ_G.xpt.txt\"))\n",
    "\n",
    "mental_health_11_12_selected <- mental_health_11_12 %>%\n",
    "    select(SEQN, DPQ010, DPQ020, DPQ050, DPQ070)\n",
    "\n",
    "mental_health_11_12_selected <- mental_health_11_12_selected %>%\n",
    "  mutate(DPQ070 = case_when(\n",
    "    DPQ070 %in% c(0, 1) ~ 2,\n",
    "    DPQ070 %in% c(2, 3) ~ 1,\n",
    "    TRUE ~ DPQ070\n",
    "  ))\n",
    "\n",
    "mental_health_11_12_selected <- mental_health_11_12_selected %>%\n",
    "  rename(DLQ040 = DPQ070)\n",
    "\n",
    "\n",
    "weight_history_11_12 <- read_xpt(file.path(path_to_data_11_12, \"WHQ_G.xpt.txt\"))\n",
    "\n",
    "weight_history_11_12_selected <- weight_history_11_12 %>%\n",
    "    select(SEQN, WHQ060)\n",
    "\n",
    "\n",
    "audiometry_11_12 <- read_xpt(file.path(path_to_data_11_12, \"AUQ_G.xpt.txt\"))\n",
    "\n",
    "audiometry_11_12_selected <- audiometry_11_12 %>%\n",
    "  select(SEQN, AUQ054)\n",
    "\n",
    "audiometry_11_12_selected <- audiometry_11_12_selected %>%\n",
    "  mutate(AUQ054 = case_when(\n",
    "    AUQ054 %in% c(1, 2, 3) ~ 2,\n",
    "    AUQ054 %in% c(4, 5, 6) ~ 1,\n",
    "    TRUE ~ AUQ054\n",
    "  ))\n",
    "\n",
    "audiometry_11_12_selected <- audiometry_11_12_selected %>%\n",
    "  rename(DLQ010 = AUQ054)"
   ]
  },
  {
   "cell_type": "code",
   "execution_count": 5,
   "metadata": {
    "vscode": {
     "languageId": "r"
    }
   },
   "outputs": [],
   "source": [
    "# Datasets for 2013/14 period\n",
    "\n",
    "demo_13_14 <- read_xpt(file.path(path_to_data_13_14, \"DEMO_H.xpt.txt\"))\n",
    "\n",
    "demo_13_14_selected <- demo_13_14 %>%\n",
    "    select(SEQN, RIAGENDR, RIDAGEYR, RIDRETH1, DMDEDUC2, INDFMPIR)\n",
    "\n",
    "\n",
    "alcohol_13_14 <- read_xpt(file.path(path_to_data_13_14, \"ALQ_H.xpt.txt\"))\n",
    "\n",
    "alcohol_13_14_selected <- alcohol_13_14 %>%\n",
    "    select(SEQN, ALQ101)\n",
    "\n",
    "\n",
    "smoking_13_14 <- read_xpt(file.path(path_to_data_13_14, \"SMQ_H.xpt.txt\"))\n",
    "\n",
    "smoking_13_14_selected <- smoking_13_14 %>%\n",
    "    select(SEQN, SMQ020)\n",
    "\n",
    "\n",
    "med_conditions_13_14 <- read_xpt(file.path(path_to_data_13_14, \"MCQ_H.xpt.txt\"))\n",
    "\n",
    "med_conditions_13_14_selected <- med_conditions_13_14 %>%\n",
    "    select(SEQN, MCQ160B, MCQ160C, MCQ160D, MCQ160E, MCQ160F, MCQ160L, MCQ220)\n",
    "\n",
    "\n",
    "blood_pressure_13_14 <- read_xpt(file.path(path_to_data_13_14, \"BPQ_H.xpt.txt\"))\n",
    "\n",
    "blood_pressure_13_14_selected <- blood_pressure_13_14 %>%\n",
    "    select(SEQN, BPQ020)\n",
    "\n",
    "\n",
    "diabetes_13_14 <- read_xpt(file.path(path_to_data_13_14, \"DIQ_H.xpt.txt\"))\n",
    "\n",
    "diabetes_13_14_selected <- diabetes_13_14 %>%\n",
    "    select(SEQN, DIQ010)\n",
    "\n",
    "\n",
    "oral_13_14 <- read_xpt(file.path(path_to_data_13_14, \"OHQ_H.xpt.txt\"))\n",
    "\n",
    "selected_cols <- c(\n",
    "  \"OHQ835\",\n",
    "  \"OHQ845\",\n",
    "  \"OHQ850\",\n",
    "  \"OHQ855\",\n",
    "  \"OHQ860\",\n",
    "  \"OHQ865\",\n",
    "  \"OHQ870\",\n",
    "  \"OHQ875\"\n",
    ")\n",
    "oral_13_14_selected <- oral_13_14 %>%\n",
    "  select(SEQN, all_of(selected_cols))\n",
    "\n",
    "\n",
    "locomotion_13_14 <- read_xpt(file.path(path_to_data_13_14, \"PFQ061I.txt\"))\n",
    "\n",
    "locomotion_13_14_selected <- locomotion_13_14 %>%\n",
    "    select(SEQN, PFQ061I)\n",
    "\n",
    "\n",
    "disability_13_14 <- read_xpt(file.path(path_to_data_13_14, \"DLQ040.txt\"))\n",
    "\n",
    "disability_13_14_selected <- disability_13_14 %>%\n",
    "    select(SEQN, DLQ010, DLQ020, DLQ040)\n",
    "\n",
    "\n",
    "mental_health_13_14 <- read_xpt(file.path(path_to_data_13_14, \"DPQ-.txt\"))\n",
    "\n",
    "mental_health_13_14_selected <- mental_health_13_14 %>%\n",
    "    select(SEQN, DPQ010, DPQ020, DPQ050)\n",
    "\n",
    "\n",
    "weight_history_13_14 <- read_xpt(file.path(path_to_data_13_14, \"WHQ060.txt\"))\n",
    "\n",
    "weight_history_13_14_selected <- weight_history_13_14 %>%\n",
    "    select(SEQN, WHQ060)"
   ]
  },
  {
   "cell_type": "code",
   "execution_count": 6,
   "metadata": {
    "vscode": {
     "languageId": "r"
    }
   },
   "outputs": [
    {
     "data": {
      "text/html": [
       "<style>\n",
       ".list-inline {list-style: none; margin:0; padding: 0}\n",
       ".list-inline>li {display: inline-block}\n",
       ".list-inline>li:not(:last-child)::after {content: \"\\00b7\"; padding: 0 .5ex}\n",
       "</style>\n",
       "<ol class=list-inline><li>5177</li><li>9</li></ol>\n"
      ],
      "text/latex": [
       "\\begin{enumerate*}\n",
       "\\item 5177\n",
       "\\item 9\n",
       "\\end{enumerate*}\n"
      ],
      "text/markdown": [
       "1. 5177\n",
       "2. 9\n",
       "\n",
       "\n"
      ],
      "text/plain": [
       "[1] 5177    9"
      ]
     },
     "metadata": {},
     "output_type": "display_data"
    },
    {
     "data": {
      "text/html": [
       "<style>\n",
       ".list-inline {list-style: none; margin:0; padding: 0}\n",
       ".list-inline>li {display: inline-block}\n",
       ".list-inline>li:not(:last-child)::after {content: \"\\00b7\"; padding: 0 .5ex}\n",
       "</style>\n",
       "<ol class=list-inline><li>9364</li><li>9</li></ol>\n"
      ],
      "text/latex": [
       "\\begin{enumerate*}\n",
       "\\item 9364\n",
       "\\item 9\n",
       "\\end{enumerate*}\n"
      ],
      "text/markdown": [
       "1. 9364\n",
       "2. 9\n",
       "\n",
       "\n"
      ],
      "text/plain": [
       "[1] 9364    9"
      ]
     },
     "metadata": {},
     "output_type": "display_data"
    },
    {
     "data": {
      "text/html": [
       "<style>\n",
       ".list-inline {list-style: none; margin:0; padding: 0}\n",
       ".list-inline>li {display: inline-block}\n",
       ".list-inline>li:not(:last-child)::after {content: \"\\00b7\"; padding: 0 .5ex}\n",
       "</style>\n",
       "<ol class=list-inline><li>9770</li><li>9</li></ol>\n"
      ],
      "text/latex": [
       "\\begin{enumerate*}\n",
       "\\item 9770\n",
       "\\item 9\n",
       "\\end{enumerate*}\n"
      ],
      "text/markdown": [
       "1. 9770\n",
       "2. 9\n",
       "\n",
       "\n"
      ],
      "text/plain": [
       "[1] 9770    9"
      ]
     },
     "metadata": {},
     "output_type": "display_data"
    }
   ],
   "source": [
    "dim(oral_09_10_selected)\n",
    "dim(oral_11_12_selected)\n",
    "dim(oral_13_14_selected)"
   ]
  },
  {
   "cell_type": "markdown",
   "metadata": {},
   "source": [
    "### Merge datasets without NA and missing values\n",
    "> Merge all data from each datasets and then exclude patients"
   ]
  },
  {
   "cell_type": "code",
   "execution_count": null,
   "metadata": {
    "vscode": {
     "languageId": "r"
    }
   },
   "outputs": [],
   "source": [
    "# Merge datasets demographics and intrinsic capacity data\n",
    "\n",
    "datasets_09_10 <- list(\n",
    "  demo_09_10_selected, alcohol_09_10_selected, smoking_09_10_selected, med_conditions_09_10_selected,\n",
    "  blood_pressure_09_10_selected, diabetes_09_10_selected,\n",
    "  locomotion_09_10_selected, mental_health_09_10_selected,\n",
    "  weight_history_09_10_selected, audiometry_09_10_selected, oral_09_10_selected\n",
    ")\n",
    "\n",
    "datasets_11_12 <- list(\n",
    "  demo_11_12_selected, alcohol_11_12_selected, smoking_11_12_selected, med_conditions_11_12_selected,\n",
    "  blood_pressure_11_12_selected, diabetes_11_12_selected,\n",
    "  locomotion_11_12_selected, mental_health_11_12_selected,\n",
    "  weight_history_11_12_selected, audiometry_11_12_selected, oral_11_12_selected\n",
    ")\n",
    "\n",
    "datasets_13_14 <- list(\n",
    "  demo_13_14_selected, alcohol_13_14_selected, smoking_13_14_selected, med_conditions_13_14_selected,\n",
    "  blood_pressure_13_14_selected, diabetes_13_14_selected,\n",
    "  locomotion_13_14_selected, disability_13_14_selected, mental_health_13_14_selected,\n",
    "  weight_history_13_14_selected, oral_13_14_selected\n",
    ")\n",
    "\n",
    "# Horizontal union for period 2009/10, 2011/12, 2013/14\n",
    "\n",
    "df_09_10 <- Reduce(function(x, y) full_join(x, y, by = \"SEQN\"), datasets_09_10)\n",
    "\n",
    "df_11_12 <- Reduce(function(x, y) full_join(x, y, by = \"SEQN\"), datasets_11_12)\n",
    "\n",
    "df_13_14 <- Reduce(function(x, y) full_join(x, y, by = \"SEQN\"), datasets_13_14)\n",
    "\n",
    "# Vertical union\n",
    "\n",
    "df_final <- bind_rows(df_09_10, df_11_12, df_13_14)\n",
    "\n",
    "print(\"Dimensions before removing NA values\")\n",
    "dim(df_final)\n",
    "\n",
    "# Filter with AGE >= 60\n",
    "\n",
    "df_final_age_60 <- subset(df_final, RIDAGEYR >= 60)\n",
    "\n",
    "print(\"Dimensions with AGE >= 60\")\n",
    "dim(df_final_age_60)\n",
    "\n",
    "# Excluding patients with missing values in Intrinsic Capacity features\n",
    "\n",
    "df_final_excluding_IC <- df_final_age_60[complete.cases(df_final_age_60[, c('DLQ020', 'PFQ061I', 'DPQ010', 'DPQ020', 'DPQ050', 'DLQ040', 'WHQ060', 'DLQ010')]), ]\n",
    "\n",
    "df_final_excluding_IC <- df_final_excluding_IC %>%\n",
    "  filter(!if_any(c(DLQ020, PFQ061I, DLQ040, WHQ060, DLQ010,\n",
    "                   DPQ020, DPQ050, DPQ010), ~ . == 9))\n",
    "\n",
    "df_final_excluding_IC <- df_final_excluding_IC %>%\n",
    "  filter(!if_any(c(DLQ020, PFQ061I, DLQ040, WHQ060, DLQ010,\n",
    "                   DPQ020, DPQ050, DPQ010), ~ . == 7))\n",
    "\n",
    "df_final_excluding_IC <- df_final_excluding_IC %>%\n",
    "  filter(!if_any(c(DLQ020, PFQ061I, DLQ040, WHQ060, DLQ010,\n",
    "                   DPQ020, DPQ050, DPQ010), ~ . == 99))\n",
    "\n",
    "print(\"Dimensions without IC missing values\")\n",
    "dim(df_final_excluding_IC)\n",
    "\n",
    "# Excluding patients with no examinations for Oral examination\n",
    "\n",
    "df_final_excluding_oral <- df_final_excluding_IC[complete.cases(\n",
    "  df_final_excluding_IC[, c(\n",
    "                            \"OHQ835\",\n",
    "                            \"OHQ845\",\n",
    "                            \"OHQ850\",\n",
    "                            \"OHQ855\",\n",
    "                            \"OHQ860\",\n",
    "                            \"OHQ865\",\n",
    "                            \"OHQ870\",\n",
    "                            \"OHQ875\"\n",
    "                          )]), ]\n",
    "\n",
    "df_final_excluding_oral <- df_final_excluding_oral %>%\n",
    "  filter(!if_any(c(OHQ835, OHQ845, OHQ850, OHQ855, OHQ860,\n",
    "                   OHQ865, OHQ870, OHQ875), ~ . == 9))\n",
    "\n",
    "df_final_excluding_oral <- df_final_excluding_oral %>%\n",
    "  filter(!if_any(c(OHQ835, OHQ845, OHQ850, OHQ855, OHQ860,\n",
    "                   OHQ865), ~ . == 7))\n",
    "\n",
    "df_final_excluding_oral <- df_final_excluding_oral %>%\n",
    "  filter(!if_any(c(OHQ870, OHQ875), ~ . == 77))\n",
    "\n",
    "df_final_excluding_oral <- df_final_excluding_oral %>%\n",
    "  filter(!if_any(c(OHQ870, OHQ875), ~ . == 99))\n",
    "\n",
    "print(\"Dimensions without complete Oral examination (missing values)\")\n",
    "dim(df_final_excluding_oral)\n",
    "\n",
    "# Excluding patients with missing values in Confounding features\n",
    "\n",
    "df_final_excluding_confounding <- df_final_excluding_oral[complete.cases(df_final_excluding_oral[, \n",
    "                                  c('RIAGENDR', 'RIDAGEYR', 'RIDRETH1', 'DMDEDUC2', 'INDFMPIR', 'ALQ101', 'SMQ020', 'MCQ160B',\n",
    "                                  'MCQ160C', 'MCQ160D', 'MCQ160E', 'MCQ160F', 'MCQ160L', 'MCQ220', 'BPQ020', 'DIQ010')]), ]\n",
    "\n",
    "df_final_merged <- df_final_excluding_confounding %>%\n",
    "  filter(!if_any(c(DMDEDUC2, ALQ101, MCQ160B, MCQ160C, MCQ160D,\n",
    "                   MCQ160E, MCQ160F, MCQ160L, BPQ020, DIQ010), ~ . == 9))\n",
    "\n",
    "print(\"Dimensions without Confounding missing values\")\n",
    "dim(df_final_merged)"
   ]
  },
  {
   "cell_type": "code",
   "execution_count": null,
   "metadata": {
    "vscode": {
     "languageId": "r"
    }
   },
   "outputs": [],
   "source": [
    "# Saving preprocessed\n",
    "\n",
    "write.csv(df_final_merged, \"/Users/silvanoquarto/Desktop/LAVORO/MEDICAL_PHYSICS/Med-Physics/data/NHANES/df_oral_health_09_14.csv\", row.names=FALSE)"
   ]
  },
  {
   "cell_type": "markdown",
   "metadata": {},
   "source": [
    "### Exploratory Analysis"
   ]
  },
  {
   "cell_type": "code",
   "execution_count": 3,
   "metadata": {
    "vscode": {
     "languageId": "r"
    }
   },
   "outputs": [
    {
     "data": {
      "text/html": [
       "<table class=\"dataframe\">\n",
       "<caption>A data.frame: 6 x 33</caption>\n",
       "<thead>\n",
       "\t<tr><th></th><th scope=col>SEQN</th><th scope=col>RIAGENDR</th><th scope=col>RIDAGEYR</th><th scope=col>RIDRETH1</th><th scope=col>DMDEDUC2</th><th scope=col>INDFMPIR</th><th scope=col>ALQ101</th><th scope=col>SMQ020</th><th scope=col>DLQ020</th><th scope=col>MCQ160B</th><th scope=col>...</th><th scope=col>WHQ060</th><th scope=col>DLQ010</th><th scope=col>OHQ835</th><th scope=col>OHQ845</th><th scope=col>OHQ850</th><th scope=col>OHQ855</th><th scope=col>OHQ860</th><th scope=col>OHQ865</th><th scope=col>OHQ870</th><th scope=col>OHQ875</th></tr>\n",
       "\t<tr><th></th><th scope=col>&lt;int&gt;</th><th scope=col>&lt;int&gt;</th><th scope=col>&lt;int&gt;</th><th scope=col>&lt;int&gt;</th><th scope=col>&lt;int&gt;</th><th scope=col>&lt;dbl&gt;</th><th scope=col>&lt;int&gt;</th><th scope=col>&lt;int&gt;</th><th scope=col>&lt;int&gt;</th><th scope=col>&lt;int&gt;</th><th scope=col>...</th><th scope=col>&lt;int&gt;</th><th scope=col>&lt;int&gt;</th><th scope=col>&lt;int&gt;</th><th scope=col>&lt;int&gt;</th><th scope=col>&lt;int&gt;</th><th scope=col>&lt;int&gt;</th><th scope=col>&lt;int&gt;</th><th scope=col>&lt;int&gt;</th><th scope=col>&lt;int&gt;</th><th scope=col>&lt;int&gt;</th></tr>\n",
       "</thead>\n",
       "<tbody>\n",
       "\t<tr><th scope=row>1</th><td>51633</td><td>1</td><td>80</td><td>3</td><td>4</td><td>1.27</td><td>1</td><td>1</td><td>1</td><td>2</td><td>...</td><td>1</td><td>2</td><td>2</td><td>2</td><td>2</td><td>2</td><td>2</td><td>2</td><td>5</td><td>6</td></tr>\n",
       "\t<tr><th scope=row>2</th><td>51654</td><td>1</td><td>66</td><td>3</td><td>4</td><td>2.20</td><td>1</td><td>1</td><td>2</td><td>2</td><td>...</td><td>2</td><td>2</td><td>2</td><td>2</td><td>1</td><td>2</td><td>1</td><td>2</td><td>7</td><td>7</td></tr>\n",
       "\t<tr><th scope=row>3</th><td>51680</td><td>2</td><td>60</td><td>4</td><td>4</td><td>2.59</td><td>1</td><td>1</td><td>1</td><td>2</td><td>...</td><td>1</td><td>2</td><td>2</td><td>3</td><td>2</td><td>2</td><td>1</td><td>1</td><td>7</td><td>0</td></tr>\n",
       "\t<tr><th scope=row>4</th><td>51687</td><td>1</td><td>78</td><td>3</td><td>5</td><td>5.00</td><td>1</td><td>1</td><td>2</td><td>2</td><td>...</td><td>2</td><td>2</td><td>2</td><td>3</td><td>2</td><td>2</td><td>2</td><td>2</td><td>7</td><td>0</td></tr>\n",
       "\t<tr><th scope=row>5</th><td>51736</td><td>2</td><td>60</td><td>1</td><td>3</td><td>0.68</td><td>1</td><td>1</td><td>2</td><td>2</td><td>...</td><td>1</td><td>2</td><td>2</td><td>2</td><td>2</td><td>2</td><td>2</td><td>2</td><td>4</td><td>6</td></tr>\n",
       "\t<tr><th scope=row>6</th><td>51861</td><td>1</td><td>80</td><td>3</td><td>3</td><td>4.94</td><td>1</td><td>2</td><td>2</td><td>2</td><td>...</td><td>1</td><td>1</td><td>2</td><td>2</td><td>2</td><td>1</td><td>2</td><td>2</td><td>0</td><td>7</td></tr>\n",
       "</tbody>\n",
       "</table>\n"
      ],
      "text/latex": [
       "A data.frame: 6 x 33\n",
       "\\begin{tabular}{r|lllllllllllllllllllll}\n",
       "  & SEQN & RIAGENDR & RIDAGEYR & RIDRETH1 & DMDEDUC2 & INDFMPIR & ALQ101 & SMQ020 & DLQ020 & MCQ160B & ... & WHQ060 & DLQ010 & OHQ835 & OHQ845 & OHQ850 & OHQ855 & OHQ860 & OHQ865 & OHQ870 & OHQ875\\\\\n",
       "  & <int> & <int> & <int> & <int> & <int> & <dbl> & <int> & <int> & <int> & <int> & ... & <int> & <int> & <int> & <int> & <int> & <int> & <int> & <int> & <int> & <int>\\\\\n",
       "\\hline\n",
       "\t1 & 51633 & 1 & 80 & 3 & 4 & 1.27 & 1 & 1 & 1 & 2 & ... & 1 & 2 & 2 & 2 & 2 & 2 & 2 & 2 & 5 & 6\\\\\n",
       "\t2 & 51654 & 1 & 66 & 3 & 4 & 2.20 & 1 & 1 & 2 & 2 & ... & 2 & 2 & 2 & 2 & 1 & 2 & 1 & 2 & 7 & 7\\\\\n",
       "\t3 & 51680 & 2 & 60 & 4 & 4 & 2.59 & 1 & 1 & 1 & 2 & ... & 1 & 2 & 2 & 3 & 2 & 2 & 1 & 1 & 7 & 0\\\\\n",
       "\t4 & 51687 & 1 & 78 & 3 & 5 & 5.00 & 1 & 1 & 2 & 2 & ... & 2 & 2 & 2 & 3 & 2 & 2 & 2 & 2 & 7 & 0\\\\\n",
       "\t5 & 51736 & 2 & 60 & 1 & 3 & 0.68 & 1 & 1 & 2 & 2 & ... & 1 & 2 & 2 & 2 & 2 & 2 & 2 & 2 & 4 & 6\\\\\n",
       "\t6 & 51861 & 1 & 80 & 3 & 3 & 4.94 & 1 & 2 & 2 & 2 & ... & 1 & 1 & 2 & 2 & 2 & 1 & 2 & 2 & 0 & 7\\\\\n",
       "\\end{tabular}\n"
      ],
      "text/markdown": [
       "\n",
       "A data.frame: 6 x 33\n",
       "\n",
       "| <!--/--> | SEQN &lt;int&gt; | RIAGENDR &lt;int&gt; | RIDAGEYR &lt;int&gt; | RIDRETH1 &lt;int&gt; | DMDEDUC2 &lt;int&gt; | INDFMPIR &lt;dbl&gt; | ALQ101 &lt;int&gt; | SMQ020 &lt;int&gt; | DLQ020 &lt;int&gt; | MCQ160B &lt;int&gt; | ... ... | WHQ060 &lt;int&gt; | DLQ010 &lt;int&gt; | OHQ835 &lt;int&gt; | OHQ845 &lt;int&gt; | OHQ850 &lt;int&gt; | OHQ855 &lt;int&gt; | OHQ860 &lt;int&gt; | OHQ865 &lt;int&gt; | OHQ870 &lt;int&gt; | OHQ875 &lt;int&gt; |\n",
       "|---|---|---|---|---|---|---|---|---|---|---|---|---|---|---|---|---|---|---|---|---|---|\n",
       "| 1 | 51633 | 1 | 80 | 3 | 4 | 1.27 | 1 | 1 | 1 | 2 | ... | 1 | 2 | 2 | 2 | 2 | 2 | 2 | 2 | 5 | 6 |\n",
       "| 2 | 51654 | 1 | 66 | 3 | 4 | 2.20 | 1 | 1 | 2 | 2 | ... | 2 | 2 | 2 | 2 | 1 | 2 | 1 | 2 | 7 | 7 |\n",
       "| 3 | 51680 | 2 | 60 | 4 | 4 | 2.59 | 1 | 1 | 1 | 2 | ... | 1 | 2 | 2 | 3 | 2 | 2 | 1 | 1 | 7 | 0 |\n",
       "| 4 | 51687 | 1 | 78 | 3 | 5 | 5.00 | 1 | 1 | 2 | 2 | ... | 2 | 2 | 2 | 3 | 2 | 2 | 2 | 2 | 7 | 0 |\n",
       "| 5 | 51736 | 2 | 60 | 1 | 3 | 0.68 | 1 | 1 | 2 | 2 | ... | 1 | 2 | 2 | 2 | 2 | 2 | 2 | 2 | 4 | 6 |\n",
       "| 6 | 51861 | 1 | 80 | 3 | 3 | 4.94 | 1 | 2 | 2 | 2 | ... | 1 | 1 | 2 | 2 | 2 | 1 | 2 | 2 | 0 | 7 |\n",
       "\n"
      ],
      "text/plain": [
       "  SEQN  RIAGENDR RIDAGEYR RIDRETH1 DMDEDUC2 INDFMPIR ALQ101 SMQ020 DLQ020\n",
       "1 51633 1        80       3        4        1.27     1      1      1     \n",
       "2 51654 1        66       3        4        2.20     1      1      2     \n",
       "3 51680 2        60       4        4        2.59     1      1      1     \n",
       "4 51687 1        78       3        5        5.00     1      1      2     \n",
       "5 51736 2        60       1        3        0.68     1      1      2     \n",
       "6 51861 1        80       3        3        4.94     1      2      2     \n",
       "  MCQ160B ... WHQ060 DLQ010 OHQ835 OHQ845 OHQ850 OHQ855 OHQ860 OHQ865 OHQ870\n",
       "1 2       ... 1      2      2      2      2      2      2      2      5     \n",
       "2 2       ... 2      2      2      2      1      2      1      2      7     \n",
       "3 2       ... 1      2      2      3      2      2      1      1      7     \n",
       "4 2       ... 2      2      2      3      2      2      2      2      7     \n",
       "5 2       ... 1      2      2      2      2      2      2      2      4     \n",
       "6 2       ... 1      1      2      2      2      1      2      2      0     \n",
       "  OHQ875\n",
       "1 6     \n",
       "2 7     \n",
       "3 0     \n",
       "4 0     \n",
       "5 6     \n",
       "6 7     "
      ]
     },
     "metadata": {},
     "output_type": "display_data"
    }
   ],
   "source": [
    "df <- read.csv(\"/Users/silvanoquarto/Desktop/LAVORO/MEDICAL_PHYSICS/Med-Physics/data/NHANES/df_oral_health_09_14.csv\", \n",
    "              stringsAsFactors = TRUE)\n",
    "\n",
    "head(df)"
   ]
  },
  {
   "cell_type": "code",
   "execution_count": 4,
   "metadata": {
    "vscode": {
     "languageId": "r"
    }
   },
   "outputs": [
    {
     "name": "stderr",
     "output_type": "stream",
     "text": [
      "corrplot 0.95 loaded\n",
      "\n",
      "\n",
      "Attaching package: 'gridExtra'\n",
      "\n",
      "\n",
      "The following object is masked from 'package:dplyr':\n",
      "\n",
      "    combine\n",
      "\n",
      "\n",
      "Welcome! Want to learn more? See two factoextra-related books at https://goo.gl/ve3WBa\n",
      "\n"
     ]
    }
   ],
   "source": [
    "# Import libraries\n",
    "\n",
    "library(tidyverse)\n",
    "library(corrplot)\n",
    "library(ggplot2)\n",
    "library(gridExtra)\n",
    "library(psych)\n",
    "library(tidyverse)\n",
    "library(cluster)    # PAM, clara, daisy\n",
    "library(factoextra)\n",
    "library(clustMixType) # k-prototypes\n",
    "library(NbClust)     \n",
    "library(klaR)        # kmodes\n",
    "library(ClustOfVar)  \n",
    "library(fpc)\n",
    "#library(summarytools)\n",
    "#library(RColorBrewer)"
   ]
  },
  {
   "cell_type": "markdown",
   "metadata": {},
   "source": [
    "#### Exploring the distributions of individual oral health variables"
   ]
  },
  {
   "cell_type": "code",
   "execution_count": null,
   "metadata": {
    "vscode": {
     "languageId": "r"
    }
   },
   "outputs": [],
   "source": [
    "oral_vars <- c(\"OHQ835\", \"OHQ845\", \"OHQ850\", \"OHQ855\", \n",
    "               \"OHQ860\", \"OHQ865\", \"OHQ870\", \"OHQ875\")\n",
    "\n",
    "df_oral <- df[, oral_vars]\n",
    "\n",
    "# Statistics information\n",
    "cat(\"Df Shape: \", dim(df_oral), \"\\n\", \"\\n\")\n",
    "print(summary(df_oral))"
   ]
  },
  {
   "cell_type": "code",
   "execution_count": null,
   "metadata": {
    "vscode": {
     "languageId": "r"
    }
   },
   "outputs": [],
   "source": [
    "# Barplot for binary variables\n",
    "\n",
    "options(repr.plot.width = 16, repr.plot.height = 10)\n",
    "\n",
    "binary_vars <- c(\"OHQ835\", \"OHQ850\", \"OHQ855\", \"OHQ860\", \"OHQ865\")\n",
    "df_oral[binary_vars] <- lapply(df_oral[binary_vars], as.factor)\n",
    "plots_binary <- list()\n",
    "\n",
    "for (var in binary_vars) {\n",
    "    p <- ggplot(df_oral, aes_string(x = var, fill = var)) +\n",
    "        geom_bar(alpha = 0.9, width = 0.6) +\n",
    "        scale_fill_manual(values = c(\"tomato\", \"steelblue\")) +\n",
    "        labs(title = paste(\"Distribution of\", var),\n",
    "             x = var,\n",
    "             y = \"Count\") +\n",
    "        theme_minimal(base_size = 18) +\n",
    "        theme(\n",
    "            plot.title = element_text(hjust = 0.5, face = \"bold\"),\n",
    "            legend.position = \"none\"\n",
    "        )\n",
    "    plots_binary[[var]] <- p\n",
    "}\n",
    "\n",
    "do.call(grid.arrange, c(plots_binary, ncol = 3))"
   ]
  },
  {
   "cell_type": "code",
   "execution_count": null,
   "metadata": {
    "vscode": {
     "languageId": "r"
    }
   },
   "outputs": [],
   "source": [
    "# Barplot for ordinal variables (OHQ845)\n",
    "\n",
    "df_oral$OHQ845 <- factor(df_oral$OHQ845, \n",
    "                         levels = c(1,2,3,4,5),\n",
    "                         labels = c(\"Excellent\", \"Very good\", \"Good\", \"Fair\", \"Poor\"),\n",
    "                         ordered = TRUE)\n",
    "\n",
    "p_ordinal <- ggplot(df_oral, aes_string(x = \"OHQ845\")) +\n",
    "  geom_bar(fill = \"steelblue\", color = \"black\", alpha = 0.8, width = 0.6) +\n",
    "  labs(\n",
    "    title = \"Distribution of OHQ845 (Oral Health Evaluation)\",\n",
    "    x = \"Oral Health Evaluation (OHQ845)\",\n",
    "    y = \"Count\"\n",
    "  ) +\n",
    "  theme_minimal(base_size = 16) +\n",
    "  theme(\n",
    "    plot.title = element_text(hjust = 0.5, face = \"bold\", size = 20),\n",
    "    legend.position = \"none\"\n",
    "  )\n",
    "\n",
    "print(p_ordinal)"
   ]
  },
  {
   "cell_type": "code",
   "execution_count": null,
   "metadata": {
    "vscode": {
     "languageId": "r"
    }
   },
   "outputs": [],
   "source": [
    "# Histograms for numerical variables\n",
    "\n",
    "numeric_vars <- c(\"OHQ870\", \"OHQ875\")\n",
    "plots_numeric <- list()\n",
    "\n",
    "for(var in numeric_vars) {\n",
    "  p <- ggplot(df_oral, aes_string(x = var)) +\n",
    "    geom_histogram(bins = 8, fill = \"steelblue\", alpha = 0.7, color = \"black\") +\n",
    "    labs(title = paste(\"Distribution of\", var),\n",
    "         x = paste(var, \"(days)\"),\n",
    "         y = \"Frequency\") +\n",
    "    theme_minimal() +\n",
    "    scale_x_continuous(breaks = 0:7) +\n",
    "    theme(\n",
    "    plot.title = element_text(hjust = 0.5, face = \"bold\", size = 20),\n",
    "    legend.position = \"none\"\n",
    "    )\n",
    "  \n",
    "  plots_numeric[[var]] <- p\n",
    "}\n",
    "\n",
    "grid.arrange(grobs = plots_numeric, ncol = 2)"
   ]
  },
  {
   "cell_type": "markdown",
   "metadata": {},
   "source": [
    "#### Correlation analysis"
   ]
  },
  {
   "cell_type": "code",
   "execution_count": null,
   "metadata": {
    "vscode": {
     "languageId": "r"
    }
   },
   "outputs": [],
   "source": [
    "# Pre-processing\n",
    "\n",
    "oral_vars <- c(\"OHQ835\", \"OHQ845\", \"OHQ850\", \"OHQ855\", \n",
    "               \"OHQ860\", \"OHQ865\", \"OHQ870\", \"OHQ875\")\n",
    "\n",
    "df_oral <- df[, oral_vars]\n",
    "\n",
    "binary_vars <- c(\"OHQ835\", \"OHQ850\", \"OHQ855\", \"OHQ860\", \"OHQ865\")\n",
    "df_oral[binary_vars] <- lapply(df_oral[binary_vars], as.factor)\n",
    "df_oral[binary_vars] <- lapply(df_oral[binary_vars], as.numeric)\n",
    "\n",
    "df_oral$OHQ845 <- as.numeric(factor(df_oral$OHQ845, \n",
    "                         levels = c(1,2,3,4,5),\n",
    "                         ordered = TRUE))\n",
    "\n",
    "head(df_oral)"
   ]
  },
  {
   "cell_type": "code",
   "execution_count": null,
   "metadata": {
    "vscode": {
     "languageId": "r"
    }
   },
   "outputs": [],
   "source": [
    "# Correlation matrix\n",
    "\n",
    "cor_matrix <- cor(df_oral, use = \"pairwise.complete.obs\")\n",
    "\n",
    "par(bg = \"white\")\n",
    "options(repr.plot.width = 16, repr.plot.height = 10)\n",
    "corrplot(cor_matrix,\n",
    "         method = \"color\",\n",
    "         type = \"upper\",\n",
    "         order = \"hclust\",\n",
    "         addCoef.col = \"black\",\n",
    "         tl.col = \"black\",\n",
    "         tl.srt = 45,\n",
    "         diag = TRUE,\n",
    "         number.cex = 1.2,\n",
    "         col = colorRampPalette(c(\"red\", \"white\", \"blue\"))(200),\n",
    "         cl.cex = 0.7,\n",
    "         mar = c(0, 0, 2, 0),\n",
    "         title = \"Correlation Matrix of Oral Health Variables\"\n",
    ")"
   ]
  },
  {
   "cell_type": "code",
   "execution_count": null,
   "metadata": {
    "vscode": {
     "languageId": "r"
    }
   },
   "outputs": [],
   "source": [
    "# Significance test of correlations\n",
    "\n",
    "cor_test_results <- corr.test(df_oral)\n",
    "cor_matrix <- cor_test_results$r\n",
    "p_matrix <- cor_test_results$p\n",
    "\n",
    "par(bg = \"white\")\n",
    "corrplot(cor_matrix,\n",
    "         method = \"color\",\n",
    "         type = \"upper\",\n",
    "         order = \"hclust\",\n",
    "         addCoef.col = \"black\",\n",
    "         tl.col = \"black\",\n",
    "         tl.srt = 45,\n",
    "         p.mat = p_matrix,        # ADD p-values matrix\n",
    "         sig.level = 0.05,         # Only show significant ones\n",
    "         insig = \"blank\",          # Blank out non-significant correlations\n",
    "         number.cex = 1.2,\n",
    "         col = colorRampPalette(c(\"red\", \"white\", \"blue\"))(200),\n",
    "         title = \"Significant Correlations of Oral Health Variables\",\n",
    "         mar = c(0,0,2,0)\n",
    ")\n"
   ]
  },
  {
   "cell_type": "markdown",
   "metadata": {},
   "source": [
    "#### Principal component analysis (PCA)"
   ]
  },
  {
   "cell_type": "code",
   "execution_count": null,
   "metadata": {
    "vscode": {
     "languageId": "r"
    }
   },
   "outputs": [],
   "source": [
    "# Pre-processing\n",
    "\n",
    "oral_vars <- c(\"OHQ835\", \"OHQ845\", \"OHQ850\", \"OHQ855\", \n",
    "               \"OHQ860\", \"OHQ865\", \"OHQ870\", \"OHQ875\")\n",
    "\n",
    "df_oral <- df[, oral_vars]\n",
    "\n",
    "binary_vars <- c(\"OHQ835\", \"OHQ850\", \"OHQ855\", \"OHQ860\", \"OHQ865\")\n",
    "df_oral[binary_vars] <- lapply(df_oral[binary_vars], as.factor)\n",
    "df_oral[binary_vars] <- lapply(df_oral[binary_vars], as.numeric)\n",
    "\n",
    "df_oral$OHQ845 <- as.numeric(factor(df_oral$OHQ845, \n",
    "                         levels = c(1,2,3,4,5),\n",
    "                         ordered = TRUE))\n",
    "\n",
    "head(df_oral)"
   ]
  },
  {
   "cell_type": "code",
   "execution_count": null,
   "metadata": {
    "vscode": {
     "languageId": "r"
    }
   },
   "outputs": [],
   "source": [
    "# Run PCA\n",
    "\n",
    "pca_result <- prcomp(df_oral, \n",
    "                     scale = T,\n",
    "                     center = T)\n",
    "summary(pca_result)"
   ]
  },
  {
   "cell_type": "code",
   "execution_count": null,
   "metadata": {
    "vscode": {
     "languageId": "r"
    }
   },
   "outputs": [],
   "source": [
    "# scree plot\n",
    "\n",
    "library(factoextra)\n",
    "\n",
    "fviz_screeplot(pca_result, \n",
    "               geom = \"line\", \n",
    "               linecolor = \"steelblue\", \n",
    "               linetype = \"solid\", \n",
    "               addlabels = TRUE) +\n",
    "  theme_minimal() +\n",
    "  labs(title = \"Scree Plot\",\n",
    "       x = \"Principal Components\",\n",
    "       y = \"Percentage of Variance Explained\")"
   ]
  },
  {
   "cell_type": "code",
   "execution_count": null,
   "metadata": {
    "vscode": {
     "languageId": "r"
    }
   },
   "outputs": [],
   "source": [
    "# Plot cumulative explained variance\n",
    "\n",
    "# Calculate cumulative explained variance\n",
    "explained_var <- pca_result$sdev^2 / sum(pca_result$sdev^2)\n",
    "cum_explained_var <- cumsum(explained_var)\n",
    "cumvar_df <- data.frame(\n",
    "  PC = seq_along(cum_explained_var),\n",
    "  CumulativeVariance = cum_explained_var\n",
    ")\n",
    "\n",
    "ggplot(cumvar_df, aes(x = PC, y = CumulativeVariance)) +\n",
    "  geom_line(color = \"steelblue\", size = 1) +\n",
    "  geom_point(color = \"steelblue\", size = 2) +\n",
    "  scale_y_continuous(labels = scales::percent_format(accuracy = 1)) +\n",
    "  theme_minimal() +\n",
    "  labs(title = \"Cumulative Explained Variance\",\n",
    "       x = \"Principal Components\",\n",
    "       y = \"Cumulative Variance Explained (%)\")\n"
   ]
  },
  {
   "cell_type": "code",
   "execution_count": null,
   "metadata": {
    "vscode": {
     "languageId": "r"
    }
   },
   "outputs": [],
   "source": [
    "# Display the variance explained\n",
    "\n",
    "pca_var <- pca_result$sdev^2 / sum(pca_result$sdev^2)\n",
    "plot_pca_var <- ggplot(data.frame(PC = 1:length(pca_var), Var = pca_var), \n",
    "                       aes(x = PC, y = Var)) +\n",
    "  geom_bar(stat = \"identity\", fill = \"steelblue\") +\n",
    "  geom_line() +\n",
    "  geom_point() +\n",
    "  labs(title = \"Explained variance for each component\",\n",
    "       x = \"Principal Components\",\n",
    "       y = \"Proportion of variance explained\") +\n",
    "  theme_minimal() +\n",
    "  scale_x_continuous(breaks = 1:length(pca_var))\n",
    "\n",
    "print(plot_pca_var)\n"
   ]
  },
  {
   "cell_type": "code",
   "execution_count": null,
   "metadata": {
    "vscode": {
     "languageId": "r"
    }
   },
   "outputs": [],
   "source": [
    "# Plot top variable contributions to PC1\n",
    "\n",
    "fviz_contrib(pca_result, \n",
    "             choice = \"var\", \n",
    "             axes = 1, \n",
    "             top = 5, \n",
    "             fill = \"steelblue\", \n",
    "             color = \"steelblue\") +\n",
    "  theme_minimal() +\n",
    "  labs(title = \"Top 5 Variable Contributions to PC1\",\n",
    "       x = \"Variables\",\n",
    "       y = \"Contribution (%)\") +\n",
    "  theme(axis.text.x = element_text(angle = 0, hjust = 1))"
   ]
  },
  {
   "cell_type": "code",
   "execution_count": null,
   "metadata": {
    "vscode": {
     "languageId": "r"
    }
   },
   "outputs": [],
   "source": [
    "# PCA variable plot - top 10 contributing variables\n",
    "\n",
    "fviz_pca_var(pca_result, \n",
    "             col.var = \"contrib\", \n",
    "             select.var = list(contrib = 5), \n",
    "             gradient.cols = c(\"#00AFBB\", \"#E7B800\", \"#FC4E07\"), \n",
    "             repel = TRUE) +\n",
    "  theme_minimal() +\n",
    "  labs(title = \"Top 5 Variables by Contribution\",\n",
    "       color = \"Contribution\")"
   ]
  },
  {
   "cell_type": "markdown",
   "metadata": {},
   "source": [
    "#### Exploration of possible groupings - Clustering analysis hierarchical"
   ]
  },
  {
   "cell_type": "code",
   "execution_count": null,
   "metadata": {
    "vscode": {
     "languageId": "r"
    }
   },
   "outputs": [],
   "source": [
    "# Pre-processing\n",
    "\n",
    "oral_vars <- c(\"OHQ835\", \"OHQ845\", \"OHQ850\", \"OHQ855\", \n",
    "               \"OHQ860\", \"OHQ865\", \"OHQ870\", \"OHQ875\")\n",
    "\n",
    "df_oral <- df[, oral_vars]\n",
    "\n",
    "binary_vars <- c(\"OHQ835\", \"OHQ850\", \"OHQ855\", \"OHQ860\", \"OHQ865\")\n",
    "df_oral[binary_vars] <- lapply(df_oral[binary_vars], as.factor)\n",
    "#df_oral[binary_vars] <- lapply(df_oral[binary_vars], as.numeric)\n",
    "\n",
    "df_oral$OHQ845 <- factor(df_oral$OHQ845, \n",
    "                         levels = c(1,2,3,4,5),\n",
    "                         ordered = TRUE)\n",
    "\n",
    "head(df_oral)"
   ]
  },
  {
   "cell_type": "code",
   "execution_count": null,
   "metadata": {
    "vscode": {
     "languageId": "r"
    }
   },
   "outputs": [],
   "source": [
    "# First approach: Binarization of variables\n",
    "\n",
    "df_binary <- df_oral %>%\n",
    "  mutate(\n",
    "    # (1=Yes, 2=No)\n",
    "    OHQ835_bin = ifelse(OHQ835 == 1, 1, 0),\n",
    "    OHQ850_bin = ifelse(OHQ850 == 1, 1, 0),\n",
    "    OHQ855_bin = ifelse(OHQ855 == 1, 1, 0),\n",
    "    OHQ860_bin = ifelse(OHQ860 == 1, 1, 0),\n",
    "    OHQ865_bin = ifelse(OHQ865 == 1, 1, 0),\n",
    "    \n",
    "    # Ordinal variable (1-5, where 1 is \"Excellent\")\n",
    "    OHQ845_bin = ifelse(OHQ845 >= 4, 0, 1),\n",
    "    \n",
    "    # Continous variables (0-7 days)\n",
    "    OHQ870_bin = ifelse(OHQ870 >= 3, 1, 0),  # ≥3 days a week = regular usage\n",
    "    OHQ875_bin = ifelse(OHQ875 >= 3, 1, 0)   # ≥3 days a week = regular usage\n",
    "  ) %>%\n",
    "  select(ends_with(\"_bin\"))\n",
    "\n",
    "head(df_binary)\n",
    "describe(df_binary)"
   ]
  },
  {
   "cell_type": "code",
   "execution_count": null,
   "metadata": {
    "vscode": {
     "languageId": "r"
    }
   },
   "outputs": [],
   "source": [
    "options(repr.plot.width = 16, repr.plot.height = 10)\n",
    "\n",
    "df_viz <- df_binary\n",
    "df_viz[] <- lapply(df_viz, as.factor)\n",
    "plots_binary <- list()\n",
    "\n",
    "for (var in names(df_viz)) {\n",
    "    p <- ggplot(df_viz, aes_string(x = var, fill = var)) +\n",
    "        geom_bar(alpha = 0.9, width = 0.6) +\n",
    "        scale_fill_manual(values = c(\"tomato\", \"steelblue\")) +\n",
    "        labs(title = paste(\"Distribution of\", var),\n",
    "             x = var,\n",
    "             y = \"Count\") +\n",
    "        theme_minimal(base_size = 18) +\n",
    "        theme(\n",
    "            plot.title = element_text(hjust = 0.5, face = \"bold\"),\n",
    "            legend.position = \"none\"\n",
    "        )\n",
    "    plots_binary[[var]] <- p\n",
    "}\n",
    "\n",
    "\n",
    "do.call(grid.arrange, c(plots_binary, ncol = 3))"
   ]
  },
  {
   "cell_type": "code",
   "execution_count": null,
   "metadata": {
    "vscode": {
     "languageId": "r"
    }
   },
   "outputs": [],
   "source": [
    "# Elbow Method for Optimal k\n",
    "\n",
    "wss <- c()\n",
    "for (k in 1:10) {\n",
    "  km <- kmodes(df_binary, modes = k, iter.max = 10)\n",
    "  wss[k] <- km$withindiff\n",
    "}\n",
    "\n",
    "par(bg = \"white\", mar = c(5, 4, 4, 2) + 0.1)\n",
    "plot(1:10, wss, type = \"b\",\n",
    "     xlab = \"Number of clusters (k)\",\n",
    "     ylab = \"Within-cluster dissimilarity\",\n",
    "     main = \"Elbow Method for Optimal k\")"
   ]
  },
  {
   "cell_type": "code",
   "execution_count": null,
   "metadata": {
    "vscode": {
     "languageId": "r"
    }
   },
   "outputs": [],
   "source": [
    "# K-Modes\n",
    "\n",
    "install.packages(\"klaR\")\n",
    "library(klaR)\n",
    "\n",
    "set.seed(123)\n",
    "kmodes_result <- kmodes(df_binary, modes = 3, iter.max = 10)\n",
    "\n",
    "df_binary$cluster <- as.factor(kmodes_result$cluster)"
   ]
  },
  {
   "cell_type": "code",
   "execution_count": null,
   "metadata": {
    "vscode": {
     "languageId": "r"
    }
   },
   "outputs": [],
   "source": [
    "# Plot with cluster labels\n",
    "\n",
    "install.packages(\"FactoMineR\")\n",
    "install.packages(\"factoextra\")\n",
    "library(FactoMineR)\n",
    "library(factoextra)\n",
    "\n",
    "df_clean <- df_binary[, -ncol(df_binary)]\n",
    "df_clean[] <- lapply(df_clean, as.factor)\n",
    "\n",
    "mca_result <- MCA(df_clean, graph = FALSE)\n",
    "\n",
    "fviz_mca_ind(mca_result, \n",
    "             label = \"none\",\n",
    "             habillage = df_binary$cluster,\n",
    "             addEllipses = TRUE,\n",
    "             palette = \"jco\") +\n",
    "  labs(title = \"MCA Plot Colored by Cluster\")"
   ]
  },
  {
   "cell_type": "code",
   "execution_count": null,
   "metadata": {
    "vscode": {
     "languageId": "r"
    }
   },
   "outputs": [],
   "source": [
    "# Algorithms for mixed data\n",
    "    # Variable conversion in factor\n",
    "    # Check numeric variabels\n",
    "\n",
    "df_mixed <- df_oral\n",
    "for(var in c(\"OHQ835\", \"OHQ845\", \"OHQ850\", \"OHQ855\", \"OHQ860\", \"OHQ865\")) {\n",
    "  df_mixed[[var]] <- as.factor(df_mixed[[var]])\n",
    "}\n",
    "df_mixed$OHQ870 <- as.numeric(df_mixed$OHQ870)\n",
    "df_mixed$OHQ875 <- as.numeric(df_mixed$OHQ875)\n",
    "\n",
    "head(df_mixed)\n",
    "describe(df_mixed)"
   ]
  },
  {
   "cell_type": "code",
   "execution_count": null,
   "metadata": {
    "vscode": {
     "languageId": "r"
    }
   },
   "outputs": [],
   "source": [
    "# Clustering con PAM (Partitioning Around Medoids) and Gower distance\n",
    "\n",
    "gower_dist <- daisy(df_mixed, metric = \"gower\")\n",
    "\n",
    "sil_width_pam <- sapply(2:10, function(k) {\n",
    "  pam_result <- pam(gower_dist, k = k)\n",
    "  pam_result$silinfo$avg.width\n",
    "})\n",
    "\n",
    "par(bg = \"white\")\n",
    "plot(2:10, sil_width_pam, type = \"b\",\n",
    "     xlab = \"Number of clusters\",\n",
    "     ylab = \"Silhouette mean\",\n",
    "     main = \"Silhouette mean for PAM with Gower distance\")"
   ]
  },
  {
   "cell_type": "code",
   "execution_count": null,
   "metadata": {
    "vscode": {
     "languageId": "r"
    }
   },
   "outputs": [],
   "source": [
    "# Visualize clusters\n",
    "\n",
    "k_opt_pam <- which.max(sil_width_pam) + 1\n",
    "pam_result <- pam(gower_dist, k = k_opt_pam)\n",
    "\n",
    "# Compute MDS\n",
    "mds_result <- cmdscale(gower_dist, k = 2)\n",
    "mds_df <- as.data.frame(mds_result)\n",
    "mds_df$cluster <- factor(pam_result$clustering)\n",
    "\n",
    "ggplot(mds_df, aes(x = V1, y = V2, color = cluster)) +\n",
    "  geom_point(size = 3, alpha = 0.8) +\n",
    "  theme_minimal() +\n",
    "  labs(title = \"PAM Clustering with Gower Distance (MDS Projection)\",\n",
    "       x = \"MDS Dimension 1\", y = \"MDS Dimension 2\")\n",
    "\n",
    "print(pam_result$medoids)"
   ]
  },
  {
   "cell_type": "code",
   "execution_count": null,
   "metadata": {
    "vscode": {
     "languageId": "r"
    }
   },
   "outputs": [],
   "source": [
    "# Hierarchical clustering with Gower distance\n",
    "\n",
    "gower_dist <- daisy(df_mixed, metric = \"gower\")\n",
    "\n",
    "hc_gower <- hclust(gower_dist, method = \"ward.D2\")\n",
    "\n",
    "par(bg = \"white\")\n",
    "plot(hc_gower, \n",
    "     main = \"Dendrogram hierarchical cluster with Gower distance\",\n",
    "     sub = \"\", \n",
    "     xlab = \"\", \n",
    "     cex = 0.7)"
   ]
  },
  {
   "cell_type": "code",
   "execution_count": null,
   "metadata": {
    "vscode": {
     "languageId": "r"
    }
   },
   "outputs": [],
   "source": [
    "clusters_hc <- cutree(hc_gower, k = 4)\n",
    "\n",
    "mds_fit <- cmdscale(gower_dist, k = 2)  # 2D projection\n",
    "mds_df <- as.data.frame(mds_fit)\n",
    "colnames(mds_df) <- c(\"Dim1\", \"Dim2\")\n",
    "mds_df$cluster <- as.factor(clusters_hc)\n",
    "\n",
    "ggplot(mds_df, aes(x = Dim1, y = Dim2, color = cluster)) +\n",
    "  geom_point(size = 3, alpha = 0.7) +\n",
    "  theme_minimal() +\n",
    "  labs(title = \"Hierarchical Clustering (Gower) Visualized with MDS\",\n",
    "       x = \"Dimension 1\", y = \"Dimension 2\")"
   ]
  },
  {
   "cell_type": "code",
   "execution_count": null,
   "metadata": {
    "vscode": {
     "languageId": "r"
    }
   },
   "outputs": [],
   "source": [
    "# Perform hierarchical clustering using Ward's method\n",
    "\n",
    "dist_matrix <- dist(t(df_mixed))\n",
    "hc <- hclust(dist_matrix, method = \"ward.D2\")\n",
    "\n",
    "par(bg = \"white\", mar = c(5, 4, 4, 2) + 0.1)\n",
    "\n",
    "plot(hc, \n",
    "     main = \"Hierarchical Clustering of Oral Health Variables\",\n",
    "     xlab = \"Variables\",\n",
    "     sub = \"\",\n",
    "     cex = 0.9,\n",
    "     hang = -1,\n",
    "     labels = colnames(df_mixed))\n",
    "\n",
    "rect.hclust(hc, k = 4, border = \"steelblue\")"
   ]
  },
  {
   "cell_type": "markdown",
   "metadata": {},
   "source": [
    "#### Mixed Clustering Model\n",
    "> K-Prototypes"
   ]
  },
  {
   "cell_type": "code",
   "execution_count": 11,
   "metadata": {
    "vscode": {
     "languageId": "r"
    }
   },
   "outputs": [
    {
     "name": "stdout",
     "output_type": "stream",
     "text": [
      "# NAs in variables:\n",
      "OHQ835 OHQ845 OHQ850 OHQ855 OHQ860 OHQ865 OHQ870 OHQ875 \n",
      "     0      0      0      0      0      0      0      0 \n",
      "0 observation(s) with NAs.\n",
      "\n",
      "# NAs in variables:\n",
      "OHQ835 OHQ845 OHQ850 OHQ855 OHQ860 OHQ865 OHQ870 OHQ875 \n",
      "     0      0      0      0      0      0      0      0 \n",
      "0 observation(s) with NAs.\n",
      "\n",
      "# NAs in variables:\n",
      "OHQ835 OHQ845 OHQ850 OHQ855 OHQ860 OHQ865 OHQ870 OHQ875 \n",
      "     0      0      0      0      0      0      0      0 \n",
      "0 observation(s) with NAs.\n",
      "\n",
      "# NAs in variables:\n",
      "OHQ835 OHQ845 OHQ850 OHQ855 OHQ860 OHQ865 OHQ870 OHQ875 \n",
      "     0      0      0      0      0      0      0      0 \n",
      "0 observation(s) with NAs.\n",
      "\n",
      "# NAs in variables:\n",
      "OHQ835 OHQ845 OHQ850 OHQ855 OHQ860 OHQ865 OHQ870 OHQ875 \n",
      "     0      0      0      0      0      0      0      0 \n",
      "0 observation(s) with NAs.\n",
      "\n",
      "# NAs in variables:\n",
      "OHQ835 OHQ845 OHQ850 OHQ855 OHQ860 OHQ865 OHQ870 OHQ875 \n",
      "     0      0      0      0      0      0      0      0 \n",
      "0 observation(s) with NAs.\n",
      "\n",
      "# NAs in variables:\n",
      "OHQ835 OHQ845 OHQ850 OHQ855 OHQ860 OHQ865 OHQ870 OHQ875 \n",
      "     0      0      0      0      0      0      0      0 \n",
      "0 observation(s) with NAs.\n",
      "\n",
      "# NAs in variables:\n",
      "OHQ835 OHQ845 OHQ850 OHQ855 OHQ860 OHQ865 OHQ870 OHQ875 \n",
      "     0      0      0      0      0      0      0      0 \n",
      "0 observation(s) with NAs.\n",
      "\n",
      "# NAs in variables:\n",
      "OHQ835 OHQ845 OHQ850 OHQ855 OHQ860 OHQ865 OHQ870 OHQ875 \n",
      "     0      0      0      0      0      0      0      0 \n",
      "0 observation(s) with NAs.\n",
      "\n",
      "# NAs in variables:\n",
      "OHQ835 OHQ845 OHQ850 OHQ855 OHQ860 OHQ865 OHQ870 OHQ875 \n",
      "     0      0      0      0      0      0      0      0 \n",
      "0 observation(s) with NAs.\n",
      "\n",
      "# NAs in variables:\n",
      "OHQ835 OHQ845 OHQ850 OHQ855 OHQ860 OHQ865 OHQ870 OHQ875 \n",
      "     0      0      0      0      0      0      0      0 \n",
      "0 observation(s) with NAs.\n",
      "\n",
      "# NAs in variables:\n",
      "OHQ835 OHQ845 OHQ850 OHQ855 OHQ860 OHQ865 OHQ870 OHQ875 \n",
      "     0      0      0      0      0      0      0      0 \n",
      "0 observation(s) with NAs.\n",
      "\n",
      "# NAs in variables:\n",
      "OHQ835 OHQ845 OHQ850 OHQ855 OHQ860 OHQ865 OHQ870 OHQ875 \n",
      "     0      0      0      0      0      0      0      0 \n",
      "0 observation(s) with NAs.\n",
      "\n",
      "# NAs in variables:\n",
      "OHQ835 OHQ845 OHQ850 OHQ855 OHQ860 OHQ865 OHQ870 OHQ875 \n",
      "     0      0      0      0      0      0      0      0 \n",
      "0 observation(s) with NAs.\n",
      "\n",
      "# NAs in variables:\n",
      "OHQ835 OHQ845 OHQ850 OHQ855 OHQ860 OHQ865 OHQ870 OHQ875 \n",
      "     0      0      0      0      0      0      0      0 \n",
      "0 observation(s) with NAs.\n",
      "\n",
      "# NAs in variables:\n",
      "OHQ835 OHQ845 OHQ850 OHQ855 OHQ860 OHQ865 OHQ870 OHQ875 \n",
      "     0      0      0      0      0      0      0      0 \n",
      "0 observation(s) with NAs.\n",
      "\n",
      "# NAs in variables:\n",
      "OHQ835 OHQ845 OHQ850 OHQ855 OHQ860 OHQ865 OHQ870 OHQ875 \n",
      "     0      0      0      0      0      0      0      0 \n",
      "0 observation(s) with NAs.\n",
      "\n",
      "# NAs in variables:\n",
      "OHQ835 OHQ845 OHQ850 OHQ855 OHQ860 OHQ865 OHQ870 OHQ875 \n",
      "     0      0      0      0      0      0      0      0 \n",
      "0 observation(s) with NAs.\n",
      "\n",
      "# NAs in variables:\n",
      "OHQ835 OHQ845 OHQ850 OHQ855 OHQ860 OHQ865 OHQ870 OHQ875 \n",
      "     0      0      0      0      0      0      0      0 \n",
      "0 observation(s) with NAs.\n",
      "\n",
      "# NAs in variables:\n",
      "OHQ835 OHQ845 OHQ850 OHQ855 OHQ860 OHQ865 OHQ870 OHQ875 \n",
      "     0      0      0      0      0      0      0      0 \n",
      "0 observation(s) with NAs.\n",
      "\n",
      "# NAs in variables:\n",
      "OHQ835 OHQ845 OHQ850 OHQ855 OHQ860 OHQ865 OHQ870 OHQ875 \n",
      "     0      0      0      0      0      0      0      0 \n",
      "0 observation(s) with NAs.\n",
      "\n",
      "# NAs in variables:\n",
      "OHQ835 OHQ845 OHQ850 OHQ855 OHQ860 OHQ865 OHQ870 OHQ875 \n",
      "     0      0      0      0      0      0      0      0 \n",
      "0 observation(s) with NAs.\n",
      "\n",
      "# NAs in variables:\n",
      "OHQ835 OHQ845 OHQ850 OHQ855 OHQ860 OHQ865 OHQ870 OHQ875 \n",
      "     0      0      0      0      0      0      0      0 \n",
      "0 observation(s) with NAs.\n",
      "\n",
      "# NAs in variables:\n",
      "OHQ835 OHQ845 OHQ850 OHQ855 OHQ860 OHQ865 OHQ870 OHQ875 \n",
      "     0      0      0      0      0      0      0      0 \n",
      "0 observation(s) with NAs.\n",
      "\n",
      "# NAs in variables:\n",
      "OHQ835 OHQ845 OHQ850 OHQ855 OHQ860 OHQ865 OHQ870 OHQ875 \n",
      "     0      0      0      0      0      0      0      0 \n",
      "0 observation(s) with NAs.\n",
      "\n",
      "# NAs in variables:\n",
      "OHQ835 OHQ845 OHQ850 OHQ855 OHQ860 OHQ865 OHQ870 OHQ875 \n",
      "     0      0      0      0      0      0      0      0 \n",
      "0 observation(s) with NAs.\n",
      "\n",
      "# NAs in variables:\n",
      "OHQ835 OHQ845 OHQ850 OHQ855 OHQ860 OHQ865 OHQ870 OHQ875 \n",
      "     0      0      0      0      0      0      0      0 \n",
      "0 observation(s) with NAs.\n",
      "\n"
     ]
    },
    {
     "name": "stderr",
     "output_type": "stream",
     "text": [
      "Equal prototypes merged. Cluster number reduced to:3\n",
      "\n",
      "\n",
      "\n"
     ]
    },
    {
     "name": "stdout",
     "output_type": "stream",
     "text": [
      "# NAs in variables:\n",
      "OHQ835 OHQ845 OHQ850 OHQ855 OHQ860 OHQ865 OHQ870 OHQ875 \n",
      "     0      0      0      0      0      0      0      0 \n",
      "0 observation(s) with NAs.\n",
      "\n",
      "# NAs in variables:\n",
      "OHQ835 OHQ845 OHQ850 OHQ855 OHQ860 OHQ865 OHQ870 OHQ875 \n",
      "     0      0      0      0      0      0      0      0 \n",
      "0 observation(s) with NAs.\n",
      "\n",
      "# NAs in variables:\n",
      "OHQ835 OHQ845 OHQ850 OHQ855 OHQ860 OHQ865 OHQ870 OHQ875 \n",
      "     0      0      0      0      0      0      0      0 \n",
      "0 observation(s) with NAs.\n",
      "\n",
      "# NAs in variables:\n",
      "OHQ835 OHQ845 OHQ850 OHQ855 OHQ860 OHQ865 OHQ870 OHQ875 \n",
      "     0      0      0      0      0      0      0      0 \n",
      "0 observation(s) with NAs.\n",
      "\n",
      "# NAs in variables:\n",
      "OHQ835 OHQ845 OHQ850 OHQ855 OHQ860 OHQ865 OHQ870 OHQ875 \n",
      "     0      0      0      0      0      0      0      0 \n",
      "0 observation(s) with NAs.\n",
      "\n",
      "# NAs in variables:\n",
      "OHQ835 OHQ845 OHQ850 OHQ855 OHQ860 OHQ865 OHQ870 OHQ875 \n",
      "     0      0      0      0      0      0      0      0 \n",
      "0 observation(s) with NAs.\n",
      "\n",
      "# NAs in variables:\n",
      "OHQ835 OHQ845 OHQ850 OHQ855 OHQ860 OHQ865 OHQ870 OHQ875 \n",
      "     0      0      0      0      0      0      0      0 \n",
      "0 observation(s) with NAs.\n",
      "\n",
      "# NAs in variables:\n",
      "OHQ835 OHQ845 OHQ850 OHQ855 OHQ860 OHQ865 OHQ870 OHQ875 \n",
      "     0      0      0      0      0      0      0      0 \n",
      "0 observation(s) with NAs.\n",
      "\n",
      "# NAs in variables:\n",
      "OHQ835 OHQ845 OHQ850 OHQ855 OHQ860 OHQ865 OHQ870 OHQ875 \n",
      "     0      0      0      0      0      0      0      0 \n",
      "0 observation(s) with NAs.\n",
      "\n",
      "# NAs in variables:\n",
      "OHQ835 OHQ845 OHQ850 OHQ855 OHQ860 OHQ865 OHQ870 OHQ875 \n",
      "     0      0      0      0      0      0      0      0 \n",
      "0 observation(s) with NAs.\n",
      "\n",
      "# NAs in variables:\n",
      "OHQ835 OHQ845 OHQ850 OHQ855 OHQ860 OHQ865 OHQ870 OHQ875 \n",
      "     0      0      0      0      0      0      0      0 \n",
      "0 observation(s) with NAs.\n",
      "\n",
      "# NAs in variables:\n",
      "OHQ835 OHQ845 OHQ850 OHQ855 OHQ860 OHQ865 OHQ870 OHQ875 \n",
      "     0      0      0      0      0      0      0      0 \n",
      "0 observation(s) with NAs.\n",
      "\n",
      "# NAs in variables:\n",
      "OHQ835 OHQ845 OHQ850 OHQ855 OHQ860 OHQ865 OHQ870 OHQ875 \n",
      "     0      0      0      0      0      0      0      0 \n",
      "0 observation(s) with NAs.\n",
      "\n",
      "# NAs in variables:\n",
      "OHQ835 OHQ845 OHQ850 OHQ855 OHQ860 OHQ865 OHQ870 OHQ875 \n",
      "     0      0      0      0      0      0      0      0 \n",
      "0 observation(s) with NAs.\n",
      "\n",
      "# NAs in variables:\n",
      "OHQ835 OHQ845 OHQ850 OHQ855 OHQ860 OHQ865 OHQ870 OHQ875 \n",
      "     0      0      0      0      0      0      0      0 \n",
      "0 observation(s) with NAs.\n",
      "\n",
      "# NAs in variables:\n",
      "OHQ835 OHQ845 OHQ850 OHQ855 OHQ860 OHQ865 OHQ870 OHQ875 \n",
      "     0      0      0      0      0      0      0      0 \n",
      "0 observation(s) with NAs.\n",
      "\n",
      "# NAs in variables:\n",
      "OHQ835 OHQ845 OHQ850 OHQ855 OHQ860 OHQ865 OHQ870 OHQ875 \n",
      "     0      0      0      0      0      0      0      0 \n",
      "0 observation(s) with NAs.\n",
      "\n",
      "# NAs in variables:\n",
      "OHQ835 OHQ845 OHQ850 OHQ855 OHQ860 OHQ865 OHQ870 OHQ875 \n",
      "     0      0      0      0      0      0      0      0 \n",
      "0 observation(s) with NAs.\n",
      "\n",
      "# NAs in variables:\n",
      "OHQ835 OHQ845 OHQ850 OHQ855 OHQ860 OHQ865 OHQ870 OHQ875 \n",
      "     0      0      0      0      0      0      0      0 \n",
      "0 observation(s) with NAs.\n",
      "\n",
      "# NAs in variables:\n",
      "OHQ835 OHQ845 OHQ850 OHQ855 OHQ860 OHQ865 OHQ870 OHQ875 \n",
      "     0      0      0      0      0      0      0      0 \n",
      "0 observation(s) with NAs.\n",
      "\n",
      "# NAs in variables:\n",
      "OHQ835 OHQ845 OHQ850 OHQ855 OHQ860 OHQ865 OHQ870 OHQ875 \n",
      "     0      0      0      0      0      0      0      0 \n",
      "0 observation(s) with NAs.\n",
      "\n"
     ]
    },
    {
     "name": "stderr",
     "output_type": "stream",
     "text": [
      "Equal prototypes merged. Cluster number reduced to:5\n",
      "\n",
      "\n",
      "\n"
     ]
    },
    {
     "name": "stdout",
     "output_type": "stream",
     "text": [
      "# NAs in variables:\n",
      "OHQ835 OHQ845 OHQ850 OHQ855 OHQ860 OHQ865 OHQ870 OHQ875 \n",
      "     0      0      0      0      0      0      0      0 \n",
      "0 observation(s) with NAs.\n",
      "\n",
      "# NAs in variables:\n",
      "OHQ835 OHQ845 OHQ850 OHQ855 OHQ860 OHQ865 OHQ870 OHQ875 \n",
      "     0      0      0      0      0      0      0      0 \n",
      "0 observation(s) with NAs.\n",
      "\n"
     ]
    },
    {
     "data": {
      "image/png": "[encoded data removed]",
      "text/plain": [
       "Plot with title \"Elbow method for k-prototypes\""
      ]
     },
     "metadata": {
      "image/png": {
       "height": 420,
       "width": 420
      }
     },
     "output_type": "display_data"
    }
   ],
   "source": [
    "library(clustMixType)\n",
    "\n",
    "df_oral <- df[, c(\"SEQN\", \"OHQ835\", \"OHQ845\", \"OHQ850\", \"OHQ855\", \n",
    "                 \"OHQ860\", \"OHQ865\", \"OHQ870\", \"OHQ875\")]\n",
    "\n",
    "for(var in c(\"OHQ835\", \"OHQ850\", \"OHQ855\", \"OHQ860\", \"OHQ865\")) {\n",
    "  df_oral[[var]] <- as.factor(df_oral[[var]])\n",
    "}\n",
    "\n",
    "df_oral$OHQ845 <- factor(df_oral$OHQ845, \n",
    "                          levels = c(5, 4, 3, 2, 1),\n",
    "                          ordered = TRUE)\n",
    "\n",
    "df_oral$OHQ870 <- as.numeric(df_oral$OHQ870)\n",
    "df_oral$OHQ875 <- as.numeric(df_oral$OHQ875)\n",
    "\n",
    "cat_vars <- which(sapply(df_oral, is.factor))\n",
    "\n",
    "set.seed(123)\n",
    "k_values <- 2:6\n",
    "\n",
    "kproto_results <- list()\n",
    "\n",
    "for(k in k_values) {\n",
    "  kproto_results[[as.character(k)]] <- kproto(df_oral[, -1], k = k, \n",
    "                                             lambda = rep(1, ncol(df_oral) - 1),\n",
    "                                             nstart = 10)\n",
    "}\n",
    "\n",
    "wss <- sapply(kproto_results, function(x) x$tot.withinss)\n",
    "\n",
    "par(bg = \"white\")\n",
    "plot(k_values, wss, type = \"b\", \n",
    "     xlab = \"Number of cluster\", \n",
    "     ylab = \"Total sum of squares within clusters\",\n",
    "     main = \"Elbow method for k-prototypes\")"
   ]
  },
  {
   "cell_type": "code",
   "execution_count": 12,
   "metadata": {
    "vscode": {
     "languageId": "r"
    }
   },
   "outputs": [
    {
     "name": "stdout",
     "output_type": "stream",
     "text": [
      "  cluster     SEQN   OHQ835   OHQ845   OHQ850   OHQ855   OHQ860   OHQ865\n",
      "1       1 68353.31 1.845426 2.810726 1.785489 1.776025 1.867508 1.810726\n",
      "2       2 66518.51 1.852941 3.257353 1.691176 1.852941 1.757353 1.852941\n",
      "3       3 69258.77 1.825000 3.018750 1.643750 1.756250 1.756250 1.775000\n",
      "4       4 68906.72 1.827907 2.725581 1.795349 1.711628 1.837209 1.841860\n",
      "     OHQ870    OHQ875\n",
      "1 0.6025237 0.5867508\n",
      "2 6.4779412 0.5147059\n",
      "3 6.5000000 6.6937500\n",
      "4 0.4976744 6.5395349\n"
     ]
    }
   ],
   "source": [
    "k_best <- 4\n",
    "best_model <- kproto_results[[as.character(k_best)]]\n",
    "\n",
    "df_oral$cluster <- best_model$cluster\n",
    "\n",
    "cluster_profiles <- aggregate(. ~ cluster, data = df_oral, \n",
    "                             FUN = function(x) {\n",
    "                               if(is.factor(x)) {\n",
    "                                 return(names(sort(table(x), decreasing = TRUE)[1]))\n",
    "                               } else {\n",
    "                                 return(mean(x, na.rm = TRUE))\n",
    "                               }\n",
    "                             })\n",
    "\n",
    "print(cluster_profiles)"
   ]
  },
  {
   "cell_type": "code",
   "execution_count": null,
   "metadata": {
    "vscode": {
     "languageId": "r"
    }
   },
   "outputs": [],
   "source": [
    "library(ggplot2)\n",
    "library(Rtsne)\n",
    "library(umap)\n",
    "\n",
    "# Plot t-SNE\n",
    "\n",
    "df_oral_numeric <- df_oral[, -1]\n",
    "for (i in 1:(ncol(df_oral_numeric)-1)) {\n",
    "  if (is.factor(df_oral_numeric[[i]])) {\n",
    "    df_oral_numeric[[i]] <- as.numeric(df_oral_numeric[[i]])\n",
    "  }\n",
    "}\n",
    "\n",
    "set.seed(123)\n",
    "tsne_result <- Rtsne(df_oral_numeric[, 1:8], dims = 2, perplexity = 30, \n",
    "                     check_duplicates = FALSE)\n",
    "tsne_data <- data.frame(\n",
    "  X = tsne_result$Y[,1],\n",
    "  Y = tsne_result$Y[,2],\n",
    "  Cluster = factor(df_oral$cluster)\n",
    ")\n",
    "\n",
    "tsne_plot <- ggplot(tsne_data, aes(x = X, y = Y, color = Cluster)) +\n",
    "  geom_point(alpha = 0.7) +\n",
    "  theme_minimal() +\n",
    "  labs(title = \"View clusters with t-SNE\",\n",
    "       x = \"t-SNE 1\",\n",
    "       y = \"t-SNE 2\")\n",
    "\n",
    "tsne_plot"
   ]
  },
  {
   "cell_type": "code",
   "execution_count": null,
   "metadata": {
    "vscode": {
     "languageId": "r"
    }
   },
   "outputs": [],
   "source": [
    "# Radar Graph\n",
    "\n",
    "library(fmsb)\n",
    "\n",
    "cluster_centers <- aggregate(. ~ cluster, data = df_oral_numeric, mean)\n",
    "radar_data <- cluster_centers[, -1]\n",
    "rownames(radar_data) <- paste(\"Cluster\", cluster_centers$cluster)\n",
    "\n",
    "radar_data <- rbind(\n",
    "  apply(radar_data, 2, max),  # Max for each column\n",
    "  apply(radar_data, 2, min),  # Min for each column\n",
    "  radar_data\n",
    ")\n",
    "\n",
    "colnames(radar_data) <- c(\"Gum disease\", \"Oral health\", \"Treatment\", \n",
    "                          \"Loose teeth\", \"Bone loss\", \"Abnormal tooth\",\n",
    "                          \"Floss (days)\", \"Mouthwash (days)\")\n",
    "\n",
    "par(mar = c(1, 1, 2, 1))\n",
    "par(bg = \"white\")\n",
    "colors <- c(\"#FF5733\", \"#33FF57\", \"#3357FF\", \"#FF33E8\")\n",
    "radarchart(radar_data,\n",
    "           pcol = colors,\n",
    "           pfcol = scales::alpha(colors, 0.3),\n",
    "           cglcol = \"grey\",\n",
    "           cglty = 1,\n",
    "           title = \"Cluster Profiles\")\n",
    "\n",
    "legend(\"topright\",\n",
    "       legend = paste(\"Cluster\", 1:4),\n",
    "       col = colors,\n",
    "       lty = 1,\n",
    "       lwd = 2,\n",
    "       pch = 19,\n",
    "       bty = \"n\")"
   ]
  },
  {
   "cell_type": "code",
   "execution_count": null,
   "metadata": {
    "vscode": {
     "languageId": "r"
    }
   },
   "outputs": [],
   "source": [
    "# Direct display of the two most influential variables\n",
    "    # OHQ870\n",
    "    # OHQ875\n",
    "\n",
    "ggplot(df_oral, aes(x = OHQ870, y = OHQ875, color = factor(cluster))) +\n",
    "  geom_jitter(width = 0.2, height = 0.2, alpha = 0.7) +\n",
    "  labs(title = \"Cluster for use of dental floss and mouthwash\",\n",
    "       x = \"Days I use dental floss (week)\",\n",
    "       y = \"Days of use of mouthwash (week)\",\n",
    "       color = \"Cluster\") +\n",
    "  theme_minimal()"
   ]
  },
  {
   "cell_type": "markdown",
   "metadata": {},
   "source": [
    "#### Visualization using cluster from K-Prototypes results"
   ]
  },
  {
   "cell_type": "code",
   "execution_count": 5,
   "metadata": {
    "vscode": {
     "languageId": "r"
    }
   },
   "outputs": [],
   "source": [
    "library(dplyr)\n",
    "library(tidyr)\n",
    "library(knitr)\n",
    "library(htmlTable)\n",
    "library(ggplot2)\n",
    "library(forcats)"
   ]
  },
  {
   "cell_type": "code",
   "execution_count": 6,
   "metadata": {
    "vscode": {
     "languageId": "r"
    }
   },
   "outputs": [],
   "source": [
    "# Function to handle calculations and format\n",
    "\n",
    "format_num <- function(x, digits = 1) {\n",
    "  return(format(round(x, digits), nsmall = digits))\n",
    "}\n",
    "\n",
    "med_iqr <- function(x) {\n",
    "  med <- median(x, na.rm = TRUE)\n",
    "  q1 <- quantile(x, 0.25, na.rm = TRUE)\n",
    "  q3 <- quantile(x, 0.75, na.rm = TRUE)\n",
    "  return(paste0(format_num(med), \" [\", format_num(q1), \"-\", format_num(q3), \"]\"))\n",
    "}\n",
    "\n",
    "n_perc <- function(x, total) {\n",
    "  paste0(sum(x, na.rm = TRUE), \" (\", format_num(sum(x, na.rm = TRUE) / total * 100), \"%)\")\n",
    "}"
   ]
  },
  {
   "cell_type": "code",
   "execution_count": 7,
   "metadata": {
    "vscode": {
     "languageId": "r"
    }
   },
   "outputs": [
    {
     "data": {
      "text/plain": [
       " DLQ040_bin WHQ060_bin DLQ010_bin DLQ020_bin PFQ061I_bin DPQ050_bin DPQ020_bin\n",
       " No :759    No :344    No :699    No :678    No :588     No :615    No :600   \n",
       " Yes: 69    Yes:484    Yes:129    Yes:150    Yes:240     Yes:213    Yes:228   \n",
       "                                                                              \n",
       "                                                                              \n",
       "                                                                              \n",
       " DPQ010_bin   RIAGENDR                        DMDEDUC2  \n",
       " No :600    Male  :417   Less than 9th grade      :106  \n",
       " Yes:228    Female:411   9-11th grade             :136  \n",
       "                         High school graduate     :190  \n",
       "                         Some college/AA degree   :235  \n",
       "                         College graduate or above:161  \n",
       "               RIDRETH1   SMQ020                     ALQ101    MCQ160B  \n",
       " Mexican American  : 85   No :396   Under 12 drinks/1 yr:276   No :746  \n",
       " Other Hispanic    : 64   Yes:432   Over 12 drinks/1 yr :552   Yes: 82  \n",
       " Non-Hispanic White:398                                                 \n",
       " Non-Hispanic Black:242                                                 \n",
       " Other Race        : 39                                                 \n",
       " MCQ160C   MCQ160D   MCQ160E   MCQ160F   MCQ220    MCQ160L   BPQ020   \n",
       " No :735   No :767   No :739   No :746   No :648   No :772   No :251  \n",
       " Yes: 93   Yes: 61   Yes: 89   Yes: 82   Yes:180   Yes: 56   Yes:577  \n",
       "                                                                      \n",
       "                                                                      \n",
       "                                                                      \n",
       "        DIQ010   \n",
       " No        :492  \n",
       " Yes       :278  \n",
       " Borderline: 58  \n",
       "                 \n",
       "                 "
      ]
     },
     "metadata": {},
     "output_type": "display_data"
    }
   ],
   "source": [
    "# Binary recoding function (1/2 -> 0/1): Converting to factors with 0=No, 1=Yes\n",
    "recode_binary_factor <- function(x) {\n",
    "  factor(ifelse(x == 1, 1, 0), levels = c(0, 1), labels = c(\"No\", \"Yes\"))\n",
    "}\n",
    "\n",
    "# Recoding all features with consistent approach\n",
    "df <- df %>%\n",
    "  mutate(\n",
    "    \n",
    "    # Intrinsic capacity domains: binary recoding\n",
    "    DLQ040_bin = recode_binary_factor(DLQ040),\n",
    "    WHQ060_bin = recode_binary_factor(WHQ060),\n",
    "    DLQ010_bin = recode_binary_factor(DLQ010),\n",
    "    DLQ020_bin = recode_binary_factor(DLQ020),\n",
    "    \n",
    "    # Intrinsic capacity domains: convertion to binary factors\n",
    "    PFQ061I_bin = factor(ifelse(PFQ061I == 1, 0, 1),\n",
    "                     levels = c(0, 1), labels = c(\"No\", \"Yes\")),\n",
    "    DPQ050_bin = factor(ifelse(DPQ050 == 0, 0, 1),\n",
    "                    levels = c(0, 1), labels = c(\"No\", \"Yes\")),\n",
    "    DPQ020_bin = factor(ifelse(DPQ020 == 0, 0, 1),\n",
    "                    levels = c(0, 1), labels = c(\"No\", \"Yes\")),\n",
    "    DPQ010_bin = factor(ifelse(DPQ010 == 0, 0, 1),\n",
    "                    levels = c(0, 1), labels = c(\"No\", \"Yes\")),\n",
    "      \n",
    "    # Demographic variables\n",
    "    RIAGENDR = factor(RIAGENDR, levels = c(1, 2),\n",
    "                    labels = c(\"Male\", \"Female\")),\n",
    "    \n",
    "    DMDEDUC2 = factor(DMDEDUC2, levels = 1:5,\n",
    "                     labels = c(\"Less than 9th grade\", \"9-11th grade\",\n",
    "                                \"High school graduate\",\n",
    "                                \"Some college/AA degree\",\n",
    "                                \"College graduate or above\"),\n",
    "                     ordered = TRUE),\n",
    "    \n",
    "    RIDRETH1 = factor(RIDRETH1, levels = 1:5,\n",
    "                      labels = c(\"Mexican American\", \"Other Hispanic\",\n",
    "                                \"Non-Hispanic White\", \"Non-Hispanic Black\",\n",
    "                                \"Other Race\")),\n",
    "    \n",
    "    # Lifestyle variables - Set \"No\" as reference\n",
    "    SMQ020 = factor(SMQ020, levels = c(2, 1),\n",
    "                   labels = c(\"No\", \"Yes\")),  # Smoking status\n",
    "    \n",
    "    ALQ101 = factor(ALQ101, levels = c(2, 1),\n",
    "                   labels = c(\"Under 12 drinks/1 yr\", \"Over 12 drinks/1 yr\")),  # Alcohol\n",
    "    \n",
    "    # Medical conditions - all with \"No\" as reference level\n",
    "    MCQ160B = factor(MCQ160B, levels = c(2, 1),\n",
    "                    labels = c(\"No\", \"Yes\")),  # Heart failure\n",
    "    \n",
    "    MCQ160C = factor(MCQ160C, levels = c(2, 1),\n",
    "                    labels = c(\"No\", \"Yes\")),  # Coronary heart disease\n",
    "    \n",
    "    MCQ160D = factor(MCQ160D, levels = c(2, 1),\n",
    "                    labels = c(\"No\", \"Yes\")),  # Angina\n",
    "    \n",
    "    MCQ160E = factor(MCQ160E, levels = c(2, 1),\n",
    "                    labels = c(\"No\", \"Yes\")),  # Heart attack\n",
    "    \n",
    "    MCQ160F = factor(MCQ160F, levels = c(2, 1),\n",
    "                    labels = c(\"No\", \"Yes\")),  # Stroke\n",
    "    \n",
    "    MCQ220 = factor(MCQ220, levels = c(2, 1),\n",
    "                   labels = c(\"No\", \"Yes\")),  # Cancer\n",
    "    \n",
    "    MCQ160L = factor(MCQ160L, levels = c(2, 1),\n",
    "                    labels = c(\"No\", \"Yes\")),  # Liver condition\n",
    "    \n",
    "    BPQ020 = factor(BPQ020, levels = c(2, 1),\n",
    "                   labels = c(\"No\", \"Yes\")),  # Hypertension\n",
    "    \n",
    "    # Multi-categorical - set \"No\" as reference\n",
    "    DIQ010 = factor(DIQ010, levels = c(2, 1, 3),\n",
    "                   labels = c(\"No\", \"Yes\", \"Borderline\"))  # Diabetes\n",
    "  )\n",
    "\n",
    "# Verify transformations and check for any issues\n",
    "summary(df[, c(\"DLQ040_bin\", \"WHQ060_bin\", \"DLQ010_bin\", \"DLQ020_bin\",\n",
    "               \"PFQ061I_bin\", \"DPQ050_bin\", \"DPQ020_bin\", \"DPQ010_bin\",\n",
    "               \"RIAGENDR\", \"DMDEDUC2\", \"RIDRETH1\", \"SMQ020\", \"ALQ101\", \n",
    "               \"MCQ160B\", \"MCQ160C\", \"MCQ160D\", \"MCQ160E\", \"MCQ160F\", \"MCQ220\", \"MCQ160L\",\n",
    "               \"BPQ020\", \"DIQ010\")])"
   ]
  },
  {
   "cell_type": "code",
   "execution_count": 8,
   "metadata": {
    "vscode": {
     "languageId": "r"
    }
   },
   "outputs": [],
   "source": [
    "covariates <- list(\n",
    "  # Demographics\n",
    "  demographic = c(\"RIDAGEYR\", \"RIAGENDR\", \"RIDRETH1\", \"DMDEDUC2\", \"INDFMPIR\"),\n",
    "  \n",
    "  # General Health\n",
    "  health = c(\"DIQ010\", \"MCQ160B\", \"MCQ160C\", \"MCQ160D\", \"MCQ160E\", \"MCQ160F\", \"MCQ160L\", \"MCQ220\", \"BPQ020\"),\n",
    "  \n",
    "  # Other Covariates\n",
    "  other = c(\"SMQ020\", \"ALQ101\"),\n",
    "\n",
    "  # Intrinsic Capacity\n",
    "  ic = c('PFQ061I_bin','DPQ010_bin','DPQ020_bin','DPQ050_bin','DLQ040_bin','WHQ060_bin','DLQ010_bin', 'DLQ010_bin')\n",
    ")\n",
    "\n",
    "tables_list <- list()"
   ]
  },
  {
   "cell_type": "code",
   "execution_count": 13,
   "metadata": {
    "vscode": {
     "languageId": "r"
    }
   },
   "outputs": [
    {
     "data": {
      "text/html": [
       "<table class=\"dataframe\">\n",
       "<caption>A data.frame: 6 x 2</caption>\n",
       "<thead>\n",
       "\t<tr><th></th><th scope=col>SEQN</th><th scope=col>cluster</th></tr>\n",
       "\t<tr><th></th><th scope=col>&lt;int&gt;</th><th scope=col>&lt;int&gt;</th></tr>\n",
       "</thead>\n",
       "<tbody>\n",
       "\t<tr><th scope=row>1</th><td>51633</td><td>3</td></tr>\n",
       "\t<tr><th scope=row>2</th><td>51654</td><td>3</td></tr>\n",
       "\t<tr><th scope=row>3</th><td>51680</td><td>2</td></tr>\n",
       "\t<tr><th scope=row>4</th><td>51687</td><td>2</td></tr>\n",
       "\t<tr><th scope=row>5</th><td>51736</td><td>3</td></tr>\n",
       "\t<tr><th scope=row>6</th><td>51861</td><td>4</td></tr>\n",
       "</tbody>\n",
       "</table>\n"
      ],
      "text/latex": [
       "A data.frame: 6 x 2\n",
       "\\begin{tabular}{r|ll}\n",
       "  & SEQN & cluster\\\\\n",
       "  & <int> & <int>\\\\\n",
       "\\hline\n",
       "\t1 & 51633 & 3\\\\\n",
       "\t2 & 51654 & 3\\\\\n",
       "\t3 & 51680 & 2\\\\\n",
       "\t4 & 51687 & 2\\\\\n",
       "\t5 & 51736 & 3\\\\\n",
       "\t6 & 51861 & 4\\\\\n",
       "\\end{tabular}\n"
      ],
      "text/markdown": [
       "\n",
       "A data.frame: 6 x 2\n",
       "\n",
       "| <!--/--> | SEQN &lt;int&gt; | cluster &lt;int&gt; |\n",
       "|---|---|---|\n",
       "| 1 | 51633 | 3 |\n",
       "| 2 | 51654 | 3 |\n",
       "| 3 | 51680 | 2 |\n",
       "| 4 | 51687 | 2 |\n",
       "| 5 | 51736 | 3 |\n",
       "| 6 | 51861 | 4 |\n",
       "\n"
      ],
      "text/plain": [
       "  SEQN  cluster\n",
       "1 51633 3      \n",
       "2 51654 3      \n",
       "3 51680 2      \n",
       "4 51687 2      \n",
       "5 51736 3      \n",
       "6 51861 4      "
      ]
     },
     "metadata": {},
     "output_type": "display_data"
    }
   ],
   "source": [
    "# Add cluster column to df\n",
    "\n",
    "df <- merge(df, df_oral[, c(\"SEQN\", \"cluster\")], by = \"SEQN\", all.x = TRUE)\n",
    "head(df[, c(\"SEQN\", \"cluster\")])"
   ]
  },
  {
   "cell_type": "code",
   "execution_count": 16,
   "metadata": {
    "vscode": {
     "languageId": "r"
    }
   },
   "outputs": [
    {
     "data": {
      "text/plain": [
       "\n",
       "  1   2   3   4 \n",
       "317 136 160 215 "
      ]
     },
     "metadata": {},
     "output_type": "display_data"
    }
   ],
   "source": [
    "table(df$cluster)"
   ]
  },
  {
   "cell_type": "code",
   "execution_count": 14,
   "metadata": {
    "vscode": {
     "languageId": "r"
    }
   },
   "outputs": [
    {
     "data": {
      "text/plain": [
       "\n",
       "\n",
       "Table: Distribution of covariates by cluster\n",
       "\n",
       "|Covariate   |Category                  |     Cluster1     |     Cluster2     |     Cluster3     |     Cluster4     |      Total       |\n",
       "|:-----------|:-------------------------|:----------------:|:----------------:|:----------------:|:----------------:|:----------------:|\n",
       "|RIDAGEYR    |Continuous                | 70.0 [63.0-77.0] | 68.0 [62.0-74.0] | 68.0 [63.0-74.0] | 69.0 [63.0-75.0] | 69.0 [63.0-75.0] |\n",
       "|RIAGENDR    |Male                      |   175 (55.2%)    |    53 (39.0%)    |    80 (50.0%)    |   109 (50.7%)    |   417 (50.4%)    |\n",
       "|RIAGENDR    |Female                    |   142 (44.8%)    |    83 (61.0%)    |    80 (50.0%)    |   106 (49.3%)    |   411 (49.6%)    |\n",
       "|RIDRETH1    |Non-Hispanic White        |   166 (52.4%)    |    81 (59.6%)    |    69 (43.1%)    |    82 (38.1%)    |   398 (48.1%)    |\n",
       "|RIDRETH1    |Non-Hispanic Black        |    75 (23.7%)    |    23 (16.9%)    |    52 (32.5%)    |    92 (42.8%)    |   242 (29.2%)    |\n",
       "|RIDRETH1    |Mexican American          |    36 (11.4%)    |     8 (5.9%)     |    24 (15.0%)    |    17 (7.9%)     |    85 (10.3%)    |\n",
       "|RIDRETH1    |Other Hispanic            |    29 (9.1%)     |    15 (11.0%)    |     9 (5.6%)     |    11 (5.1%)     |    64 (7.7%)     |\n",
       "|RIDRETH1    |Other Race                |    11 (3.5%)     |     9 (6.6%)     |     6 (3.8%)     |    13 (6.0%)     |    39 (4.7%)     |\n",
       "|DMDEDUC2    |Some college/AA degree    |    88 (27.8%)    |    48 (35.3%)    |    47 (29.4%)    |    52 (24.2%)    |   235 (28.4%)    |\n",
       "|DMDEDUC2    |College graduate or above |    54 (17.0%)    |    47 (34.6%)    |    37 (23.1%)    |    23 (10.7%)    |   161 (19.4%)    |\n",
       "|DMDEDUC2    |High school graduate      |    72 (22.7%)    |    26 (19.1%)    |    42 (26.2%)    |    50 (23.3%)    |   190 (22.9%)    |\n",
       "|DMDEDUC2    |Less than 9th grade       |    57 (18.0%)    |     6 (4.4%)     |    14 (8.8%)     |    29 (13.5%)    |   106 (12.8%)    |\n",
       "|DMDEDUC2    |9-11th grade              |    46 (14.5%)    |     9 (6.6%)     |    20 (12.5%)    |    61 (28.4%)    |   136 (16.4%)    |\n",
       "|INDFMPIR    |Continuous                |  1.9 [1.1-3.6]   |  3.0 [1.6-4.8]   |  2.3 [1.3-4.3]   |  1.6 [1.0-2.8]   |  2.0 [1.1-3.9]   |\n",
       "|DIQ010      |No                        |   194 (61.2%)    |    90 (66.2%)    |    96 (60.0%)    |   112 (52.1%)    |   492 (59.4%)    |\n",
       "|DIQ010      |Yes                       |   106 (33.4%)    |    35 (25.7%)    |    55 (34.4%)    |    82 (38.1%)    |   278 (33.6%)    |\n",
       "|DIQ010      |Borderline                |    17 (5.4%)     |    11 (8.1%)     |     9 (5.6%)     |    21 (9.8%)     |    58 (7.0%)     |\n",
       "|MCQ160B     |No                        |   284 (89.6%)    |   128 (94.1%)    |   145 (90.6%)    |   189 (87.9%)    |   746 (90.1%)    |\n",
       "|MCQ160B     |Yes                       |    33 (10.4%)    |     8 (5.9%)     |    15 (9.4%)     |    26 (12.1%)    |    82 (9.9%)     |\n",
       "|MCQ160C     |No                        |   283 (89.3%)    |   124 (91.2%)    |   143 (89.4%)    |   185 (86.0%)    |   735 (88.8%)    |\n",
       "|MCQ160C     |Yes                       |    34 (10.7%)    |    12 (8.8%)     |    17 (10.6%)    |    30 (14.0%)    |    93 (11.2%)    |\n",
       "|MCQ160D     |No                        |   296 (93.4%)    |   123 (90.4%)    |   149 (93.1%)    |   199 (92.6%)    |   767 (92.6%)    |\n",
       "|MCQ160D     |Yes                       |    21 (6.6%)     |    13 (9.6%)     |    11 (6.9%)     |    16 (7.4%)     |    61 (7.4%)     |\n",
       "|MCQ160E     |No                        |   276 (87.1%)    |   129 (94.9%)    |   147 (91.9%)    |   187 (87.0%)    |   739 (89.3%)    |\n",
       "|MCQ160E     |Yes                       |    41 (12.9%)    |     7 (5.1%)     |    13 (8.1%)     |    28 (13.0%)    |    89 (10.7%)    |\n",
       "|MCQ160F     |No                        |   283 (89.3%)    |   126 (92.6%)    |   148 (92.5%)    |   189 (87.9%)    |   746 (90.1%)    |\n",
       "|MCQ160F     |Yes                       |    34 (10.7%)    |    10 (7.4%)     |    12 (7.5%)     |    26 (12.1%)    |    82 (9.9%)     |\n",
       "|MCQ160L     |No                        |   293 (92.4%)    |   123 (90.4%)    |   148 (92.5%)    |   208 (96.7%)    |   772 (93.2%)    |\n",
       "|MCQ160L     |Yes                       |    24 (7.6%)     |    13 (9.6%)     |    12 (7.5%)     |     7 (3.3%)     |    56 (6.8%)     |\n",
       "|MCQ220      |No                        |   254 (80.1%)    |   104 (76.5%)    |   122 (76.2%)    |   168 (78.1%)    |   648 (78.3%)    |\n",
       "|MCQ220      |Yes                       |    63 (19.9%)    |    32 (23.5%)    |    38 (23.8%)    |    47 (21.9%)    |   180 (21.7%)    |\n",
       "|BPQ020      |No                        |    95 (30.0%)    |    49 (36.0%)    |    50 (31.2%)    |    57 (26.5%)    |   251 (30.3%)    |\n",
       "|BPQ020      |Yes                       |   222 (70.0%)    |    87 (64.0%)    |   110 (68.8%)    |   158 (73.5%)    |   577 (69.7%)    |\n",
       "|SMQ020      |Yes                       |   167 (52.7%)    |    76 (55.9%)    |    79 (49.4%)    |   110 (51.2%)    |   432 (52.2%)    |\n",
       "|SMQ020      |No                        |   150 (47.3%)    |    60 (44.1%)    |    81 (50.6%)    |   105 (48.8%)    |   396 (47.8%)    |\n",
       "|ALQ101      |Over 12 drinks/1 yr       |   211 (66.6%)    |    90 (66.2%)    |   109 (68.1%)    |   142 (66.0%)    |   552 (66.7%)    |\n",
       "|ALQ101      |Under 12 drinks/1 yr      |   106 (33.4%)    |    46 (33.8%)    |    51 (31.9%)    |    73 (34.0%)    |   276 (33.3%)    |\n",
       "|PFQ061I_bin |No                        |   212 (66.9%)    |   112 (82.4%)    |   119 (74.4%)    |   145 (67.4%)    |   588 (71.0%)    |\n",
       "|PFQ061I_bin |Yes                       |   105 (33.1%)    |    24 (17.6%)    |    41 (25.6%)    |    70 (32.6%)    |   240 (29.0%)    |\n",
       "|DPQ010_bin  |No                        |   236 (74.4%)    |   100 (73.5%)    |   118 (73.8%)    |   146 (67.9%)    |   600 (72.5%)    |\n",
       "|DPQ010_bin  |Yes                       |    81 (25.6%)    |    36 (26.5%)    |    42 (26.2%)    |    69 (32.1%)    |   228 (27.5%)    |\n",
       "|DPQ020_bin  |No                        |   229 (72.2%)    |   100 (73.5%)    |   116 (72.5%)    |   155 (72.1%)    |   600 (72.5%)    |\n",
       "|DPQ020_bin  |Yes                       |    88 (27.8%)    |    36 (26.5%)    |    44 (27.5%)    |    60 (27.9%)    |   228 (27.5%)    |\n",
       "|DPQ050_bin  |No                        |   239 (75.4%)    |    96 (70.6%)    |   123 (76.9%)    |   157 (73.0%)    |   615 (74.3%)    |\n",
       "|DPQ050_bin  |Yes                       |    78 (24.6%)    |    40 (29.4%)    |    37 (23.1%)    |    58 (27.0%)    |   213 (25.7%)    |\n",
       "|DLQ040_bin  |No                        |   287 (90.5%)    |   129 (94.9%)    |   151 (94.4%)    |   192 (89.3%)    |   759 (91.7%)    |\n",
       "|DLQ040_bin  |Yes                       |    30 (9.5%)     |     7 (5.1%)     |     9 (5.6%)     |    23 (10.7%)    |    69 (8.3%)     |\n",
       "|WHQ060_bin  |Yes                       |   173 (54.6%)    |    96 (70.6%)    |   104 (65.0%)    |   111 (51.6%)    |   484 (58.5%)    |\n",
       "|WHQ060_bin  |No                        |   144 (45.4%)    |    40 (29.4%)    |    56 (35.0%)    |   104 (48.4%)    |   344 (41.5%)    |\n",
       "|DLQ010_bin  |No                        |   267 (84.2%)    |   116 (85.3%)    |   139 (86.9%)    |   177 (82.3%)    |   699 (84.4%)    |\n",
       "|DLQ010_bin  |Yes                       |    50 (15.8%)    |    20 (14.7%)    |    21 (13.1%)    |    38 (17.7%)    |   129 (15.6%)    |\n",
       "|DLQ010_bin  |No                        |   267 (84.2%)    |   116 (85.3%)    |   139 (86.9%)    |   177 (82.3%)    |   699 (84.4%)    |\n",
       "|DLQ010_bin  |Yes                       |    50 (15.8%)    |    20 (14.7%)    |    21 (13.1%)    |    38 (17.7%)    |   129 (15.6%)    |"
      ]
     },
     "metadata": {},
     "output_type": "display_data"
    }
   ],
   "source": [
    "for(category_name in names(covariates)) {\n",
    "  \n",
    "  vars <- covariates[[category_name]]\n",
    "  \n",
    "  category_table <- data.frame(Covariate = character(),\n",
    "                              Category = character(),\n",
    "                              Cluster1 = character(),\n",
    "                              Cluster2 = character(),\n",
    "                              Cluster3 = character(),\n",
    "                              Cluster4 = character(),\n",
    "                              Total = character(),\n",
    "                              stringsAsFactors = FALSE)\n",
    "  \n",
    "  for(var in vars) {\n",
    "    \n",
    "    if(!var %in% names(df)) {\n",
    "      cat(\"Attention: Variable\", var, \"not found in the dataset\\n\")\n",
    "      next\n",
    "    }\n",
    "    \n",
    "    var_label <- var\n",
    "    \n",
    "    if(is.numeric(df[[var]])) {\n",
    "      \n",
    "      stats_by_cluster <- df %>%\n",
    "        group_by(cluster) %>%\n",
    "        summarise(value = med_iqr(!!sym(var)), .groups = \"drop\") %>%\n",
    "        pivot_wider(names_from = cluster, values_from = value, names_prefix = \"Cluster\")\n",
    "      \n",
    "      total_stats <- med_iqr(df[[var]])\n",
    "      \n",
    "      row <- data.frame(\n",
    "        Covariate = var_label,\n",
    "        Category = \"Continuous\",\n",
    "        stats_by_cluster,\n",
    "        Total = total_stats,\n",
    "        stringsAsFactors = FALSE\n",
    "      )\n",
    "      \n",
    "      category_table <- bind_rows(category_table, row)\n",
    "      \n",
    "    } else {\n",
    "      \n",
    "      categories <- unique(df[[var]])\n",
    "      categories <- categories[!is.na(categories)]\n",
    "      \n",
    "      for(cat in categories) {\n",
    "        cat_by_cluster <- df %>%\n",
    "          group_by(cluster) %>%\n",
    "          summarise(\n",
    "            value = n_perc(!!sym(var) == cat, n()), \n",
    "            .groups = \"drop\"\n",
    "          ) %>%\n",
    "          pivot_wider(names_from = cluster, values_from = value, names_prefix = \"Cluster\")\n",
    "        \n",
    "        total_cat <- n_perc(df[[var]] == cat, nrow(df))\n",
    "        \n",
    "        row <- data.frame(\n",
    "          Covariate = var_label,\n",
    "          Category = as.character(cat),\n",
    "          cat_by_cluster,\n",
    "          Total = total_cat,\n",
    "          stringsAsFactors = FALSE\n",
    "        )\n",
    "        \n",
    "        category_table <- bind_rows(category_table, row)\n",
    "      }\n",
    "      \n",
    "      if(sum(is.na(df[[var]])) > 0) {\n",
    "        na_by_cluster <- df %>%\n",
    "          group_by(cluster) %>%\n",
    "          summarise(\n",
    "            value = n_perc(is.na(!!sym(var)), n()), \n",
    "            .groups = \"drop\"\n",
    "          ) %>%\n",
    "          pivot_wider(names_from = cluster, values_from = value, names_prefix = \"Cluster\")\n",
    "        \n",
    "        total_na <- n_perc(is.na(df[[var]]), nrow(df))\n",
    "        \n",
    "        row <- data.frame(\n",
    "          Covariate = var_label,\n",
    "          Category = \"Missing\",\n",
    "          na_by_cluster,\n",
    "          Total = total_na,\n",
    "          stringsAsFactors = FALSE\n",
    "        )\n",
    "        \n",
    "        category_table <- bind_rows(category_table, row)\n",
    "      }\n",
    "    }\n",
    "  }\n",
    "  \n",
    "  tables_list[[category_name]] <- category_table\n",
    "}\n",
    "\n",
    "final_table <- bind_rows(tables_list)\n",
    "\n",
    "kable(final_table, \n",
    "      caption = \"Distribution of covariates by cluster\",\n",
    "      align = c('l', 'l', rep('c', 5)))"
   ]
  },
  {
   "cell_type": "code",
   "execution_count": 15,
   "metadata": {
    "vscode": {
     "languageId": "r"
    }
   },
   "outputs": [],
   "source": [
    "library(htmlTable)\n",
    "view_html <- htmlTable::htmlTable(\n",
    "  final_table,\n",
    "  caption = \"Complete table of covariates by cluster\",\n",
    "  css.cell = \"padding: 5px;\",\n",
    "  css.class = \"table table-striped table-bordered\",\n",
    "  rnames = FALSE,\n",
    "  align = c('l', 'l', rep('c', 5)),\n",
    "  col.rgroup = c(\"none\", \"#F7F7F7\"),\n",
    "  tfoot = paste0(\"Note: For continuous variables, the values are expressed as 'Median [Q1-Q3]'.\",\n",
    "                \"For categorical variables, values are expressed as 'n (%)'.\"),\n",
    "  n.tspanner = sapply(tables_list, nrow),\n",
    "  tspanner = names(tables_list)\n",
    ")\n",
    "\n",
    "html_file <- tempfile(fileext = \".html\")\n",
    "writeLines(view_html, html_file)\n",
    "browseURL(html_file)"
   ]
  },
  {
   "cell_type": "code",
   "execution_count": null,
   "metadata": {
    "vscode": {
     "languageId": "r"
    }
   },
   "outputs": [],
   "source": [
    "# Statistic tests\n",
    "\n",
    "run_tests <- function(df, vars) {\n",
    "  test_results <- data.frame(\n",
    "    Variable = character(),\n",
    "    Test = character(),\n",
    "    P_Value = numeric(),\n",
    "    Significance = character(),\n",
    "    stringsAsFactors = FALSE\n",
    "  )\n",
    "  \n",
    "  for(var in vars) {\n",
    "    if(!var %in% names(df)) next\n",
    "    \n",
    "    if(is.numeric(df[[var]])) {\n",
    "      test <- try(summary(aov(as.formula(paste(var, \"~ cluster\")), data = df)), silent = TRUE)\n",
    "      if(!inherits(test, \"try-error\")) {\n",
    "        p_value <- test[[1]][[\"Pr(>F)\"]][1]\n",
    "        \n",
    "        test_results <- bind_rows(test_results, data.frame(\n",
    "          Variable = var,\n",
    "          Test = \"ANOVA\",\n",
    "          P_Value = p_value,\n",
    "          Significance = ifelse(p_value < 0.05, \"*\", \"\"),\n",
    "          stringsAsFactors = FALSE\n",
    "        ))\n",
    "      }\n",
    "      \n",
    "    } else {\n",
    "      test <- try(chisq.test(table(df[[var]], df$cluster)), silent = TRUE)\n",
    "      if(!inherits(test, \"try-error\")) {\n",
    "        p_value <- test$p.value\n",
    "        \n",
    "        test_results <- bind_rows(test_results, data.frame(\n",
    "          Variable = var,\n",
    "          Test = \"Chi-square\",\n",
    "          P_Value = p_value,\n",
    "          Significance = ifelse(p_value < 0.05, \"*\", \"\"),\n",
    "          stringsAsFactors = FALSE\n",
    "        ))\n",
    "      }\n",
    "    }\n",
    "  }\n",
    "  \n",
    "  return(test_results)\n",
    "}\n",
    "\n",
    "all_vars <- unlist(covariates)\n",
    "\n",
    "test_results <- run_tests(df, all_vars)\n",
    "\n",
    "kable(test_results,\n",
    "      caption = \"Results of statistical tests\",\n",
    "      col.names = c(\"Variable\", \"Test\", \"P-value\", \"Significance (p<0.05)\"),\n",
    "      digits = 3)\n",
    "\n",
    "significant_vars <- test_results$Variable[test_results$P_Value < 0.05]\n",
    "\n",
    "create_plots <- function(df, significant_vars) {\n",
    "  plots <- list()\n",
    "  \n",
    "  for(var in significant_vars) {\n",
    "    if(!var %in% names(df)) next\n",
    "    \n",
    "    var_label <- var\n",
    "    \n",
    "    if(is.numeric(df[[var]])) {\n",
    "      p <- ggplot(df, aes(x = factor(cluster), y = !!sym(var), fill = factor(cluster))) +\n",
    "        geom_boxplot() +\n",
    "        labs(title = paste(\"Distribution of\", var_label, \"for cluster\"),\n",
    "             x = \"Cluster\",\n",
    "             y = var_label) +\n",
    "        theme_minimal() +\n",
    "        theme(legend.position = \"none\")\n",
    "      \n",
    "      plots[[var]] <- p\n",
    "    } else {\n",
    "      p <- df %>%\n",
    "        group_by(cluster, !!sym(var)) %>%\n",
    "        summarise(count = n(), .groups = \"drop\") %>%\n",
    "        group_by(cluster) %>%\n",
    "        mutate(percentage = count / sum(count) * 100) %>%\n",
    "        ggplot(aes(x = factor(cluster), y = percentage, fill = factor(!!sym(var)))) +\n",
    "        geom_bar(stat = \"identity\", position = \"fill\") +\n",
    "        labs(title = paste(\"Distribution of\", var_label, \"for cluster\"),\n",
    "             x = \"Cluster\",\n",
    "             y = \"Percentage\",\n",
    "             fill = var_label) +\n",
    "        theme_minimal() +\n",
    "        scale_y_continuous(labels = scales::percent_format(scale = 1))\n",
    "      \n",
    "      plots[[var]] <- p\n",
    "    }\n",
    "  }\n",
    "  \n",
    "  return(plots)\n",
    "}\n",
    "\n",
    "plots <- create_plots(df, significant_vars)"
   ]
  },
  {
   "cell_type": "code",
   "execution_count": null,
   "metadata": {
    "vscode": {
     "languageId": "r"
    }
   },
   "outputs": [],
   "source": [
    "library(gridExtra)\n",
    "options(repr.plot.width = 14, repr.plot.height = 10)\n",
    "grid.arrange(grobs = plots, ncol = 2)"
   ]
  },
  {
   "cell_type": "markdown",
   "metadata": {},
   "source": [
    "### Descriptive Analysis"
   ]
  },
  {
   "cell_type": "markdown",
   "metadata": {},
   "source": [
    "#### Merging datasets\n",
    "> using only 3 features from general oral health"
   ]
  },
  {
   "cell_type": "code",
   "execution_count": 8,
   "metadata": {
    "vscode": {
     "languageId": "r"
    }
   },
   "outputs": [
    {
     "name": "stdout",
     "output_type": "stream",
     "text": [
      "[1] \"Dimensions before removing NA values\"\n"
     ]
    },
    {
     "data": {
      "text/html": [
       "<style>\n",
       ".list-inline {list-style: none; margin:0; padding: 0}\n",
       ".list-inline>li {display: inline-block}\n",
       ".list-inline>li:not(:last-child)::after {content: \"\\00b7\"; padding: 0 .5ex}\n",
       "</style>\n",
       "<ol class=list-inline><li>30468</li><li>33</li></ol>\n"
      ],
      "text/latex": [
       "\\begin{enumerate*}\n",
       "\\item 30468\n",
       "\\item 33\n",
       "\\end{enumerate*}\n"
      ],
      "text/markdown": [
       "1. 30468\n",
       "2. 33\n",
       "\n",
       "\n"
      ],
      "text/plain": [
       "[1] 30468    33"
      ]
     },
     "metadata": {},
     "output_type": "display_data"
    },
    {
     "name": "stdout",
     "output_type": "stream",
     "text": [
      "[1] \"Dimensions with only 3 oral health features before removing NA values\"\n"
     ]
    },
    {
     "data": {
      "text/html": [
       "<style>\n",
       ".list-inline {list-style: none; margin:0; padding: 0}\n",
       ".list-inline>li {display: inline-block}\n",
       ".list-inline>li:not(:last-child)::after {content: \"\\00b7\"; padding: 0 .5ex}\n",
       "</style>\n",
       "<ol class=list-inline><li>30468</li><li>28</li></ol>\n"
      ],
      "text/latex": [
       "\\begin{enumerate*}\n",
       "\\item 30468\n",
       "\\item 28\n",
       "\\end{enumerate*}\n"
      ],
      "text/markdown": [
       "1. 30468\n",
       "2. 28\n",
       "\n",
       "\n"
      ],
      "text/plain": [
       "[1] 30468    28"
      ]
     },
     "metadata": {},
     "output_type": "display_data"
    },
    {
     "name": "stdout",
     "output_type": "stream",
     "text": [
      "[1] \"Dimensions with AGE >= 60\"\n"
     ]
    },
    {
     "data": {
      "text/html": [
       "<style>\n",
       ".list-inline {list-style: none; margin:0; padding: 0}\n",
       ".list-inline>li {display: inline-block}\n",
       ".list-inline>li:not(:last-child)::after {content: \"\\00b7\"; padding: 0 .5ex}\n",
       "</style>\n",
       "<ol class=list-inline><li>5705</li><li>28</li></ol>\n"
      ],
      "text/latex": [
       "\\begin{enumerate*}\n",
       "\\item 5705\n",
       "\\item 28\n",
       "\\end{enumerate*}\n"
      ],
      "text/markdown": [
       "1. 5705\n",
       "2. 28\n",
       "\n",
       "\n"
      ],
      "text/plain": [
       "[1] 5705   28"
      ]
     },
     "metadata": {},
     "output_type": "display_data"
    },
    {
     "name": "stdout",
     "output_type": "stream",
     "text": [
      "[1] \"Dimensions without IC missing values\"\n"
     ]
    },
    {
     "data": {
      "text/html": [
       "<style>\n",
       ".list-inline {list-style: none; margin:0; padding: 0}\n",
       ".list-inline>li {display: inline-block}\n",
       ".list-inline>li:not(:last-child)::after {content: \"\\00b7\"; padding: 0 .5ex}\n",
       "</style>\n",
       "<ol class=list-inline><li>994</li><li>28</li></ol>\n"
      ],
      "text/latex": [
       "\\begin{enumerate*}\n",
       "\\item 994\n",
       "\\item 28\n",
       "\\end{enumerate*}\n"
      ],
      "text/markdown": [
       "1. 994\n",
       "2. 28\n",
       "\n",
       "\n"
      ],
      "text/plain": [
       "[1] 994  28"
      ]
     },
     "metadata": {},
     "output_type": "display_data"
    },
    {
     "name": "stdout",
     "output_type": "stream",
     "text": [
      "[1] \"Dimensions without complete Oral examination (missing values)\"\n"
     ]
    },
    {
     "data": {
      "text/html": [
       "<style>\n",
       ".list-inline {list-style: none; margin:0; padding: 0}\n",
       ".list-inline>li {display: inline-block}\n",
       ".list-inline>li:not(:last-child)::after {content: \"\\00b7\"; padding: 0 .5ex}\n",
       "</style>\n",
       "<ol class=list-inline><li>945</li><li>28</li></ol>\n"
      ],
      "text/latex": [
       "\\begin{enumerate*}\n",
       "\\item 945\n",
       "\\item 28\n",
       "\\end{enumerate*}\n"
      ],
      "text/markdown": [
       "1. 945\n",
       "2. 28\n",
       "\n",
       "\n"
      ],
      "text/plain": [
       "[1] 945  28"
      ]
     },
     "metadata": {},
     "output_type": "display_data"
    },
    {
     "name": "stdout",
     "output_type": "stream",
     "text": [
      "[1] \"Dimensions without Confounding missing values\"\n"
     ]
    },
    {
     "data": {
      "text/html": [
       "<style>\n",
       ".list-inline {list-style: none; margin:0; padding: 0}\n",
       ".list-inline>li {display: inline-block}\n",
       ".list-inline>li:not(:last-child)::after {content: \"\\00b7\"; padding: 0 .5ex}\n",
       "</style>\n",
       "<ol class=list-inline><li>845</li><li>28</li></ol>\n"
      ],
      "text/latex": [
       "\\begin{enumerate*}\n",
       "\\item 845\n",
       "\\item 28\n",
       "\\end{enumerate*}\n"
      ],
      "text/markdown": [
       "1. 845\n",
       "2. 28\n",
       "\n",
       "\n"
      ],
      "text/plain": [
       "[1] 845  28"
      ]
     },
     "metadata": {},
     "output_type": "display_data"
    }
   ],
   "source": [
    "# Merge datasets demographics and intrinsic capacity data\n",
    "\n",
    "datasets_09_10 <- list(\n",
    "  demo_09_10_selected, alcohol_09_10_selected, smoking_09_10_selected, med_conditions_09_10_selected,\n",
    "  blood_pressure_09_10_selected, diabetes_09_10_selected,\n",
    "  locomotion_09_10_selected, mental_health_09_10_selected,\n",
    "  weight_history_09_10_selected, audiometry_09_10_selected, oral_09_10_selected\n",
    ")\n",
    "\n",
    "datasets_11_12 <- list(\n",
    "  demo_11_12_selected, alcohol_11_12_selected, smoking_11_12_selected, med_conditions_11_12_selected,\n",
    "  blood_pressure_11_12_selected, diabetes_11_12_selected,\n",
    "  locomotion_11_12_selected, mental_health_11_12_selected,\n",
    "  weight_history_11_12_selected, audiometry_11_12_selected, oral_11_12_selected\n",
    ")\n",
    "\n",
    "datasets_13_14 <- list(\n",
    "  demo_13_14_selected, alcohol_13_14_selected, smoking_13_14_selected, med_conditions_13_14_selected,\n",
    "  blood_pressure_13_14_selected, diabetes_13_14_selected,\n",
    "  locomotion_13_14_selected, disability_13_14_selected, mental_health_13_14_selected,\n",
    "  weight_history_13_14_selected, oral_13_14_selected\n",
    ")\n",
    "\n",
    "# Horizontal union for period 2009/10, 2011/12, 2013/14\n",
    "\n",
    "df_09_10 <- Reduce(function(x, y) full_join(x, y, by = \"SEQN\"), datasets_09_10)\n",
    "\n",
    "df_11_12 <- Reduce(function(x, y) full_join(x, y, by = \"SEQN\"), datasets_11_12)\n",
    "\n",
    "df_13_14 <- Reduce(function(x, y) full_join(x, y, by = \"SEQN\"), datasets_13_14)\n",
    "\n",
    "# Vertical union\n",
    "\n",
    "df_final <- bind_rows(df_09_10, df_11_12, df_13_14)\n",
    "\n",
    "print(\"Dimensions before removing NA values\")\n",
    "dim(df_final)\n",
    "\n",
    "df_final = subset(df_final, select = -c(OHQ835,OHQ845, OHQ855, OHQ860, OHQ865))\n",
    "print('Dimensions with only 3 oral health features before removing NA values')\n",
    "dim(df_final)\n",
    "\n",
    "# Filter with AGE >= 60\n",
    "\n",
    "df_final_age_60 <- subset(df_final, RIDAGEYR >= 60)\n",
    "\n",
    "print(\"Dimensions with AGE >= 60\")\n",
    "dim(df_final_age_60)\n",
    "\n",
    "# Excluding patients with missing values in Intrinsic Capacity features\n",
    "\n",
    "df_final_excluding_IC <- df_final_age_60[complete.cases(df_final_age_60[, c('DLQ020', 'PFQ061I', 'DPQ010', 'DPQ020', 'DPQ050', 'DLQ040', 'WHQ060', 'DLQ010')]), ]\n",
    "\n",
    "df_final_excluding_IC <- df_final_excluding_IC %>%\n",
    "  filter(!if_any(c(DLQ020, PFQ061I, DLQ040, WHQ060, DLQ010,\n",
    "                   DPQ020, DPQ050, DPQ010), ~ . == 9))\n",
    "\n",
    "df_final_excluding_IC <- df_final_excluding_IC %>%\n",
    "  filter(!if_any(c(DLQ020, PFQ061I, DLQ040, WHQ060, DLQ010,\n",
    "                   DPQ020, DPQ050, DPQ010), ~ . == 7))\n",
    "\n",
    "df_final_excluding_IC <- df_final_excluding_IC %>%\n",
    "  filter(!if_any(c(DLQ020, PFQ061I, DLQ040, WHQ060, DLQ010,\n",
    "                   DPQ020, DPQ050, DPQ010), ~ . == 99))\n",
    "\n",
    "print(\"Dimensions without IC missing values\")\n",
    "dim(df_final_excluding_IC)\n",
    "\n",
    "# Excluding patients with no examinations for Oral examination\n",
    "\n",
    "df_final_excluding_oral <- df_final_excluding_IC[complete.cases(\n",
    "  df_final_excluding_IC[, c(\n",
    "                            \"OHQ850\",\n",
    "                            \"OHQ870\",\n",
    "                            \"OHQ875\"\n",
    "                          )]), ]\n",
    "\n",
    "df_final_excluding_oral <- df_final_excluding_oral %>%\n",
    "  filter(!if_any(c(OHQ850, OHQ870, OHQ875), ~ . == 9))\n",
    "\n",
    "df_final_excluding_oral <- df_final_excluding_oral %>%\n",
    "  filter(!if_any(c(OHQ850), ~ . == 7))\n",
    "\n",
    "df_final_excluding_oral <- df_final_excluding_oral %>%\n",
    "  filter(!if_any(c(OHQ870, OHQ875), ~ . == 77))\n",
    "\n",
    "df_final_excluding_oral <- df_final_excluding_oral %>%\n",
    "  filter(!if_any(c(OHQ870, OHQ875), ~ . == 99))\n",
    "\n",
    "print(\"Dimensions without complete Oral examination (missing values)\")\n",
    "dim(df_final_excluding_oral)\n",
    "\n",
    "# Excluding patients with missing values in Confounding features\n",
    "\n",
    "df_final_excluding_confounding <- df_final_excluding_oral[complete.cases(df_final_excluding_oral[, \n",
    "                                  c('RIAGENDR', 'RIDAGEYR', 'RIDRETH1', 'DMDEDUC2', 'INDFMPIR', 'ALQ101', 'SMQ020', 'MCQ160B',\n",
    "                                  'MCQ160C', 'MCQ160D', 'MCQ160E', 'MCQ160F', 'MCQ160L', 'MCQ220', 'BPQ020', 'DIQ010')]), ]\n",
    "\n",
    "df_final_merged <- df_final_excluding_confounding %>%\n",
    "  filter(!if_any(c(DMDEDUC2, ALQ101, MCQ160B, MCQ160C, MCQ160D,\n",
    "                   MCQ160E, MCQ160F, MCQ160L, BPQ020, DIQ010), ~ . == 9))\n",
    "\n",
    "print(\"Dimensions without Confounding missing values\")\n",
    "dim(df_final_merged)"
   ]
  },
  {
   "cell_type": "code",
   "execution_count": 9,
   "metadata": {
    "vscode": {
     "languageId": "r"
    }
   },
   "outputs": [],
   "source": [
    "# Saving preprocessed\n",
    "\n",
    "write.csv(df_final_merged, \"/Users/silvanoquarto/Desktop/LAVORO/MEDICAL_PHYSICS/Med-Physics/data/NHANES/df_oral_health_09_14_3_features.csv\", row.names=FALSE)"
   ]
  },
  {
   "cell_type": "markdown",
   "metadata": {},
   "source": [
    "#### Loading DF & Weights"
   ]
  },
  {
   "cell_type": "code",
   "execution_count": 10,
   "metadata": {
    "vscode": {
     "languageId": "r"
    }
   },
   "outputs": [
    {
     "data": {
      "text/html": [
       "<table class=\"dataframe\">\n",
       "<caption>A data.frame: 6 x 28</caption>\n",
       "<thead>\n",
       "\t<tr><th></th><th scope=col>SEQN</th><th scope=col>RIAGENDR</th><th scope=col>RIDAGEYR</th><th scope=col>RIDRETH1</th><th scope=col>DMDEDUC2</th><th scope=col>INDFMPIR</th><th scope=col>ALQ101</th><th scope=col>SMQ020</th><th scope=col>DLQ020</th><th scope=col>MCQ160B</th><th scope=col>...</th><th scope=col>PFQ061I</th><th scope=col>DPQ010</th><th scope=col>DPQ020</th><th scope=col>DPQ050</th><th scope=col>DLQ040</th><th scope=col>WHQ060</th><th scope=col>DLQ010</th><th scope=col>OHQ850</th><th scope=col>OHQ870</th><th scope=col>OHQ875</th></tr>\n",
       "\t<tr><th></th><th scope=col>&lt;int&gt;</th><th scope=col>&lt;int&gt;</th><th scope=col>&lt;int&gt;</th><th scope=col>&lt;int&gt;</th><th scope=col>&lt;int&gt;</th><th scope=col>&lt;dbl&gt;</th><th scope=col>&lt;int&gt;</th><th scope=col>&lt;int&gt;</th><th scope=col>&lt;int&gt;</th><th scope=col>&lt;int&gt;</th><th scope=col>...</th><th scope=col>&lt;int&gt;</th><th scope=col>&lt;int&gt;</th><th scope=col>&lt;int&gt;</th><th scope=col>&lt;int&gt;</th><th scope=col>&lt;int&gt;</th><th scope=col>&lt;int&gt;</th><th scope=col>&lt;int&gt;</th><th scope=col>&lt;int&gt;</th><th scope=col>&lt;int&gt;</th><th scope=col>&lt;int&gt;</th></tr>\n",
       "</thead>\n",
       "<tbody>\n",
       "\t<tr><th scope=row>1</th><td>51633</td><td>1</td><td>80</td><td>3</td><td>4</td><td>1.27</td><td>1</td><td>1</td><td>1</td><td>2</td><td>...</td><td>1</td><td>0</td><td>0</td><td>0</td><td>2</td><td>1</td><td>2</td><td>2</td><td>5</td><td>6</td></tr>\n",
       "\t<tr><th scope=row>2</th><td>51654</td><td>1</td><td>66</td><td>3</td><td>4</td><td>2.20</td><td>1</td><td>1</td><td>2</td><td>2</td><td>...</td><td>1</td><td>0</td><td>0</td><td>0</td><td>2</td><td>2</td><td>2</td><td>1</td><td>7</td><td>7</td></tr>\n",
       "\t<tr><th scope=row>3</th><td>51680</td><td>2</td><td>60</td><td>4</td><td>4</td><td>2.59</td><td>1</td><td>1</td><td>1</td><td>2</td><td>...</td><td>1</td><td>0</td><td>1</td><td>1</td><td>2</td><td>1</td><td>2</td><td>2</td><td>7</td><td>0</td></tr>\n",
       "\t<tr><th scope=row>4</th><td>51687</td><td>1</td><td>78</td><td>3</td><td>5</td><td>5.00</td><td>1</td><td>1</td><td>2</td><td>2</td><td>...</td><td>1</td><td>0</td><td>0</td><td>0</td><td>2</td><td>2</td><td>2</td><td>2</td><td>7</td><td>0</td></tr>\n",
       "\t<tr><th scope=row>5</th><td>51736</td><td>2</td><td>60</td><td>1</td><td>3</td><td>0.68</td><td>1</td><td>1</td><td>2</td><td>2</td><td>...</td><td>1</td><td>0</td><td>1</td><td>0</td><td>2</td><td>1</td><td>2</td><td>2</td><td>4</td><td>6</td></tr>\n",
       "\t<tr><th scope=row>6</th><td>51861</td><td>1</td><td>80</td><td>3</td><td>3</td><td>4.94</td><td>1</td><td>2</td><td>2</td><td>2</td><td>...</td><td>2</td><td>0</td><td>0</td><td>0</td><td>2</td><td>1</td><td>1</td><td>2</td><td>0</td><td>7</td></tr>\n",
       "</tbody>\n",
       "</table>\n"
      ],
      "text/latex": [
       "A data.frame: 6 x 28\n",
       "\\begin{tabular}{r|lllllllllllllllllllll}\n",
       "  & SEQN & RIAGENDR & RIDAGEYR & RIDRETH1 & DMDEDUC2 & INDFMPIR & ALQ101 & SMQ020 & DLQ020 & MCQ160B & ... & PFQ061I & DPQ010 & DPQ020 & DPQ050 & DLQ040 & WHQ060 & DLQ010 & OHQ850 & OHQ870 & OHQ875\\\\\n",
       "  & <int> & <int> & <int> & <int> & <int> & <dbl> & <int> & <int> & <int> & <int> & ... & <int> & <int> & <int> & <int> & <int> & <int> & <int> & <int> & <int> & <int>\\\\\n",
       "\\hline\n",
       "\t1 & 51633 & 1 & 80 & 3 & 4 & 1.27 & 1 & 1 & 1 & 2 & ... & 1 & 0 & 0 & 0 & 2 & 1 & 2 & 2 & 5 & 6\\\\\n",
       "\t2 & 51654 & 1 & 66 & 3 & 4 & 2.20 & 1 & 1 & 2 & 2 & ... & 1 & 0 & 0 & 0 & 2 & 2 & 2 & 1 & 7 & 7\\\\\n",
       "\t3 & 51680 & 2 & 60 & 4 & 4 & 2.59 & 1 & 1 & 1 & 2 & ... & 1 & 0 & 1 & 1 & 2 & 1 & 2 & 2 & 7 & 0\\\\\n",
       "\t4 & 51687 & 1 & 78 & 3 & 5 & 5.00 & 1 & 1 & 2 & 2 & ... & 1 & 0 & 0 & 0 & 2 & 2 & 2 & 2 & 7 & 0\\\\\n",
       "\t5 & 51736 & 2 & 60 & 1 & 3 & 0.68 & 1 & 1 & 2 & 2 & ... & 1 & 0 & 1 & 0 & 2 & 1 & 2 & 2 & 4 & 6\\\\\n",
       "\t6 & 51861 & 1 & 80 & 3 & 3 & 4.94 & 1 & 2 & 2 & 2 & ... & 2 & 0 & 0 & 0 & 2 & 1 & 1 & 2 & 0 & 7\\\\\n",
       "\\end{tabular}\n"
      ],
      "text/markdown": [
       "\n",
       "A data.frame: 6 x 28\n",
       "\n",
       "| <!--/--> | SEQN &lt;int&gt; | RIAGENDR &lt;int&gt; | RIDAGEYR &lt;int&gt; | RIDRETH1 &lt;int&gt; | DMDEDUC2 &lt;int&gt; | INDFMPIR &lt;dbl&gt; | ALQ101 &lt;int&gt; | SMQ020 &lt;int&gt; | DLQ020 &lt;int&gt; | MCQ160B &lt;int&gt; | ... ... | PFQ061I &lt;int&gt; | DPQ010 &lt;int&gt; | DPQ020 &lt;int&gt; | DPQ050 &lt;int&gt; | DLQ040 &lt;int&gt; | WHQ060 &lt;int&gt; | DLQ010 &lt;int&gt; | OHQ850 &lt;int&gt; | OHQ870 &lt;int&gt; | OHQ875 &lt;int&gt; |\n",
       "|---|---|---|---|---|---|---|---|---|---|---|---|---|---|---|---|---|---|---|---|---|---|\n",
       "| 1 | 51633 | 1 | 80 | 3 | 4 | 1.27 | 1 | 1 | 1 | 2 | ... | 1 | 0 | 0 | 0 | 2 | 1 | 2 | 2 | 5 | 6 |\n",
       "| 2 | 51654 | 1 | 66 | 3 | 4 | 2.20 | 1 | 1 | 2 | 2 | ... | 1 | 0 | 0 | 0 | 2 | 2 | 2 | 1 | 7 | 7 |\n",
       "| 3 | 51680 | 2 | 60 | 4 | 4 | 2.59 | 1 | 1 | 1 | 2 | ... | 1 | 0 | 1 | 1 | 2 | 1 | 2 | 2 | 7 | 0 |\n",
       "| 4 | 51687 | 1 | 78 | 3 | 5 | 5.00 | 1 | 1 | 2 | 2 | ... | 1 | 0 | 0 | 0 | 2 | 2 | 2 | 2 | 7 | 0 |\n",
       "| 5 | 51736 | 2 | 60 | 1 | 3 | 0.68 | 1 | 1 | 2 | 2 | ... | 1 | 0 | 1 | 0 | 2 | 1 | 2 | 2 | 4 | 6 |\n",
       "| 6 | 51861 | 1 | 80 | 3 | 3 | 4.94 | 1 | 2 | 2 | 2 | ... | 2 | 0 | 0 | 0 | 2 | 1 | 1 | 2 | 0 | 7 |\n",
       "\n"
      ],
      "text/plain": [
       "  SEQN  RIAGENDR RIDAGEYR RIDRETH1 DMDEDUC2 INDFMPIR ALQ101 SMQ020 DLQ020\n",
       "1 51633 1        80       3        4        1.27     1      1      1     \n",
       "2 51654 1        66       3        4        2.20     1      1      2     \n",
       "3 51680 2        60       4        4        2.59     1      1      1     \n",
       "4 51687 1        78       3        5        5.00     1      1      2     \n",
       "5 51736 2        60       1        3        0.68     1      1      2     \n",
       "6 51861 1        80       3        3        4.94     1      2      2     \n",
       "  MCQ160B ... PFQ061I DPQ010 DPQ020 DPQ050 DLQ040 WHQ060 DLQ010 OHQ850 OHQ870\n",
       "1 2       ... 1       0      0      0      2      1      2      2      5     \n",
       "2 2       ... 1       0      0      0      2      2      2      1      7     \n",
       "3 2       ... 1       0      1      1      2      1      2      2      7     \n",
       "4 2       ... 1       0      0      0      2      2      2      2      7     \n",
       "5 2       ... 1       0      1      0      2      1      2      2      4     \n",
       "6 2       ... 2       0      0      0      2      1      1      2      0     \n",
       "  OHQ875\n",
       "1 6     \n",
       "2 7     \n",
       "3 0     \n",
       "4 0     \n",
       "5 6     \n",
       "6 7     "
      ]
     },
     "metadata": {},
     "output_type": "display_data"
    }
   ],
   "source": [
    "three_features = TRUE\n",
    "\n",
    "if (three_features == TRUE) {\n",
    "   df_path = \"/Users/silvanoquarto/Desktop/LAVORO/MEDICAL_PHYSICS/Med-Physics/data/NHANES/df_oral_health_09_14_3_features.csv\"\n",
    "} else {\n",
    "   df_path = \"/Users/silvanoquarto/Desktop/LAVORO/MEDICAL_PHYSICS/Med-Physics/data/NHANES/df_oral_health_09_14.csv\"\n",
    "}\n",
    "\n",
    "df <- read.csv(df_path, \n",
    "              stringsAsFactors = TRUE)\n",
    "\n",
    "head(df)"
   ]
  },
  {
   "cell_type": "code",
   "execution_count": 6,
   "metadata": {
    "vscode": {
     "languageId": "r"
    }
   },
   "outputs": [
    {
     "name": "stdout",
     "output_type": "stream",
     "text": [
      "[1] \"Dimensions before removing NA values\"\n"
     ]
    },
    {
     "data": {
      "text/html": [
       "<style>\n",
       ".list-inline {list-style: none; margin:0; padding: 0}\n",
       ".list-inline>li {display: inline-block}\n",
       ".list-inline>li:not(:last-child)::after {content: \"\\00b7\"; padding: 0 .5ex}\n",
       "</style>\n",
       "<ol class=list-inline><li>30468</li><li>5</li></ol>\n"
      ],
      "text/latex": [
       "\\begin{enumerate*}\n",
       "\\item 30468\n",
       "\\item 5\n",
       "\\end{enumerate*}\n"
      ],
      "text/markdown": [
       "1. 30468\n",
       "2. 5\n",
       "\n",
       "\n"
      ],
      "text/plain": [
       "[1] 30468     5"
      ]
     },
     "metadata": {},
     "output_type": "display_data"
    },
    {
     "name": "stdout",
     "output_type": "stream",
     "text": [
      "[1] \"Dimensions with AGE >= 60\"\n"
     ]
    },
    {
     "data": {
      "text/html": [
       "<style>\n",
       ".list-inline {list-style: none; margin:0; padding: 0}\n",
       ".list-inline>li {display: inline-block}\n",
       ".list-inline>li:not(:last-child)::after {content: \"\\00b7\"; padding: 0 .5ex}\n",
       "</style>\n",
       "<ol class=list-inline><li>5705</li><li>5</li></ol>\n"
      ],
      "text/latex": [
       "\\begin{enumerate*}\n",
       "\\item 5705\n",
       "\\item 5\n",
       "\\end{enumerate*}\n"
      ],
      "text/markdown": [
       "1. 5705\n",
       "2. 5\n",
       "\n",
       "\n"
      ],
      "text/plain": [
       "[1] 5705    5"
      ]
     },
     "metadata": {},
     "output_type": "display_data"
    },
    {
     "data": {
      "text/html": [
       "<table class=\"dataframe\">\n",
       "<caption>A tibble: 6 x 4</caption>\n",
       "<thead>\n",
       "\t<tr><th scope=col>SEQN</th><th scope=col>WTMEC2YR</th><th scope=col>SDMVPSU</th><th scope=col>SDMVSTRA</th></tr>\n",
       "\t<tr><th scope=col>&lt;dbl&gt;</th><th scope=col>&lt;dbl&gt;</th><th scope=col>&lt;dbl&gt;</th><th scope=col>&lt;dbl&gt;</th></tr>\n",
       "</thead>\n",
       "<tbody>\n",
       "\t<tr><td>51628</td><td>21000.339</td><td>2</td><td>75</td></tr>\n",
       "\t<tr><td>51633</td><td>12381.115</td><td>1</td><td>77</td></tr>\n",
       "\t<tr><td>51635</td><td>22502.507</td><td>1</td><td>79</td></tr>\n",
       "\t<tr><td>51645</td><td> 9590.458</td><td>1</td><td>75</td></tr>\n",
       "\t<tr><td>51654</td><td>55670.350</td><td>2</td><td>86</td></tr>\n",
       "\t<tr><td>51661</td><td> 6385.327</td><td>2</td><td>88</td></tr>\n",
       "</tbody>\n",
       "</table>\n"
      ],
      "text/latex": [
       "A tibble: 6 x 4\n",
       "\\begin{tabular}{llll}\n",
       " SEQN & WTMEC2YR & SDMVPSU & SDMVSTRA\\\\\n",
       " <dbl> & <dbl> & <dbl> & <dbl>\\\\\n",
       "\\hline\n",
       "\t 51628 & 21000.339 & 2 & 75\\\\\n",
       "\t 51633 & 12381.115 & 1 & 77\\\\\n",
       "\t 51635 & 22502.507 & 1 & 79\\\\\n",
       "\t 51645 &  9590.458 & 1 & 75\\\\\n",
       "\t 51654 & 55670.350 & 2 & 86\\\\\n",
       "\t 51661 &  6385.327 & 2 & 88\\\\\n",
       "\\end{tabular}\n"
      ],
      "text/markdown": [
       "\n",
       "A tibble: 6 x 4\n",
       "\n",
       "| SEQN &lt;dbl&gt; | WTMEC2YR &lt;dbl&gt; | SDMVPSU &lt;dbl&gt; | SDMVSTRA &lt;dbl&gt; |\n",
       "|---|---|---|---|\n",
       "| 51628 | 21000.339 | 2 | 75 |\n",
       "| 51633 | 12381.115 | 1 | 77 |\n",
       "| 51635 | 22502.507 | 1 | 79 |\n",
       "| 51645 |  9590.458 | 1 | 75 |\n",
       "| 51654 | 55670.350 | 2 | 86 |\n",
       "| 51661 |  6385.327 | 2 | 88 |\n",
       "\n"
      ],
      "text/plain": [
       "  SEQN  WTMEC2YR  SDMVPSU SDMVSTRA\n",
       "1 51628 21000.339 2       75      \n",
       "2 51633 12381.115 1       77      \n",
       "3 51635 22502.507 1       79      \n",
       "4 51645  9590.458 1       75      \n",
       "5 51654 55670.350 2       86      \n",
       "6 51661  6385.327 2       88      "
      ]
     },
     "metadata": {},
     "output_type": "display_data"
    },
    {
     "data": {
      "text/html": [
       "<style>\n",
       ".list-inline {list-style: none; margin:0; padding: 0}\n",
       ".list-inline>li {display: inline-block}\n",
       ".list-inline>li:not(:last-child)::after {content: \"\\00b7\"; padding: 0 .5ex}\n",
       "</style>\n",
       "<ol class=list-inline><li>828</li><li>36</li></ol>\n"
      ],
      "text/latex": [
       "\\begin{enumerate*}\n",
       "\\item 828\n",
       "\\item 36\n",
       "\\end{enumerate*}\n"
      ],
      "text/markdown": [
       "1. 828\n",
       "2. 36\n",
       "\n",
       "\n"
      ],
      "text/plain": [
       "[1] 828  36"
      ]
     },
     "metadata": {},
     "output_type": "display_data"
    }
   ],
   "source": [
    "# Select weights\n",
    "\n",
    "# Weights from Demographic datasets\n",
    "\n",
    "demo_09_10 <- read_xpt(file.path(path_to_data_09_10, \"DEMO_F.xpt\"))\n",
    "\n",
    "demo_09_10_weights <- demo_09_10 %>%\n",
    "    select(SEQN, RIDAGEYR, WTMEC2YR, SDMVPSU, SDMVSTRA)\n",
    "\n",
    "demo_11_12 <- read_xpt(file.path(path_to_data_11_12, \"DEMO_G.xpt.txt\"))\n",
    "\n",
    "demo_11_12_weights <- demo_11_12 %>%\n",
    "    select(SEQN, RIDAGEYR, WTMEC2YR, SDMVPSU, SDMVSTRA)\n",
    "\n",
    "demo_13_14 <- read_xpt(file.path(path_to_data_13_14, \"DEMO_H.xpt.txt\"))\n",
    "\n",
    "demo_13_14_weights <- demo_13_14 %>%\n",
    "    select(SEQN, RIDAGEYR, WTMEC2YR, SDMVPSU, SDMVSTRA)\n",
    "\n",
    "weights_09_10 <- list(\n",
    "  demo_09_10_weights\n",
    ")\n",
    "\n",
    "weights_11_12 <- list(\n",
    "  demo_11_12_weights\n",
    ")\n",
    "\n",
    "weights_13_14 <- list(\n",
    "  demo_13_14_weights\n",
    ")\n",
    "\n",
    "# Horizontal union for period 2009/10, 2011/12, 2013/14\n",
    "\n",
    "wt_09_10 <- Reduce(function(x, y) full_join(x, y, by = \"SEQN\"), weights_09_10)\n",
    "\n",
    "wt_11_12 <- Reduce(function(x, y) full_join(x, y, by = \"SEQN\"), weights_11_12)\n",
    "\n",
    "wt_13_14 <- Reduce(function(x, y) full_join(x, y, by = \"SEQN\"), weights_13_14)\n",
    "\n",
    "# Vertical union\n",
    "\n",
    "wt_final <- bind_rows(wt_09_10, wt_11_12, wt_13_14)\n",
    "\n",
    "print(\"Dimensions before removing NA values\")\n",
    "dim(wt_final)\n",
    "\n",
    "# Filter with AGE >= 60\n",
    "\n",
    "wt_final_age_60 <- subset(wt_final, RIDAGEYR >= 60)\n",
    "\n",
    "print(\"Dimensions with AGE >= 60\")\n",
    "dim(wt_final_age_60)\n",
    "\n",
    "wt_final_age_60 <- subset(wt_final_age_60, select = -RIDAGEYR)\n",
    "head(wt_final_age_60)\n",
    "\n",
    "# Merge wt_final_age_60 with my final data frame\n",
    "\n",
    "df_final_merged <- df %>%\n",
    "  inner_join(wt_final_age_60, by = \"SEQN\")\n",
    "\n",
    "dim(df_final_merged)"
   ]
  },
  {
   "cell_type": "code",
   "execution_count": 7,
   "metadata": {
    "vscode": {
     "languageId": "r"
    }
   },
   "outputs": [
    {
     "data": {
      "text/html": [
       "<table class=\"dataframe\">\n",
       "<caption>A data.frame: 6 x 37</caption>\n",
       "<thead>\n",
       "\t<tr><th></th><th scope=col>SEQN</th><th scope=col>RIAGENDR</th><th scope=col>RIDAGEYR</th><th scope=col>RIDRETH1</th><th scope=col>DMDEDUC2</th><th scope=col>INDFMPIR</th><th scope=col>ALQ101</th><th scope=col>SMQ020</th><th scope=col>DLQ020</th><th scope=col>MCQ160B</th><th scope=col>...</th><th scope=col>OHQ850</th><th scope=col>OHQ855</th><th scope=col>OHQ860</th><th scope=col>OHQ865</th><th scope=col>OHQ870</th><th scope=col>OHQ875</th><th scope=col>WTMEC2YR</th><th scope=col>SDMVPSU</th><th scope=col>SDMVSTRA</th><th scope=col>wt</th></tr>\n",
       "\t<tr><th></th><th scope=col>&lt;dbl&gt;</th><th scope=col>&lt;int&gt;</th><th scope=col>&lt;int&gt;</th><th scope=col>&lt;int&gt;</th><th scope=col>&lt;int&gt;</th><th scope=col>&lt;dbl&gt;</th><th scope=col>&lt;int&gt;</th><th scope=col>&lt;int&gt;</th><th scope=col>&lt;int&gt;</th><th scope=col>&lt;int&gt;</th><th scope=col>...</th><th scope=col>&lt;int&gt;</th><th scope=col>&lt;int&gt;</th><th scope=col>&lt;int&gt;</th><th scope=col>&lt;int&gt;</th><th scope=col>&lt;int&gt;</th><th scope=col>&lt;int&gt;</th><th scope=col>&lt;dbl&gt;</th><th scope=col>&lt;dbl&gt;</th><th scope=col>&lt;dbl&gt;</th><th scope=col>&lt;dbl&gt;</th></tr>\n",
       "</thead>\n",
       "<tbody>\n",
       "\t<tr><th scope=row>1</th><td>51633</td><td>1</td><td>80</td><td>3</td><td>4</td><td>1.27</td><td>1</td><td>1</td><td>1</td><td>2</td><td>...</td><td>2</td><td>2</td><td>2</td><td>2</td><td>5</td><td>6</td><td>12381.115</td><td>1</td><td>77</td><td> 4127.038</td></tr>\n",
       "\t<tr><th scope=row>2</th><td>51654</td><td>1</td><td>66</td><td>3</td><td>4</td><td>2.20</td><td>1</td><td>1</td><td>2</td><td>2</td><td>...</td><td>1</td><td>2</td><td>1</td><td>2</td><td>7</td><td>7</td><td>55670.350</td><td>2</td><td>86</td><td>18556.783</td></tr>\n",
       "\t<tr><th scope=row>3</th><td>51680</td><td>2</td><td>60</td><td>4</td><td>4</td><td>2.59</td><td>1</td><td>1</td><td>1</td><td>2</td><td>...</td><td>2</td><td>2</td><td>1</td><td>1</td><td>7</td><td>0</td><td>18341.270</td><td>1</td><td>79</td><td> 6113.757</td></tr>\n",
       "\t<tr><th scope=row>4</th><td>51687</td><td>1</td><td>78</td><td>3</td><td>5</td><td>5.00</td><td>1</td><td>1</td><td>2</td><td>2</td><td>...</td><td>2</td><td>2</td><td>2</td><td>2</td><td>7</td><td>0</td><td>42248.559</td><td>2</td><td>82</td><td>14082.853</td></tr>\n",
       "\t<tr><th scope=row>5</th><td>51736</td><td>2</td><td>60</td><td>1</td><td>3</td><td>0.68</td><td>1</td><td>1</td><td>2</td><td>2</td><td>...</td><td>2</td><td>2</td><td>2</td><td>2</td><td>4</td><td>6</td><td> 7084.377</td><td>1</td><td>81</td><td> 2361.459</td></tr>\n",
       "\t<tr><th scope=row>6</th><td>51861</td><td>1</td><td>80</td><td>3</td><td>3</td><td>4.94</td><td>1</td><td>2</td><td>2</td><td>2</td><td>...</td><td>2</td><td>1</td><td>2</td><td>2</td><td>0</td><td>7</td><td>22127.661</td><td>1</td><td>76</td><td> 7375.887</td></tr>\n",
       "</tbody>\n",
       "</table>\n"
      ],
      "text/latex": [
       "A data.frame: 6 x 37\n",
       "\\begin{tabular}{r|lllllllllllllllllllll}\n",
       "  & SEQN & RIAGENDR & RIDAGEYR & RIDRETH1 & DMDEDUC2 & INDFMPIR & ALQ101 & SMQ020 & DLQ020 & MCQ160B & ... & OHQ850 & OHQ855 & OHQ860 & OHQ865 & OHQ870 & OHQ875 & WTMEC2YR & SDMVPSU & SDMVSTRA & wt\\\\\n",
       "  & <dbl> & <int> & <int> & <int> & <int> & <dbl> & <int> & <int> & <int> & <int> & ... & <int> & <int> & <int> & <int> & <int> & <int> & <dbl> & <dbl> & <dbl> & <dbl>\\\\\n",
       "\\hline\n",
       "\t1 & 51633 & 1 & 80 & 3 & 4 & 1.27 & 1 & 1 & 1 & 2 & ... & 2 & 2 & 2 & 2 & 5 & 6 & 12381.115 & 1 & 77 &  4127.038\\\\\n",
       "\t2 & 51654 & 1 & 66 & 3 & 4 & 2.20 & 1 & 1 & 2 & 2 & ... & 1 & 2 & 1 & 2 & 7 & 7 & 55670.350 & 2 & 86 & 18556.783\\\\\n",
       "\t3 & 51680 & 2 & 60 & 4 & 4 & 2.59 & 1 & 1 & 1 & 2 & ... & 2 & 2 & 1 & 1 & 7 & 0 & 18341.270 & 1 & 79 &  6113.757\\\\\n",
       "\t4 & 51687 & 1 & 78 & 3 & 5 & 5.00 & 1 & 1 & 2 & 2 & ... & 2 & 2 & 2 & 2 & 7 & 0 & 42248.559 & 2 & 82 & 14082.853\\\\\n",
       "\t5 & 51736 & 2 & 60 & 1 & 3 & 0.68 & 1 & 1 & 2 & 2 & ... & 2 & 2 & 2 & 2 & 4 & 6 &  7084.377 & 1 & 81 &  2361.459\\\\\n",
       "\t6 & 51861 & 1 & 80 & 3 & 3 & 4.94 & 1 & 2 & 2 & 2 & ... & 2 & 1 & 2 & 2 & 0 & 7 & 22127.661 & 1 & 76 &  7375.887\\\\\n",
       "\\end{tabular}\n"
      ],
      "text/markdown": [
       "\n",
       "A data.frame: 6 x 37\n",
       "\n",
       "| <!--/--> | SEQN &lt;dbl&gt; | RIAGENDR &lt;int&gt; | RIDAGEYR &lt;int&gt; | RIDRETH1 &lt;int&gt; | DMDEDUC2 &lt;int&gt; | INDFMPIR &lt;dbl&gt; | ALQ101 &lt;int&gt; | SMQ020 &lt;int&gt; | DLQ020 &lt;int&gt; | MCQ160B &lt;int&gt; | ... ... | OHQ850 &lt;int&gt; | OHQ855 &lt;int&gt; | OHQ860 &lt;int&gt; | OHQ865 &lt;int&gt; | OHQ870 &lt;int&gt; | OHQ875 &lt;int&gt; | WTMEC2YR &lt;dbl&gt; | SDMVPSU &lt;dbl&gt; | SDMVSTRA &lt;dbl&gt; | wt &lt;dbl&gt; |\n",
       "|---|---|---|---|---|---|---|---|---|---|---|---|---|---|---|---|---|---|---|---|---|---|\n",
       "| 1 | 51633 | 1 | 80 | 3 | 4 | 1.27 | 1 | 1 | 1 | 2 | ... | 2 | 2 | 2 | 2 | 5 | 6 | 12381.115 | 1 | 77 |  4127.038 |\n",
       "| 2 | 51654 | 1 | 66 | 3 | 4 | 2.20 | 1 | 1 | 2 | 2 | ... | 1 | 2 | 1 | 2 | 7 | 7 | 55670.350 | 2 | 86 | 18556.783 |\n",
       "| 3 | 51680 | 2 | 60 | 4 | 4 | 2.59 | 1 | 1 | 1 | 2 | ... | 2 | 2 | 1 | 1 | 7 | 0 | 18341.270 | 1 | 79 |  6113.757 |\n",
       "| 4 | 51687 | 1 | 78 | 3 | 5 | 5.00 | 1 | 1 | 2 | 2 | ... | 2 | 2 | 2 | 2 | 7 | 0 | 42248.559 | 2 | 82 | 14082.853 |\n",
       "| 5 | 51736 | 2 | 60 | 1 | 3 | 0.68 | 1 | 1 | 2 | 2 | ... | 2 | 2 | 2 | 2 | 4 | 6 |  7084.377 | 1 | 81 |  2361.459 |\n",
       "| 6 | 51861 | 1 | 80 | 3 | 3 | 4.94 | 1 | 2 | 2 | 2 | ... | 2 | 1 | 2 | 2 | 0 | 7 | 22127.661 | 1 | 76 |  7375.887 |\n",
       "\n"
      ],
      "text/plain": [
       "  SEQN  RIAGENDR RIDAGEYR RIDRETH1 DMDEDUC2 INDFMPIR ALQ101 SMQ020 DLQ020\n",
       "1 51633 1        80       3        4        1.27     1      1      1     \n",
       "2 51654 1        66       3        4        2.20     1      1      2     \n",
       "3 51680 2        60       4        4        2.59     1      1      1     \n",
       "4 51687 1        78       3        5        5.00     1      1      2     \n",
       "5 51736 2        60       1        3        0.68     1      1      2     \n",
       "6 51861 1        80       3        3        4.94     1      2      2     \n",
       "  MCQ160B ... OHQ850 OHQ855 OHQ860 OHQ865 OHQ870 OHQ875 WTMEC2YR  SDMVPSU\n",
       "1 2       ... 2      2      2      2      5      6      12381.115 1      \n",
       "2 2       ... 1      2      1      2      7      7      55670.350 2      \n",
       "3 2       ... 2      2      1      1      7      0      18341.270 1      \n",
       "4 2       ... 2      2      2      2      7      0      42248.559 2      \n",
       "5 2       ... 2      2      2      2      4      6       7084.377 1      \n",
       "6 2       ... 2      1      2      2      0      7      22127.661 1      \n",
       "  SDMVSTRA wt       \n",
       "1 77        4127.038\n",
       "2 86       18556.783\n",
       "3 79        6113.757\n",
       "4 82       14082.853\n",
       "5 81        2361.459\n",
       "6 76        7375.887"
      ]
     },
     "metadata": {},
     "output_type": "display_data"
    }
   ],
   "source": [
    "# Preprocessing for WTMEC2YR: divide it for the number of NHANES cycles used (3 for our case)\n",
    "\n",
    "df_final_merged[, \"wt\"] = df_final_merged[, \"WTMEC2YR\"] / 3\n",
    "\n",
    "head(df_final_merged)"
   ]
  },
  {
   "cell_type": "code",
   "execution_count": 8,
   "metadata": {
    "vscode": {
     "languageId": "r"
    }
   },
   "outputs": [],
   "source": [
    "# Save df with weights\n",
    "\n",
    "write.csv(df_final_merged, \"/Users/silvanoquarto/Desktop/LAVORO/MEDICAL_PHYSICS/Med-Physics/data/NHANES/preprocessed_df_oral_health_09_14_with_weights.csv\", row.names=FALSE)"
   ]
  },
  {
   "cell_type": "code",
   "execution_count": 9,
   "metadata": {
    "vscode": {
     "languageId": "r"
    }
   },
   "outputs": [
    {
     "name": "stderr",
     "output_type": "stream",
     "text": [
      "\n",
      "Attaching package: 'srvyr'\n",
      "\n",
      "\n",
      "The following object is masked from 'package:MASS':\n",
      "\n",
      "    select\n",
      "\n",
      "\n",
      "The following object is masked from 'package:stats':\n",
      "\n",
      "    filter\n",
      "\n",
      "\n"
     ]
    },
    {
     "name": "stdout",
     "output_type": "stream",
     "text": [
      "\u001b[90m# A tibble: 1 x 3\u001b[39m\n",
      "       pop  pop_low   pop_upp\n",
      "     \u001b[3m\u001b[90m<dbl>\u001b[39m\u001b[23m    \u001b[3m\u001b[90m<dbl>\u001b[39m\u001b[23m     \u001b[3m\u001b[90m<dbl>\u001b[39m\u001b[23m\n",
      "\u001b[90m1\u001b[39m 8\u001b[4m9\u001b[24m\u001b[4m4\u001b[24m\u001b[4m7\u001b[24m870. 7\u001b[4m7\u001b[24m\u001b[4m4\u001b[24m\u001b[4m5\u001b[24m368. 10\u001b[4m1\u001b[24m\u001b[4m5\u001b[24m\u001b[4m0\u001b[24m373.\n"
     ]
    }
   ],
   "source": [
    "# Using srvyr to check population estimate\n",
    "library(srvyr)\n",
    "\n",
    "svy_obj <- df_final_merged %>%\n",
    "  as_survey_design(\n",
    "    ids = SDMVPSU,\n",
    "    strata = SDMVSTRA,\n",
    "    weights = wt,\n",
    "    nest = TRUE\n",
    "  )\n",
    "\n",
    "pop_est <- svy_obj %>%\n",
    "  summarize(pop = survey_total(1, vartype = \"ci\"))\n",
    "\n",
    "print(pop_est)"
   ]
  },
  {
   "cell_type": "markdown",
   "metadata": {},
   "source": [
    "#### Binarization"
   ]
  },
  {
   "cell_type": "code",
   "execution_count": null,
   "metadata": {
    "vscode": {
     "languageId": "r"
    }
   },
   "outputs": [
    {
     "data": {
      "text/html": [
       "<table class=\"dataframe\">\n",
       "<caption>A data.frame: 6 x 41</caption>\n",
       "<thead>\n",
       "\t<tr><th></th><th scope=col>SEQN</th><th scope=col>RIAGENDR</th><th scope=col>RIDAGEYR</th><th scope=col>RIDRETH1</th><th scope=col>DMDEDUC2</th><th scope=col>INDFMPIR</th><th scope=col>ALQ101</th><th scope=col>SMQ020</th><th scope=col>DLQ020</th><th scope=col>MCQ160B</th><th scope=col>...</th><th scope=col>OHQ870</th><th scope=col>OHQ875</th><th scope=col>OHQ835_bin</th><th scope=col>OHQ850_bin</th><th scope=col>OHQ855_bin</th><th scope=col>OHQ860_bin</th><th scope=col>OHQ865_bin</th><th scope=col>OHQ845_bin</th><th scope=col>OHQ870_bin</th><th scope=col>OHQ875_bin</th></tr>\n",
       "\t<tr><th></th><th scope=col>&lt;int&gt;</th><th scope=col>&lt;int&gt;</th><th scope=col>&lt;int&gt;</th><th scope=col>&lt;int&gt;</th><th scope=col>&lt;int&gt;</th><th scope=col>&lt;dbl&gt;</th><th scope=col>&lt;int&gt;</th><th scope=col>&lt;int&gt;</th><th scope=col>&lt;int&gt;</th><th scope=col>&lt;int&gt;</th><th scope=col>...</th><th scope=col>&lt;int&gt;</th><th scope=col>&lt;int&gt;</th><th scope=col>&lt;dbl&gt;</th><th scope=col>&lt;dbl&gt;</th><th scope=col>&lt;dbl&gt;</th><th scope=col>&lt;dbl&gt;</th><th scope=col>&lt;dbl&gt;</th><th scope=col>&lt;dbl&gt;</th><th scope=col>&lt;dbl&gt;</th><th scope=col>&lt;dbl&gt;</th></tr>\n",
       "</thead>\n",
       "<tbody>\n",
       "\t<tr><th scope=row>1</th><td>51633</td><td>1</td><td>80</td><td>3</td><td>4</td><td>1.27</td><td>1</td><td>1</td><td>1</td><td>2</td><td>...</td><td>5</td><td>6</td><td>0</td><td>0</td><td>0</td><td>0</td><td>0</td><td>1</td><td>1</td><td>1</td></tr>\n",
       "\t<tr><th scope=row>2</th><td>51654</td><td>1</td><td>66</td><td>3</td><td>4</td><td>2.20</td><td>1</td><td>1</td><td>2</td><td>2</td><td>...</td><td>7</td><td>7</td><td>0</td><td>1</td><td>0</td><td>1</td><td>0</td><td>1</td><td>1</td><td>1</td></tr>\n",
       "\t<tr><th scope=row>3</th><td>51680</td><td>2</td><td>60</td><td>4</td><td>4</td><td>2.59</td><td>1</td><td>1</td><td>1</td><td>2</td><td>...</td><td>7</td><td>0</td><td>0</td><td>0</td><td>0</td><td>1</td><td>1</td><td>1</td><td>1</td><td>0</td></tr>\n",
       "\t<tr><th scope=row>4</th><td>51687</td><td>1</td><td>78</td><td>3</td><td>5</td><td>5.00</td><td>1</td><td>1</td><td>2</td><td>2</td><td>...</td><td>7</td><td>0</td><td>0</td><td>0</td><td>0</td><td>0</td><td>0</td><td>1</td><td>1</td><td>0</td></tr>\n",
       "\t<tr><th scope=row>5</th><td>51736</td><td>2</td><td>60</td><td>1</td><td>3</td><td>0.68</td><td>1</td><td>1</td><td>2</td><td>2</td><td>...</td><td>4</td><td>6</td><td>0</td><td>0</td><td>0</td><td>0</td><td>0</td><td>1</td><td>1</td><td>1</td></tr>\n",
       "\t<tr><th scope=row>6</th><td>51861</td><td>1</td><td>80</td><td>3</td><td>3</td><td>4.94</td><td>1</td><td>2</td><td>2</td><td>2</td><td>...</td><td>0</td><td>7</td><td>0</td><td>0</td><td>1</td><td>0</td><td>0</td><td>1</td><td>0</td><td>1</td></tr>\n",
       "</tbody>\n",
       "</table>\n"
      ],
      "text/latex": [
       "A data.frame: 6 x 41\n",
       "\\begin{tabular}{r|lllllllllllllllllllll}\n",
       "  & SEQN & RIAGENDR & RIDAGEYR & RIDRETH1 & DMDEDUC2 & INDFMPIR & ALQ101 & SMQ020 & DLQ020 & MCQ160B & ... & OHQ870 & OHQ875 & OHQ835\\_bin & OHQ850\\_bin & OHQ855\\_bin & OHQ860\\_bin & OHQ865\\_bin & OHQ845\\_bin & OHQ870\\_bin & OHQ875\\_bin\\\\\n",
       "  & <int> & <int> & <int> & <int> & <int> & <dbl> & <int> & <int> & <int> & <int> & ... & <int> & <int> & <dbl> & <dbl> & <dbl> & <dbl> & <dbl> & <dbl> & <dbl> & <dbl>\\\\\n",
       "\\hline\n",
       "\t1 & 51633 & 1 & 80 & 3 & 4 & 1.27 & 1 & 1 & 1 & 2 & ... & 5 & 6 & 0 & 0 & 0 & 0 & 0 & 1 & 1 & 1\\\\\n",
       "\t2 & 51654 & 1 & 66 & 3 & 4 & 2.20 & 1 & 1 & 2 & 2 & ... & 7 & 7 & 0 & 1 & 0 & 1 & 0 & 1 & 1 & 1\\\\\n",
       "\t3 & 51680 & 2 & 60 & 4 & 4 & 2.59 & 1 & 1 & 1 & 2 & ... & 7 & 0 & 0 & 0 & 0 & 1 & 1 & 1 & 1 & 0\\\\\n",
       "\t4 & 51687 & 1 & 78 & 3 & 5 & 5.00 & 1 & 1 & 2 & 2 & ... & 7 & 0 & 0 & 0 & 0 & 0 & 0 & 1 & 1 & 0\\\\\n",
       "\t5 & 51736 & 2 & 60 & 1 & 3 & 0.68 & 1 & 1 & 2 & 2 & ... & 4 & 6 & 0 & 0 & 0 & 0 & 0 & 1 & 1 & 1\\\\\n",
       "\t6 & 51861 & 1 & 80 & 3 & 3 & 4.94 & 1 & 2 & 2 & 2 & ... & 0 & 7 & 0 & 0 & 1 & 0 & 0 & 1 & 0 & 1\\\\\n",
       "\\end{tabular}\n"
      ],
      "text/markdown": [
       "\n",
       "A data.frame: 6 x 41\n",
       "\n",
       "| <!--/--> | SEQN &lt;int&gt; | RIAGENDR &lt;int&gt; | RIDAGEYR &lt;int&gt; | RIDRETH1 &lt;int&gt; | DMDEDUC2 &lt;int&gt; | INDFMPIR &lt;dbl&gt; | ALQ101 &lt;int&gt; | SMQ020 &lt;int&gt; | DLQ020 &lt;int&gt; | MCQ160B &lt;int&gt; | ... ... | OHQ870 &lt;int&gt; | OHQ875 &lt;int&gt; | OHQ835_bin &lt;dbl&gt; | OHQ850_bin &lt;dbl&gt; | OHQ855_bin &lt;dbl&gt; | OHQ860_bin &lt;dbl&gt; | OHQ865_bin &lt;dbl&gt; | OHQ845_bin &lt;dbl&gt; | OHQ870_bin &lt;dbl&gt; | OHQ875_bin &lt;dbl&gt; |\n",
       "|---|---|---|---|---|---|---|---|---|---|---|---|---|---|---|---|---|---|---|---|---|---|\n",
       "| 1 | 51633 | 1 | 80 | 3 | 4 | 1.27 | 1 | 1 | 1 | 2 | ... | 5 | 6 | 0 | 0 | 0 | 0 | 0 | 1 | 1 | 1 |\n",
       "| 2 | 51654 | 1 | 66 | 3 | 4 | 2.20 | 1 | 1 | 2 | 2 | ... | 7 | 7 | 0 | 1 | 0 | 1 | 0 | 1 | 1 | 1 |\n",
       "| 3 | 51680 | 2 | 60 | 4 | 4 | 2.59 | 1 | 1 | 1 | 2 | ... | 7 | 0 | 0 | 0 | 0 | 1 | 1 | 1 | 1 | 0 |\n",
       "| 4 | 51687 | 1 | 78 | 3 | 5 | 5.00 | 1 | 1 | 2 | 2 | ... | 7 | 0 | 0 | 0 | 0 | 0 | 0 | 1 | 1 | 0 |\n",
       "| 5 | 51736 | 2 | 60 | 1 | 3 | 0.68 | 1 | 1 | 2 | 2 | ... | 4 | 6 | 0 | 0 | 0 | 0 | 0 | 1 | 1 | 1 |\n",
       "| 6 | 51861 | 1 | 80 | 3 | 3 | 4.94 | 1 | 2 | 2 | 2 | ... | 0 | 7 | 0 | 0 | 1 | 0 | 0 | 1 | 0 | 1 |\n",
       "\n"
      ],
      "text/plain": [
       "  SEQN  RIAGENDR RIDAGEYR RIDRETH1 DMDEDUC2 INDFMPIR ALQ101 SMQ020 DLQ020\n",
       "1 51633 1        80       3        4        1.27     1      1      1     \n",
       "2 51654 1        66       3        4        2.20     1      1      2     \n",
       "3 51680 2        60       4        4        2.59     1      1      1     \n",
       "4 51687 1        78       3        5        5.00     1      1      2     \n",
       "5 51736 2        60       1        3        0.68     1      1      2     \n",
       "6 51861 1        80       3        3        4.94     1      2      2     \n",
       "  MCQ160B ... OHQ870 OHQ875 OHQ835_bin OHQ850_bin OHQ855_bin OHQ860_bin\n",
       "1 2       ... 5      6      0          0          0          0         \n",
       "2 2       ... 7      7      0          1          0          1         \n",
       "3 2       ... 7      0      0          0          0          1         \n",
       "4 2       ... 7      0      0          0          0          0         \n",
       "5 2       ... 4      6      0          0          0          0         \n",
       "6 2       ... 0      7      0          0          1          0         \n",
       "  OHQ865_bin OHQ845_bin OHQ870_bin OHQ875_bin\n",
       "1 0          1          1          1         \n",
       "2 0          1          1          1         \n",
       "3 1          1          1          0         \n",
       "4 0          1          1          0         \n",
       "5 0          1          1          1         \n",
       "6 0          1          0          1         "
      ]
     },
     "metadata": {},
     "output_type": "display_data"
    },
    {
     "data": {
      "text/html": [
       "<table class=\"dataframe\">\n",
       "<caption>A psych: 8 x 13</caption>\n",
       "<thead>\n",
       "\t<tr><th></th><th scope=col>vars</th><th scope=col>n</th><th scope=col>mean</th><th scope=col>sd</th><th scope=col>median</th><th scope=col>trimmed</th><th scope=col>mad</th><th scope=col>min</th><th scope=col>max</th><th scope=col>range</th><th scope=col>skew</th><th scope=col>kurtosis</th><th scope=col>se</th></tr>\n",
       "\t<tr><th></th><th scope=col>&lt;int&gt;</th><th scope=col>&lt;dbl&gt;</th><th scope=col>&lt;dbl&gt;</th><th scope=col>&lt;dbl&gt;</th><th scope=col>&lt;dbl&gt;</th><th scope=col>&lt;dbl&gt;</th><th scope=col>&lt;dbl&gt;</th><th scope=col>&lt;dbl&gt;</th><th scope=col>&lt;dbl&gt;</th><th scope=col>&lt;dbl&gt;</th><th scope=col>&lt;dbl&gt;</th><th scope=col>&lt;dbl&gt;</th><th scope=col>&lt;dbl&gt;</th></tr>\n",
       "</thead>\n",
       "<tbody>\n",
       "\t<tr><th scope=row>OHQ835_bin</th><td>1</td><td>828</td><td>0.1618357</td><td>0.3685227</td><td>0</td><td>0.07831325</td><td>0</td><td>0</td><td>1</td><td>1</td><td> 1.8330261</td><td> 1.3616336</td><td>0.01280705</td></tr>\n",
       "\t<tr><th scope=row>OHQ845_bin</th><td>2</td><td>828</td><td>0.6425121</td><td>0.4795498</td><td>1</td><td>0.67771084</td><td>0</td><td>0</td><td>1</td><td>1</td><td>-0.5936399</td><td>-1.6495795</td><td>0.01666551</td></tr>\n",
       "\t<tr><th scope=row>OHQ850_bin</th><td>3</td><td>828</td><td>0.2548309</td><td>0.4360295</td><td>0</td><td>0.19427711</td><td>0</td><td>0</td><td>1</td><td>1</td><td> 1.1231945</td><td>-0.7393226</td><td>0.01515307</td></tr>\n",
       "\t<tr><th scope=row>OHQ855_bin</th><td>4</td><td>828</td><td>0.2318841</td><td>0.4222904</td><td>0</td><td>0.16566265</td><td>0</td><td>0</td><td>1</td><td>1</td><td> 1.2682841</td><td>-0.3919243</td><td>0.01467561</td></tr>\n",
       "\t<tr><th scope=row>OHQ860_bin</th><td>5</td><td>828</td><td>0.1799517</td><td>0.3843794</td><td>0</td><td>0.10090361</td><td>0</td><td>0</td><td>1</td><td>1</td><td> 1.6632618</td><td> 0.7673709</td><td>0.01335811</td></tr>\n",
       "\t<tr><th scope=row>OHQ865_bin</th><td>6</td><td>828</td><td>0.1811594</td><td>0.3853830</td><td>0</td><td>0.10240964</td><td>0</td><td>0</td><td>1</td><td>1</td><td> 1.6526702</td><td> 0.7322076</td><td>0.01339299</td></tr>\n",
       "\t<tr><th scope=row>OHQ870_bin</th><td>7</td><td>828</td><td>0.3574879</td><td>0.4795498</td><td>0</td><td>0.32228916</td><td>0</td><td>0</td><td>1</td><td>1</td><td> 0.5936399</td><td>-1.6495795</td><td>0.01666551</td></tr>\n",
       "\t<tr><th scope=row>OHQ875_bin</th><td>8</td><td>828</td><td>0.4528986</td><td>0.4980774</td><td>0</td><td>0.44126506</td><td>0</td><td>0</td><td>1</td><td>1</td><td> 0.1889046</td><td>-1.9666859</td><td>0.01730939</td></tr>\n",
       "</tbody>\n",
       "</table>\n"
      ],
      "text/latex": [
       "A psych: 8 x 13\n",
       "\\begin{tabular}{r|lllllllllllll}\n",
       "  & vars & n & mean & sd & median & trimmed & mad & min & max & range & skew & kurtosis & se\\\\\n",
       "  & <int> & <dbl> & <dbl> & <dbl> & <dbl> & <dbl> & <dbl> & <dbl> & <dbl> & <dbl> & <dbl> & <dbl> & <dbl>\\\\\n",
       "\\hline\n",
       "\tOHQ835\\_bin & 1 & 828 & 0.1618357 & 0.3685227 & 0 & 0.07831325 & 0 & 0 & 1 & 1 &  1.8330261 &  1.3616336 & 0.01280705\\\\\n",
       "\tOHQ845\\_bin & 2 & 828 & 0.6425121 & 0.4795498 & 1 & 0.67771084 & 0 & 0 & 1 & 1 & -0.5936399 & -1.6495795 & 0.01666551\\\\\n",
       "\tOHQ850\\_bin & 3 & 828 & 0.2548309 & 0.4360295 & 0 & 0.19427711 & 0 & 0 & 1 & 1 &  1.1231945 & -0.7393226 & 0.01515307\\\\\n",
       "\tOHQ855\\_bin & 4 & 828 & 0.2318841 & 0.4222904 & 0 & 0.16566265 & 0 & 0 & 1 & 1 &  1.2682841 & -0.3919243 & 0.01467561\\\\\n",
       "\tOHQ860\\_bin & 5 & 828 & 0.1799517 & 0.3843794 & 0 & 0.10090361 & 0 & 0 & 1 & 1 &  1.6632618 &  0.7673709 & 0.01335811\\\\\n",
       "\tOHQ865\\_bin & 6 & 828 & 0.1811594 & 0.3853830 & 0 & 0.10240964 & 0 & 0 & 1 & 1 &  1.6526702 &  0.7322076 & 0.01339299\\\\\n",
       "\tOHQ870\\_bin & 7 & 828 & 0.3574879 & 0.4795498 & 0 & 0.32228916 & 0 & 0 & 1 & 1 &  0.5936399 & -1.6495795 & 0.01666551\\\\\n",
       "\tOHQ875\\_bin & 8 & 828 & 0.4528986 & 0.4980774 & 0 & 0.44126506 & 0 & 0 & 1 & 1 &  0.1889046 & -1.9666859 & 0.01730939\\\\\n",
       "\\end{tabular}\n"
      ],
      "text/markdown": [
       "\n",
       "A psych: 8 x 13\n",
       "\n",
       "| <!--/--> | vars &lt;int&gt; | n &lt;dbl&gt; | mean &lt;dbl&gt; | sd &lt;dbl&gt; | median &lt;dbl&gt; | trimmed &lt;dbl&gt; | mad &lt;dbl&gt; | min &lt;dbl&gt; | max &lt;dbl&gt; | range &lt;dbl&gt; | skew &lt;dbl&gt; | kurtosis &lt;dbl&gt; | se &lt;dbl&gt; |\n",
       "|---|---|---|---|---|---|---|---|---|---|---|---|---|---|\n",
       "| OHQ835_bin | 1 | 828 | 0.1618357 | 0.3685227 | 0 | 0.07831325 | 0 | 0 | 1 | 1 |  1.8330261 |  1.3616336 | 0.01280705 |\n",
       "| OHQ845_bin | 2 | 828 | 0.6425121 | 0.4795498 | 1 | 0.67771084 | 0 | 0 | 1 | 1 | -0.5936399 | -1.6495795 | 0.01666551 |\n",
       "| OHQ850_bin | 3 | 828 | 0.2548309 | 0.4360295 | 0 | 0.19427711 | 0 | 0 | 1 | 1 |  1.1231945 | -0.7393226 | 0.01515307 |\n",
       "| OHQ855_bin | 4 | 828 | 0.2318841 | 0.4222904 | 0 | 0.16566265 | 0 | 0 | 1 | 1 |  1.2682841 | -0.3919243 | 0.01467561 |\n",
       "| OHQ860_bin | 5 | 828 | 0.1799517 | 0.3843794 | 0 | 0.10090361 | 0 | 0 | 1 | 1 |  1.6632618 |  0.7673709 | 0.01335811 |\n",
       "| OHQ865_bin | 6 | 828 | 0.1811594 | 0.3853830 | 0 | 0.10240964 | 0 | 0 | 1 | 1 |  1.6526702 |  0.7322076 | 0.01339299 |\n",
       "| OHQ870_bin | 7 | 828 | 0.3574879 | 0.4795498 | 0 | 0.32228916 | 0 | 0 | 1 | 1 |  0.5936399 | -1.6495795 | 0.01666551 |\n",
       "| OHQ875_bin | 8 | 828 | 0.4528986 | 0.4980774 | 0 | 0.44126506 | 0 | 0 | 1 | 1 |  0.1889046 | -1.9666859 | 0.01730939 |\n",
       "\n"
      ],
      "text/plain": [
       "           vars n   mean      sd        median trimmed    mad min max range\n",
       "OHQ835_bin 1    828 0.1618357 0.3685227 0      0.07831325 0   0   1   1    \n",
       "OHQ845_bin 2    828 0.6425121 0.4795498 1      0.67771084 0   0   1   1    \n",
       "OHQ850_bin 3    828 0.2548309 0.4360295 0      0.19427711 0   0   1   1    \n",
       "OHQ855_bin 4    828 0.2318841 0.4222904 0      0.16566265 0   0   1   1    \n",
       "OHQ860_bin 5    828 0.1799517 0.3843794 0      0.10090361 0   0   1   1    \n",
       "OHQ865_bin 6    828 0.1811594 0.3853830 0      0.10240964 0   0   1   1    \n",
       "OHQ870_bin 7    828 0.3574879 0.4795498 0      0.32228916 0   0   1   1    \n",
       "OHQ875_bin 8    828 0.4528986 0.4980774 0      0.44126506 0   0   1   1    \n",
       "           skew       kurtosis   se        \n",
       "OHQ835_bin  1.8330261  1.3616336 0.01280705\n",
       "OHQ845_bin -0.5936399 -1.6495795 0.01666551\n",
       "OHQ850_bin  1.1231945 -0.7393226 0.01515307\n",
       "OHQ855_bin  1.2682841 -0.3919243 0.01467561\n",
       "OHQ860_bin  1.6632618  0.7673709 0.01335811\n",
       "OHQ865_bin  1.6526702  0.7322076 0.01339299\n",
       "OHQ870_bin  0.5936399 -1.6495795 0.01666551\n",
       "OHQ875_bin  0.1889046 -1.9666859 0.01730939"
      ]
     },
     "metadata": {},
     "output_type": "display_data"
    }
   ],
   "source": [
    "# First approach: Binarization of variables\n",
    "\n",
    "df_binary <- df %>%\n",
    "  mutate(\n",
    "    # (1=Yes, 2=No)\n",
    "    OHQ835_bin = ifelse(OHQ835 == 1, 1, 0),\n",
    "    OHQ850_bin = ifelse(OHQ850 == 1, 1, 0),\n",
    "    OHQ855_bin = ifelse(OHQ855 == 1, 1, 0),\n",
    "    OHQ860_bin = ifelse(OHQ860 == 1, 1, 0),\n",
    "    OHQ865_bin = ifelse(OHQ865 == 1, 1, 0),\n",
    "    \n",
    "    # Ordinal variable (1-5, where 1 is \"Excellent\")\n",
    "    OHQ845_bin = ifelse(OHQ845 >= 4, 0, 1),\n",
    "    \n",
    "    # Continous variables (0-7 days)\n",
    "    OHQ870_bin = ifelse(OHQ870 >= 4, 1, 0),  # ≥4 days a week = regular usage\n",
    "    OHQ875_bin = ifelse(OHQ875 >= 4, 1, 0)   # ≥4 days a week = regular usage\n",
    "  )\n",
    "\n",
    "binary_vars <- c(\"OHQ835_bin\", \"OHQ845_bin\", \"OHQ850_bin\", \"OHQ855_bin\",\n",
    "                 \"OHQ860_bin\", \"OHQ865_bin\", \"OHQ870_bin\", \"OHQ875_bin\")\n",
    "#df_binary[binary_vars] <- lapply(df_binary[binary_vars], function(x) factor(x, levels = c(0, 1), labels = c(\"0\", \"1\")))\n",
    "\n",
    "head(df_binary)\n",
    "describe(df_binary[binary_vars])"
   ]
  },
  {
   "cell_type": "code",
   "execution_count": 5,
   "metadata": {
    "vscode": {
     "languageId": "r"
    }
   },
   "outputs": [
    {
     "data": {
      "text/plain": [
       "\n",
       "  0   1 \n",
       "532 296 "
      ]
     },
     "metadata": {},
     "output_type": "display_data"
    }
   ],
   "source": [
    "table(df_binary$OHQ870_bin)"
   ]
  },
  {
   "cell_type": "code",
   "execution_count": 6,
   "metadata": {
    "vscode": {
     "languageId": "r"
    }
   },
   "outputs": [
    {
     "data": {
      "text/plain": [
       "\n",
       "  0   1   2   3   4   5   6   7 \n",
       "391  36  53  52  33  23   6 234 "
      ]
     },
     "metadata": {},
     "output_type": "display_data"
    }
   ],
   "source": [
    "table(df_binary$OHQ870)"
   ]
  },
  {
   "cell_type": "code",
   "execution_count": 12,
   "metadata": {
    "vscode": {
     "languageId": "r"
    }
   },
   "outputs": [
    {
     "data": {
      "text/html": [
       "437"
      ],
      "text/latex": [
       "437"
      ],
      "text/markdown": [
       "437"
      ],
      "text/plain": [
       "[1] 437"
      ]
     },
     "metadata": {},
     "output_type": "display_data"
    }
   ],
   "source": [
    "sum(table(df_binary$OHQ870[df_binary$OHQ870!= 0]))"
   ]
  },
  {
   "cell_type": "code",
   "execution_count": 20,
   "metadata": {
    "vscode": {
     "languageId": "r"
    }
   },
   "outputs": [
    {
     "data": {
      "text/html": [
       "47.2222222222222"
      ],
      "text/latex": [
       "47.2222222222222"
      ],
      "text/markdown": [
       "47.2222222222222"
      ],
      "text/plain": [
       "[1] 47.22222"
      ]
     },
     "metadata": {},
     "output_type": "display_data"
    },
    {
     "data": {
      "text/html": [
       "52.7777777777778"
      ],
      "text/latex": [
       "52.7777777777778"
      ],
      "text/markdown": [
       "52.7777777777778"
      ],
      "text/plain": [
       "[1] 52.77778"
      ]
     },
     "metadata": {},
     "output_type": "display_data"
    }
   ],
   "source": [
    "391/sum(table(df_binary$OHQ870)) *100\n",
    "437/sum(table(df_binary$OHQ870)) *100"
   ]
  },
  {
   "cell_type": "code",
   "execution_count": 17,
   "metadata": {
    "vscode": {
     "languageId": "r"
    }
   },
   "outputs": [
    {
     "data": {
      "text/plain": [
       "\n",
       "  0   1 \n",
       "453 375 "
      ]
     },
     "metadata": {},
     "output_type": "display_data"
    }
   ],
   "source": [
    "table(df_binary$OHQ875_bin)"
   ]
  },
  {
   "cell_type": "code",
   "execution_count": 15,
   "metadata": {
    "vscode": {
     "languageId": "r"
    }
   },
   "outputs": [
    {
     "data": {
      "text/plain": [
       "\n",
       "  0   1   2   3   4   5   6   7 \n",
       "336  27  41  49  35  16  11 313 "
      ]
     },
     "metadata": {},
     "output_type": "display_data"
    }
   ],
   "source": [
    "table(df_binary$OHQ875)"
   ]
  },
  {
   "cell_type": "code",
   "execution_count": 16,
   "metadata": {
    "vscode": {
     "languageId": "r"
    }
   },
   "outputs": [
    {
     "data": {
      "text/html": [
       "492"
      ],
      "text/latex": [
       "492"
      ],
      "text/markdown": [
       "492"
      ],
      "text/plain": [
       "[1] 492"
      ]
     },
     "metadata": {},
     "output_type": "display_data"
    }
   ],
   "source": [
    "sum(table(df_binary$OHQ875[df_binary$OHQ875!= 0]))"
   ]
  },
  {
   "cell_type": "code",
   "execution_count": 19,
   "metadata": {
    "vscode": {
     "languageId": "r"
    }
   },
   "outputs": [
    {
     "data": {
      "text/html": [
       "40.5797101449275"
      ],
      "text/latex": [
       "40.5797101449275"
      ],
      "text/markdown": [
       "40.5797101449275"
      ],
      "text/plain": [
       "[1] 40.57971"
      ]
     },
     "metadata": {},
     "output_type": "display_data"
    },
    {
     "data": {
      "text/html": [
       "59.4202898550725"
      ],
      "text/latex": [
       "59.4202898550725"
      ],
      "text/markdown": [
       "59.4202898550725"
      ],
      "text/plain": [
       "[1] 59.42029"
      ]
     },
     "metadata": {},
     "output_type": "display_data"
    }
   ],
   "source": [
    "336/sum(table(df_binary$OHQ875)) *100\n",
    "492/sum(table(df_binary$OHQ875)) *100"
   ]
  },
  {
   "cell_type": "markdown",
   "metadata": {},
   "source": [
    "#### Unique Binary Variable\n",
    "> general_oral_index = sum(indices)\n",
    "\n",
    "- general_oral_index between 0 and 2 --> \"bad\" oral health\n",
    "- general_oral_index between 3 and 4 --> \"intermediate\" oral health\n",
    "- general_oral_index between 5 and 8 --> \"excellent\" oral health"
   ]
  },
  {
   "cell_type": "code",
   "execution_count": 16,
   "metadata": {
    "vscode": {
     "languageId": "r"
    }
   },
   "outputs": [
    {
     "data": {
      "text/html": [
       "<table class=\"dataframe\">\n",
       "<caption>A data.frame: 6 x 43</caption>\n",
       "<thead>\n",
       "\t<tr><th></th><th scope=col>SEQN</th><th scope=col>RIAGENDR</th><th scope=col>RIDAGEYR</th><th scope=col>RIDRETH1</th><th scope=col>DMDEDUC2</th><th scope=col>INDFMPIR</th><th scope=col>ALQ101</th><th scope=col>SMQ020</th><th scope=col>DLQ020</th><th scope=col>MCQ160B</th><th scope=col>...</th><th scope=col>OHQ835_bin</th><th scope=col>OHQ850_bin</th><th scope=col>OHQ855_bin</th><th scope=col>OHQ860_bin</th><th scope=col>OHQ865_bin</th><th scope=col>OHQ845_bin</th><th scope=col>OHQ870_bin</th><th scope=col>OHQ875_bin</th><th scope=col>total_score</th><th scope=col>general_oral_index</th></tr>\n",
       "\t<tr><th></th><th scope=col>&lt;int&gt;</th><th scope=col>&lt;int&gt;</th><th scope=col>&lt;int&gt;</th><th scope=col>&lt;int&gt;</th><th scope=col>&lt;int&gt;</th><th scope=col>&lt;dbl&gt;</th><th scope=col>&lt;int&gt;</th><th scope=col>&lt;int&gt;</th><th scope=col>&lt;int&gt;</th><th scope=col>&lt;int&gt;</th><th scope=col>...</th><th scope=col>&lt;dbl&gt;</th><th scope=col>&lt;dbl&gt;</th><th scope=col>&lt;dbl&gt;</th><th scope=col>&lt;dbl&gt;</th><th scope=col>&lt;dbl&gt;</th><th scope=col>&lt;dbl&gt;</th><th scope=col>&lt;dbl&gt;</th><th scope=col>&lt;dbl&gt;</th><th scope=col>&lt;dbl&gt;</th><th scope=col>&lt;fct&gt;</th></tr>\n",
       "</thead>\n",
       "<tbody>\n",
       "\t<tr><th scope=row>1</th><td>51633</td><td>1</td><td>80</td><td>3</td><td>4</td><td>1.27</td><td>1</td><td>1</td><td>1</td><td>2</td><td>...</td><td>0</td><td>0</td><td>0</td><td>0</td><td>0</td><td>1</td><td>1</td><td>1</td><td>3</td><td>1</td></tr>\n",
       "\t<tr><th scope=row>2</th><td>51654</td><td>1</td><td>66</td><td>3</td><td>4</td><td>2.20</td><td>1</td><td>1</td><td>2</td><td>2</td><td>...</td><td>0</td><td>1</td><td>0</td><td>1</td><td>0</td><td>1</td><td>1</td><td>1</td><td>5</td><td>2</td></tr>\n",
       "\t<tr><th scope=row>3</th><td>51680</td><td>2</td><td>60</td><td>4</td><td>4</td><td>2.59</td><td>1</td><td>1</td><td>1</td><td>2</td><td>...</td><td>0</td><td>0</td><td>0</td><td>1</td><td>1</td><td>1</td><td>1</td><td>0</td><td>4</td><td>1</td></tr>\n",
       "\t<tr><th scope=row>4</th><td>51687</td><td>1</td><td>78</td><td>3</td><td>5</td><td>5.00</td><td>1</td><td>1</td><td>2</td><td>2</td><td>...</td><td>0</td><td>0</td><td>0</td><td>0</td><td>0</td><td>1</td><td>1</td><td>0</td><td>2</td><td>0</td></tr>\n",
       "\t<tr><th scope=row>5</th><td>51736</td><td>2</td><td>60</td><td>1</td><td>3</td><td>0.68</td><td>1</td><td>1</td><td>2</td><td>2</td><td>...</td><td>0</td><td>0</td><td>0</td><td>0</td><td>0</td><td>1</td><td>1</td><td>1</td><td>3</td><td>1</td></tr>\n",
       "\t<tr><th scope=row>6</th><td>51861</td><td>1</td><td>80</td><td>3</td><td>3</td><td>4.94</td><td>1</td><td>2</td><td>2</td><td>2</td><td>...</td><td>0</td><td>0</td><td>1</td><td>0</td><td>0</td><td>1</td><td>0</td><td>1</td><td>3</td><td>1</td></tr>\n",
       "</tbody>\n",
       "</table>\n"
      ],
      "text/latex": [
       "A data.frame: 6 x 43\n",
       "\\begin{tabular}{r|lllllllllllllllllllll}\n",
       "  & SEQN & RIAGENDR & RIDAGEYR & RIDRETH1 & DMDEDUC2 & INDFMPIR & ALQ101 & SMQ020 & DLQ020 & MCQ160B & ... & OHQ835\\_bin & OHQ850\\_bin & OHQ855\\_bin & OHQ860\\_bin & OHQ865\\_bin & OHQ845\\_bin & OHQ870\\_bin & OHQ875\\_bin & total\\_score & general\\_oral\\_index\\\\\n",
       "  & <int> & <int> & <int> & <int> & <int> & <dbl> & <int> & <int> & <int> & <int> & ... & <dbl> & <dbl> & <dbl> & <dbl> & <dbl> & <dbl> & <dbl> & <dbl> & <dbl> & <fct>\\\\\n",
       "\\hline\n",
       "\t1 & 51633 & 1 & 80 & 3 & 4 & 1.27 & 1 & 1 & 1 & 2 & ... & 0 & 0 & 0 & 0 & 0 & 1 & 1 & 1 & 3 & 1\\\\\n",
       "\t2 & 51654 & 1 & 66 & 3 & 4 & 2.20 & 1 & 1 & 2 & 2 & ... & 0 & 1 & 0 & 1 & 0 & 1 & 1 & 1 & 5 & 2\\\\\n",
       "\t3 & 51680 & 2 & 60 & 4 & 4 & 2.59 & 1 & 1 & 1 & 2 & ... & 0 & 0 & 0 & 1 & 1 & 1 & 1 & 0 & 4 & 1\\\\\n",
       "\t4 & 51687 & 1 & 78 & 3 & 5 & 5.00 & 1 & 1 & 2 & 2 & ... & 0 & 0 & 0 & 0 & 0 & 1 & 1 & 0 & 2 & 0\\\\\n",
       "\t5 & 51736 & 2 & 60 & 1 & 3 & 0.68 & 1 & 1 & 2 & 2 & ... & 0 & 0 & 0 & 0 & 0 & 1 & 1 & 1 & 3 & 1\\\\\n",
       "\t6 & 51861 & 1 & 80 & 3 & 3 & 4.94 & 1 & 2 & 2 & 2 & ... & 0 & 0 & 1 & 0 & 0 & 1 & 0 & 1 & 3 & 1\\\\\n",
       "\\end{tabular}\n"
      ],
      "text/markdown": [
       "\n",
       "A data.frame: 6 x 43\n",
       "\n",
       "| <!--/--> | SEQN &lt;int&gt; | RIAGENDR &lt;int&gt; | RIDAGEYR &lt;int&gt; | RIDRETH1 &lt;int&gt; | DMDEDUC2 &lt;int&gt; | INDFMPIR &lt;dbl&gt; | ALQ101 &lt;int&gt; | SMQ020 &lt;int&gt; | DLQ020 &lt;int&gt; | MCQ160B &lt;int&gt; | ... ... | OHQ835_bin &lt;dbl&gt; | OHQ850_bin &lt;dbl&gt; | OHQ855_bin &lt;dbl&gt; | OHQ860_bin &lt;dbl&gt; | OHQ865_bin &lt;dbl&gt; | OHQ845_bin &lt;dbl&gt; | OHQ870_bin &lt;dbl&gt; | OHQ875_bin &lt;dbl&gt; | total_score &lt;dbl&gt; | general_oral_index &lt;fct&gt; |\n",
       "|---|---|---|---|---|---|---|---|---|---|---|---|---|---|---|---|---|---|---|---|---|---|\n",
       "| 1 | 51633 | 1 | 80 | 3 | 4 | 1.27 | 1 | 1 | 1 | 2 | ... | 0 | 0 | 0 | 0 | 0 | 1 | 1 | 1 | 3 | 1 |\n",
       "| 2 | 51654 | 1 | 66 | 3 | 4 | 2.20 | 1 | 1 | 2 | 2 | ... | 0 | 1 | 0 | 1 | 0 | 1 | 1 | 1 | 5 | 2 |\n",
       "| 3 | 51680 | 2 | 60 | 4 | 4 | 2.59 | 1 | 1 | 1 | 2 | ... | 0 | 0 | 0 | 1 | 1 | 1 | 1 | 0 | 4 | 1 |\n",
       "| 4 | 51687 | 1 | 78 | 3 | 5 | 5.00 | 1 | 1 | 2 | 2 | ... | 0 | 0 | 0 | 0 | 0 | 1 | 1 | 0 | 2 | 0 |\n",
       "| 5 | 51736 | 2 | 60 | 1 | 3 | 0.68 | 1 | 1 | 2 | 2 | ... | 0 | 0 | 0 | 0 | 0 | 1 | 1 | 1 | 3 | 1 |\n",
       "| 6 | 51861 | 1 | 80 | 3 | 3 | 4.94 | 1 | 2 | 2 | 2 | ... | 0 | 0 | 1 | 0 | 0 | 1 | 0 | 1 | 3 | 1 |\n",
       "\n"
      ],
      "text/plain": [
       "  SEQN  RIAGENDR RIDAGEYR RIDRETH1 DMDEDUC2 INDFMPIR ALQ101 SMQ020 DLQ020\n",
       "1 51633 1        80       3        4        1.27     1      1      1     \n",
       "2 51654 1        66       3        4        2.20     1      1      2     \n",
       "3 51680 2        60       4        4        2.59     1      1      1     \n",
       "4 51687 1        78       3        5        5.00     1      1      2     \n",
       "5 51736 2        60       1        3        0.68     1      1      2     \n",
       "6 51861 1        80       3        3        4.94     1      2      2     \n",
       "  MCQ160B ... OHQ835_bin OHQ850_bin OHQ855_bin OHQ860_bin OHQ865_bin OHQ845_bin\n",
       "1 2       ... 0          0          0          0          0          1         \n",
       "2 2       ... 0          1          0          1          0          1         \n",
       "3 2       ... 0          0          0          1          1          1         \n",
       "4 2       ... 0          0          0          0          0          1         \n",
       "5 2       ... 0          0          0          0          0          1         \n",
       "6 2       ... 0          0          1          0          0          1         \n",
       "  OHQ870_bin OHQ875_bin total_score general_oral_index\n",
       "1 1          1          3           1                 \n",
       "2 1          1          5           2                 \n",
       "3 1          0          4           1                 \n",
       "4 1          0          2           0                 \n",
       "5 1          1          3           1                 \n",
       "6 0          1          3           1                 "
      ]
     },
     "metadata": {},
     "output_type": "display_data"
    },
    {
     "data": {
      "text/html": [
       "<table class=\"dataframe\">\n",
       "<caption>A psych: 8 x 13</caption>\n",
       "<thead>\n",
       "\t<tr><th></th><th scope=col>vars</th><th scope=col>n</th><th scope=col>mean</th><th scope=col>sd</th><th scope=col>median</th><th scope=col>trimmed</th><th scope=col>mad</th><th scope=col>min</th><th scope=col>max</th><th scope=col>range</th><th scope=col>skew</th><th scope=col>kurtosis</th><th scope=col>se</th></tr>\n",
       "\t<tr><th></th><th scope=col>&lt;int&gt;</th><th scope=col>&lt;dbl&gt;</th><th scope=col>&lt;dbl&gt;</th><th scope=col>&lt;dbl&gt;</th><th scope=col>&lt;dbl&gt;</th><th scope=col>&lt;dbl&gt;</th><th scope=col>&lt;dbl&gt;</th><th scope=col>&lt;dbl&gt;</th><th scope=col>&lt;dbl&gt;</th><th scope=col>&lt;dbl&gt;</th><th scope=col>&lt;dbl&gt;</th><th scope=col>&lt;dbl&gt;</th><th scope=col>&lt;dbl&gt;</th></tr>\n",
       "</thead>\n",
       "<tbody>\n",
       "\t<tr><th scope=row>OHQ835_bin</th><td>1</td><td>828</td><td>0.1618357</td><td>0.3685227</td><td>0</td><td>0.07831325</td><td>0</td><td>0</td><td>1</td><td>1</td><td> 1.83302611</td><td> 1.3616336</td><td>0.01280705</td></tr>\n",
       "\t<tr><th scope=row>OHQ845_bin</th><td>2</td><td>828</td><td>0.6425121</td><td>0.4795498</td><td>1</td><td>0.67771084</td><td>0</td><td>0</td><td>1</td><td>1</td><td>-0.59363991</td><td>-1.6495795</td><td>0.01666551</td></tr>\n",
       "\t<tr><th scope=row>OHQ850_bin</th><td>3</td><td>828</td><td>0.2548309</td><td>0.4360295</td><td>0</td><td>0.19427711</td><td>0</td><td>0</td><td>1</td><td>1</td><td> 1.12319454</td><td>-0.7393226</td><td>0.01515307</td></tr>\n",
       "\t<tr><th scope=row>OHQ855_bin</th><td>4</td><td>828</td><td>0.2318841</td><td>0.4222904</td><td>0</td><td>0.16566265</td><td>0</td><td>0</td><td>1</td><td>1</td><td> 1.26828413</td><td>-0.3919243</td><td>0.01467561</td></tr>\n",
       "\t<tr><th scope=row>OHQ860_bin</th><td>5</td><td>828</td><td>0.1799517</td><td>0.3843794</td><td>0</td><td>0.10090361</td><td>0</td><td>0</td><td>1</td><td>1</td><td> 1.66326178</td><td> 0.7673709</td><td>0.01335811</td></tr>\n",
       "\t<tr><th scope=row>OHQ865_bin</th><td>6</td><td>828</td><td>0.1811594</td><td>0.3853830</td><td>0</td><td>0.10240964</td><td>0</td><td>0</td><td>1</td><td>1</td><td> 1.65267023</td><td> 0.7322076</td><td>0.01339299</td></tr>\n",
       "\t<tr><th scope=row>OHQ870_bin</th><td>7</td><td>828</td><td>0.4202899</td><td>0.4939037</td><td>0</td><td>0.40060241</td><td>0</td><td>0</td><td>1</td><td>1</td><td> 0.32238620</td><td>-1.8983555</td><td>0.01716434</td></tr>\n",
       "\t<tr><th scope=row>OHQ875_bin</th><td>8</td><td>828</td><td>0.5120773</td><td>0.5001562</td><td>1</td><td>0.51506024</td><td>0</td><td>0</td><td>1</td><td>1</td><td>-0.04823576</td><td>-2.0000845</td><td>0.01738163</td></tr>\n",
       "</tbody>\n",
       "</table>\n"
      ],
      "text/latex": [
       "A psych: 8 x 13\n",
       "\\begin{tabular}{r|lllllllllllll}\n",
       "  & vars & n & mean & sd & median & trimmed & mad & min & max & range & skew & kurtosis & se\\\\\n",
       "  & <int> & <dbl> & <dbl> & <dbl> & <dbl> & <dbl> & <dbl> & <dbl> & <dbl> & <dbl> & <dbl> & <dbl> & <dbl>\\\\\n",
       "\\hline\n",
       "\tOHQ835\\_bin & 1 & 828 & 0.1618357 & 0.3685227 & 0 & 0.07831325 & 0 & 0 & 1 & 1 &  1.83302611 &  1.3616336 & 0.01280705\\\\\n",
       "\tOHQ845\\_bin & 2 & 828 & 0.6425121 & 0.4795498 & 1 & 0.67771084 & 0 & 0 & 1 & 1 & -0.59363991 & -1.6495795 & 0.01666551\\\\\n",
       "\tOHQ850\\_bin & 3 & 828 & 0.2548309 & 0.4360295 & 0 & 0.19427711 & 0 & 0 & 1 & 1 &  1.12319454 & -0.7393226 & 0.01515307\\\\\n",
       "\tOHQ855\\_bin & 4 & 828 & 0.2318841 & 0.4222904 & 0 & 0.16566265 & 0 & 0 & 1 & 1 &  1.26828413 & -0.3919243 & 0.01467561\\\\\n",
       "\tOHQ860\\_bin & 5 & 828 & 0.1799517 & 0.3843794 & 0 & 0.10090361 & 0 & 0 & 1 & 1 &  1.66326178 &  0.7673709 & 0.01335811\\\\\n",
       "\tOHQ865\\_bin & 6 & 828 & 0.1811594 & 0.3853830 & 0 & 0.10240964 & 0 & 0 & 1 & 1 &  1.65267023 &  0.7322076 & 0.01339299\\\\\n",
       "\tOHQ870\\_bin & 7 & 828 & 0.4202899 & 0.4939037 & 0 & 0.40060241 & 0 & 0 & 1 & 1 &  0.32238620 & -1.8983555 & 0.01716434\\\\\n",
       "\tOHQ875\\_bin & 8 & 828 & 0.5120773 & 0.5001562 & 1 & 0.51506024 & 0 & 0 & 1 & 1 & -0.04823576 & -2.0000845 & 0.01738163\\\\\n",
       "\\end{tabular}\n"
      ],
      "text/markdown": [
       "\n",
       "A psych: 8 x 13\n",
       "\n",
       "| <!--/--> | vars &lt;int&gt; | n &lt;dbl&gt; | mean &lt;dbl&gt; | sd &lt;dbl&gt; | median &lt;dbl&gt; | trimmed &lt;dbl&gt; | mad &lt;dbl&gt; | min &lt;dbl&gt; | max &lt;dbl&gt; | range &lt;dbl&gt; | skew &lt;dbl&gt; | kurtosis &lt;dbl&gt; | se &lt;dbl&gt; |\n",
       "|---|---|---|---|---|---|---|---|---|---|---|---|---|---|\n",
       "| OHQ835_bin | 1 | 828 | 0.1618357 | 0.3685227 | 0 | 0.07831325 | 0 | 0 | 1 | 1 |  1.83302611 |  1.3616336 | 0.01280705 |\n",
       "| OHQ845_bin | 2 | 828 | 0.6425121 | 0.4795498 | 1 | 0.67771084 | 0 | 0 | 1 | 1 | -0.59363991 | -1.6495795 | 0.01666551 |\n",
       "| OHQ850_bin | 3 | 828 | 0.2548309 | 0.4360295 | 0 | 0.19427711 | 0 | 0 | 1 | 1 |  1.12319454 | -0.7393226 | 0.01515307 |\n",
       "| OHQ855_bin | 4 | 828 | 0.2318841 | 0.4222904 | 0 | 0.16566265 | 0 | 0 | 1 | 1 |  1.26828413 | -0.3919243 | 0.01467561 |\n",
       "| OHQ860_bin | 5 | 828 | 0.1799517 | 0.3843794 | 0 | 0.10090361 | 0 | 0 | 1 | 1 |  1.66326178 |  0.7673709 | 0.01335811 |\n",
       "| OHQ865_bin | 6 | 828 | 0.1811594 | 0.3853830 | 0 | 0.10240964 | 0 | 0 | 1 | 1 |  1.65267023 |  0.7322076 | 0.01339299 |\n",
       "| OHQ870_bin | 7 | 828 | 0.4202899 | 0.4939037 | 0 | 0.40060241 | 0 | 0 | 1 | 1 |  0.32238620 | -1.8983555 | 0.01716434 |\n",
       "| OHQ875_bin | 8 | 828 | 0.5120773 | 0.5001562 | 1 | 0.51506024 | 0 | 0 | 1 | 1 | -0.04823576 | -2.0000845 | 0.01738163 |\n",
       "\n"
      ],
      "text/plain": [
       "           vars n   mean      sd        median trimmed    mad min max range\n",
       "OHQ835_bin 1    828 0.1618357 0.3685227 0      0.07831325 0   0   1   1    \n",
       "OHQ845_bin 2    828 0.6425121 0.4795498 1      0.67771084 0   0   1   1    \n",
       "OHQ850_bin 3    828 0.2548309 0.4360295 0      0.19427711 0   0   1   1    \n",
       "OHQ855_bin 4    828 0.2318841 0.4222904 0      0.16566265 0   0   1   1    \n",
       "OHQ860_bin 5    828 0.1799517 0.3843794 0      0.10090361 0   0   1   1    \n",
       "OHQ865_bin 6    828 0.1811594 0.3853830 0      0.10240964 0   0   1   1    \n",
       "OHQ870_bin 7    828 0.4202899 0.4939037 0      0.40060241 0   0   1   1    \n",
       "OHQ875_bin 8    828 0.5120773 0.5001562 1      0.51506024 0   0   1   1    \n",
       "           skew        kurtosis   se        \n",
       "OHQ835_bin  1.83302611  1.3616336 0.01280705\n",
       "OHQ845_bin -0.59363991 -1.6495795 0.01666551\n",
       "OHQ850_bin  1.12319454 -0.7393226 0.01515307\n",
       "OHQ855_bin  1.26828413 -0.3919243 0.01467561\n",
       "OHQ860_bin  1.66326178  0.7673709 0.01335811\n",
       "OHQ865_bin  1.65267023  0.7322076 0.01339299\n",
       "OHQ870_bin  0.32238620 -1.8983555 0.01716434\n",
       "OHQ875_bin -0.04823576 -2.0000845 0.01738163"
      ]
     },
     "metadata": {},
     "output_type": "display_data"
    },
    {
     "name": "stdout",
     "output_type": "stream",
     "text": [
      "\n",
      "  0   1   2 \n",
      "438 300  90 \n"
     ]
    }
   ],
   "source": [
    "# First approach: Binarization of variables and Unique Variable\n",
    "\n",
    "df_binary <- df %>%\n",
    "  mutate(\n",
    "    # (1=Yes, 2=No)\n",
    "    OHQ835_bin = ifelse(OHQ835 == 1, 1, 0),\n",
    "    OHQ850_bin = ifelse(OHQ850 == 1, 1, 0),\n",
    "    OHQ855_bin = ifelse(OHQ855 == 1, 1, 0),\n",
    "    OHQ860_bin = ifelse(OHQ860 == 1, 1, 0),\n",
    "    OHQ865_bin = ifelse(OHQ865 == 1, 1, 0),\n",
    "    \n",
    "    # Ordinal variable (1-5, where 1 is \"Excellent\")\n",
    "    OHQ845_bin = ifelse(OHQ845 >= 4, 0, 1),\n",
    "    \n",
    "    # Continous variables (0-7 days)\n",
    "    OHQ870_bin = ifelse(OHQ870 >= 3, 1, 0),  # ≥3 days a week = regular usage\n",
    "    OHQ875_bin = ifelse(OHQ875 >= 3, 1, 0),   # ≥3 days a week = regular usage\n",
    "  )\n",
    "\n",
    "binary_vars <- c(\"OHQ835_bin\", \"OHQ845_bin\", \"OHQ850_bin\", \"OHQ855_bin\",\n",
    "                 \"OHQ860_bin\", \"OHQ865_bin\", \"OHQ870_bin\", \"OHQ875_bin\")\n",
    "df_binary <- df_binary %>%\n",
    "  mutate(\n",
    "    # unique general oral index\n",
    "    total_score = rowSums(df_binary[binary_vars]),\n",
    "    \n",
    "    general_oral_index = case_when(\n",
    "      total_score >= 0 & total_score <= 2 ~ \"bad\",           # between 0 and 2\n",
    "      total_score >= 3 & total_score <= 4 ~ \"intermediate\",  # between 3 and 4\n",
    "      total_score >= 5 & total_score <= 8 ~ \"excellent\"      # between 5 and 7\n",
    "    ),\n",
    "\n",
    "    general_oral_index = factor(general_oral_index, \n",
    "                                levels = c(\"bad\", \"intermediate\", \"excellent\"), \n",
    "                                labels = c(0, 1, 2))\n",
    "  )\n",
    "#df_binary[binary_vars] <- lapply(df_binary[binary_vars], function(x) factor(x, levels = c(0, 1), labels = c(\"0\", \"1\")))\n",
    "\n",
    "head(df_binary)\n",
    "describe(df_binary[binary_vars])\n",
    "print(table(df_binary$general_oral_index))"
   ]
  },
  {
   "cell_type": "code",
   "execution_count": null,
   "metadata": {
    "vscode": {
     "languageId": "r"
    }
   },
   "outputs": [],
   "source": []
  },
  {
   "cell_type": "code",
   "execution_count": null,
   "metadata": {
    "vscode": {
     "languageId": "r"
    }
   },
   "outputs": [],
   "source": []
  },
  {
   "cell_type": "code",
   "execution_count": null,
   "metadata": {
    "vscode": {
     "languageId": "r"
    }
   },
   "outputs": [],
   "source": []
  },
  {
   "cell_type": "markdown",
   "metadata": {},
   "source": [
    "#### 8 Descriptive Analysis for each general oral health feature (no mod)"
   ]
  },
  {
   "cell_type": "code",
   "execution_count": null,
   "metadata": {
    "vscode": {
     "languageId": "r"
    }
   },
   "outputs": [],
   "source": [
    "# Pre-processing - TO BE FIXED\n",
    "\n",
    "oral_vars <- c(\"OHQ835\", \"OHQ845\", \"OHQ850\", \"OHQ855\", \n",
    "               \"OHQ860\", \"OHQ865\", \"OHQ870\", \"OHQ875\")\n",
    "\n",
    "binary_vars <- c(\"OHQ835\", \"OHQ850\", \"OHQ855\", \"OHQ860\", \"OHQ865\")\n",
    "df[binary_vars] <- lapply(df[binary_vars], as.factor)\n",
    "\n",
    "df$OHQ845 <- factor(df$OHQ845, \n",
    "                         levels = c(1,2,3,4,5),\n",
    "                         ordered = TRUE)\n",
    "\n",
    "head(df)"
   ]
  },
  {
   "cell_type": "code",
   "execution_count": null,
   "metadata": {
    "vscode": {
     "languageId": "r"
    }
   },
   "outputs": [],
   "source": [
    "# Binary recoding function (1/2 -> 0/1): Converting to factors with 0=No, 1=Yes\n",
    "recode_binary_factor <- function(x) {\n",
    "  factor(ifelse(x == 1, 1, 0), levels = c(0, 1), labels = c(\"No\", \"Yes\"))\n",
    "}\n",
    "\n",
    "# Recoding all features with consistent approach\n",
    "df <- df %>%\n",
    "  mutate(\n",
    "    \n",
    "    # Intrinsic capacity domains: binary recoding\n",
    "    DLQ040_bin = recode_binary_factor(DLQ040),\n",
    "    WHQ060_bin = recode_binary_factor(WHQ060),\n",
    "    DLQ010_bin = recode_binary_factor(DLQ010),\n",
    "    DLQ020_bin = recode_binary_factor(DLQ020),\n",
    "    \n",
    "    # Intrinsic capacity domains: convertion to binary factors\n",
    "    PFQ061I_bin = factor(ifelse(PFQ061I == 1, 0, 1),\n",
    "                     levels = c(0, 1), labels = c(\"No\", \"Yes\")),\n",
    "    DPQ050_bin = factor(ifelse(DPQ050 == 0, 0, 1),\n",
    "                    levels = c(0, 1), labels = c(\"No\", \"Yes\")),\n",
    "    DPQ020_bin = factor(ifelse(DPQ020 == 0, 0, 1),\n",
    "                    levels = c(0, 1), labels = c(\"No\", \"Yes\")),\n",
    "    DPQ010_bin = factor(ifelse(DPQ010 == 0, 0, 1),\n",
    "                    levels = c(0, 1), labels = c(\"No\", \"Yes\")),\n",
    "      \n",
    "    # Demographic variables\n",
    "    RIAGENDR = factor(RIAGENDR, levels = c(1, 2),\n",
    "                    labels = c(\"Male\", \"Female\")),\n",
    "    \n",
    "    DMDEDUC2 = factor(DMDEDUC2, levels = 1:5,\n",
    "                     labels = c(\"Less than 9th grade\", \"9-11th grade\",\n",
    "                                \"High school graduate\",\n",
    "                                \"Some college/AA degree\",\n",
    "                                \"College graduate or above\"),\n",
    "                     ordered = TRUE),\n",
    "    \n",
    "    RIDRETH1 = factor(RIDRETH1, levels = 1:5,\n",
    "                      labels = c(\"Mexican American\", \"Other Hispanic\",\n",
    "                                \"Non-Hispanic White\", \"Non-Hispanic Black\",\n",
    "                                \"Other Race\")),\n",
    "    \n",
    "    # Lifestyle variables - Set \"No\" as reference\n",
    "    SMQ020 = factor(SMQ020, levels = c(2, 1),\n",
    "                   labels = c(\"No\", \"Yes\")),  # Smoking status\n",
    "    \n",
    "    ALQ101 = factor(ALQ101, levels = c(2, 1),\n",
    "                   labels = c(\"Under 12 drinks/1 yr\", \"Over 12 drinks/1 yr\")),  # Alcohol\n",
    "    \n",
    "    # Medical conditions - all with \"No\" as reference level\n",
    "    MCQ160B = factor(MCQ160B, levels = c(2, 1),\n",
    "                    labels = c(\"No\", \"Yes\")),  # Heart failure\n",
    "    \n",
    "    MCQ160C = factor(MCQ160C, levels = c(2, 1),\n",
    "                    labels = c(\"No\", \"Yes\")),  # Coronary heart disease\n",
    "    \n",
    "    MCQ160D = factor(MCQ160D, levels = c(2, 1),\n",
    "                    labels = c(\"No\", \"Yes\")),  # Angina\n",
    "    \n",
    "    MCQ160E = factor(MCQ160E, levels = c(2, 1),\n",
    "                    labels = c(\"No\", \"Yes\")),  # Heart attack\n",
    "    \n",
    "    MCQ160F = factor(MCQ160F, levels = c(2, 1),\n",
    "                    labels = c(\"No\", \"Yes\")),  # Stroke\n",
    "    \n",
    "    MCQ220 = factor(MCQ220, levels = c(2, 1),\n",
    "                   labels = c(\"No\", \"Yes\")),  # Cancer\n",
    "    \n",
    "    MCQ160L = factor(MCQ160L, levels = c(2, 1),\n",
    "                    labels = c(\"No\", \"Yes\")),  # Liver condition\n",
    "    \n",
    "    BPQ020 = factor(BPQ020, levels = c(2, 1),\n",
    "                   labels = c(\"No\", \"Yes\")),  # Hypertension\n",
    "    \n",
    "    # Multi-categorical - set \"No\" as reference\n",
    "    DIQ010 = factor(DIQ010, levels = c(2, 1, 3),\n",
    "                   labels = c(\"No\", \"Yes\", \"Borderline\"))  # Diabetes\n",
    "  )\n",
    "\n",
    "# Verify transformations and check for any issues\n",
    "summary(df[, c(\"DLQ040_bin\", \"WHQ060_bin\", \"DLQ010_bin\", \"DLQ020_bin\",\n",
    "               \"PFQ061I_bin\", \"DPQ050_bin\", \"DPQ020_bin\", \"DPQ010_bin\",\n",
    "               \"RIAGENDR\", \"DMDEDUC2\", \"RIDRETH1\", \"SMQ020\", \"ALQ101\", \n",
    "               \"MCQ160B\", \"MCQ160C\", \"MCQ160D\", \"MCQ160E\", \"MCQ160F\", \"MCQ220\", \"MCQ160L\",\n",
    "               \"BPQ020\", \"DIQ010\")])"
   ]
  },
  {
   "cell_type": "markdown",
   "metadata": {},
   "source": [
    "#### Only Overall Descriptive Analysis"
   ]
  },
  {
   "cell_type": "code",
   "execution_count": null,
   "metadata": {
    "vscode": {
     "languageId": "r"
    }
   },
   "outputs": [],
   "source": [
    "# Pre-processing - TO BE FIXED\n",
    "\n",
    "oral_vars <- c(\"OHQ835\", \"OHQ845\", \"OHQ850\", \"OHQ855\", \n",
    "               \"OHQ860\", \"OHQ865\", \"OHQ870\", \"OHQ875\")\n",
    "\n",
    "binary_vars <- c(\"OHQ835\", \"OHQ850\", \"OHQ855\", \"OHQ860\", \"OHQ865\")\n",
    "df[binary_vars] <- lapply(df[binary_vars], as.factor)\n",
    "\n",
    "df$OHQ845 <- factor(df$OHQ845, \n",
    "                    levels = c(1, 2, 3, 4, 5),\n",
    "                    ordered = TRUE)\n",
    "\n",
    "head(df)"
   ]
  },
  {
   "cell_type": "code",
   "execution_count": 10,
   "metadata": {
    "vscode": {
     "languageId": "r"
    }
   },
   "outputs": [
    {
     "data": {
      "text/plain": [
       " DLQ040_bin WHQ060_bin DLQ010_bin DLQ020_bin PFQ061I_bin DPQ050_bin DPQ020_bin\n",
       " No :759    No :344    No :699    No :678    No :588     No :615    No :600   \n",
       " Yes: 69    Yes:484    Yes:129    Yes:150    Yes:240     Yes:213    Yes:228   \n",
       "                                                                              \n",
       "                                                                              \n",
       "                                                                              \n",
       " DPQ010_bin   RIAGENDR                        DMDEDUC2  \n",
       " No :600    Male  :417   Less than 9th grade      :106  \n",
       " Yes:228    Female:411   9-11th grade             :136  \n",
       "                         High school graduate     :190  \n",
       "                         Some college/AA degree   :235  \n",
       "                         College graduate or above:161  \n",
       "               RIDRETH1   SMQ020                     ALQ101    MCQ160B  \n",
       " Mexican American  : 85   No :396   Under 12 drinks/1 yr:276   No :746  \n",
       " Other Hispanic    : 64   Yes:432   Over 12 drinks/1 yr :552   Yes: 82  \n",
       " Non-Hispanic White:398                                                 \n",
       " Non-Hispanic Black:242                                                 \n",
       " Other Race        : 39                                                 \n",
       " MCQ160C   MCQ160D   MCQ160E   MCQ160F   MCQ220    MCQ160L   BPQ020   \n",
       " No :735   No :767   No :739   No :746   No :648   No :772   No :251  \n",
       " Yes: 93   Yes: 61   Yes: 89   Yes: 82   Yes:180   Yes: 56   Yes:577  \n",
       "                                                                      \n",
       "                                                                      \n",
       "                                                                      \n",
       "        DIQ010   \n",
       " No        :492  \n",
       " Yes       :278  \n",
       " Borderline: 58  \n",
       "                 \n",
       "                 "
      ]
     },
     "metadata": {},
     "output_type": "display_data"
    }
   ],
   "source": [
    "# Binary recoding function (1/2 -> 0/1): Converting to factors with 0=No, 1=Yes\n",
    "recode_binary_factor <- function(x) {\n",
    "  factor(ifelse(x == 1, 1, 0), levels = c(0, 1), labels = c(\"No\", \"Yes\"))\n",
    "}\n",
    "\n",
    "# Recoding all features with consistent approach\n",
    "df_final_merged <- df_final_merged %>%\n",
    "  mutate(\n",
    "    \n",
    "    # Intrinsic capacity domains: binary recoding\n",
    "    DLQ040_bin = recode_binary_factor(DLQ040),\n",
    "    WHQ060_bin = recode_binary_factor(WHQ060),\n",
    "    DLQ010_bin = recode_binary_factor(DLQ010),\n",
    "    DLQ020_bin = recode_binary_factor(DLQ020),\n",
    "    \n",
    "    # Intrinsic capacity domains: convertion to binary factors\n",
    "    PFQ061I_bin = factor(ifelse(PFQ061I == 1, 0, 1),\n",
    "                     levels = c(0, 1), labels = c(\"No\", \"Yes\")),\n",
    "    DPQ050_bin = factor(ifelse(DPQ050 == 0, 0, 1),\n",
    "                    levels = c(0, 1), labels = c(\"No\", \"Yes\")),\n",
    "    DPQ020_bin = factor(ifelse(DPQ020 == 0, 0, 1),\n",
    "                    levels = c(0, 1), labels = c(\"No\", \"Yes\")),\n",
    "    DPQ010_bin = factor(ifelse(DPQ010 == 0, 0, 1),\n",
    "                    levels = c(0, 1), labels = c(\"No\", \"Yes\")),\n",
    "      \n",
    "    # Demographic variables\n",
    "    RIAGENDR = factor(RIAGENDR, levels = c(1, 2),\n",
    "                    labels = c(\"Male\", \"Female\")),\n",
    "    \n",
    "    DMDEDUC2 = factor(DMDEDUC2, levels = 1:5,\n",
    "                     labels = c(\"Less than 9th grade\", \"9-11th grade\",\n",
    "                                \"High school graduate\",\n",
    "                                \"Some college/AA degree\",\n",
    "                                \"College graduate or above\"),\n",
    "                     ordered = TRUE),\n",
    "    \n",
    "    RIDRETH1 = factor(RIDRETH1, levels = 1:5,\n",
    "                      labels = c(\"Mexican American\", \"Other Hispanic\",\n",
    "                                \"Non-Hispanic White\", \"Non-Hispanic Black\",\n",
    "                                \"Other Race\")),\n",
    "    \n",
    "    # Lifestyle variables - Set \"No\" as reference\n",
    "    SMQ020 = factor(SMQ020, levels = c(2, 1),\n",
    "                   labels = c(\"No\", \"Yes\")),  # Smoking status\n",
    "    \n",
    "    ALQ101 = factor(ALQ101, levels = c(2, 1),\n",
    "                   labels = c(\"Under 12 drinks/1 yr\", \"Over 12 drinks/1 yr\")),  # Alcohol\n",
    "    \n",
    "    # Medical conditions - all with \"No\" as reference level\n",
    "    MCQ160B = factor(MCQ160B, levels = c(2, 1),\n",
    "                    labels = c(\"No\", \"Yes\")),  # Heart failure\n",
    "    \n",
    "    MCQ160C = factor(MCQ160C, levels = c(2, 1),\n",
    "                    labels = c(\"No\", \"Yes\")),  # Coronary heart disease\n",
    "    \n",
    "    MCQ160D = factor(MCQ160D, levels = c(2, 1),\n",
    "                    labels = c(\"No\", \"Yes\")),  # Angina\n",
    "    \n",
    "    MCQ160E = factor(MCQ160E, levels = c(2, 1),\n",
    "                    labels = c(\"No\", \"Yes\")),  # Heart attack\n",
    "    \n",
    "    MCQ160F = factor(MCQ160F, levels = c(2, 1),\n",
    "                    labels = c(\"No\", \"Yes\")),  # Stroke\n",
    "    \n",
    "    MCQ220 = factor(MCQ220, levels = c(2, 1),\n",
    "                   labels = c(\"No\", \"Yes\")),  # Cancer\n",
    "    \n",
    "    MCQ160L = factor(MCQ160L, levels = c(2, 1),\n",
    "                    labels = c(\"No\", \"Yes\")),  # Liver condition\n",
    "    \n",
    "    BPQ020 = factor(BPQ020, levels = c(2, 1),\n",
    "                   labels = c(\"No\", \"Yes\")),  # Hypertension\n",
    "    \n",
    "    # Multi-categorical - set \"No\" as reference\n",
    "    DIQ010 = factor(DIQ010, levels = c(2, 1, 3),\n",
    "                   labels = c(\"No\", \"Yes\", \"Borderline\"))  # Diabetes\n",
    "  )\n",
    "\n",
    "# Verify transformations and check for any issues\n",
    "summary(df_final_merged[, c(\"DLQ040_bin\", \"WHQ060_bin\", \"DLQ010_bin\", \"DLQ020_bin\",\n",
    "               \"PFQ061I_bin\", \"DPQ050_bin\", \"DPQ020_bin\", \"DPQ010_bin\",\n",
    "               \"RIAGENDR\", \"DMDEDUC2\", \"RIDRETH1\", \"SMQ020\", \"ALQ101\", \n",
    "               \"MCQ160B\", \"MCQ160C\", \"MCQ160D\", \"MCQ160E\", \"MCQ160F\", \"MCQ220\", \"MCQ160L\",\n",
    "               \"BPQ020\", \"DIQ010\")])"
   ]
  },
  {
   "cell_type": "code",
   "execution_count": 14,
   "metadata": {
    "vscode": {
     "languageId": "r"
    }
   },
   "outputs": [],
   "source": [
    "# Create survey design for NHANES datasets\n",
    "\n",
    "nhanes_design <- svydesign(\n",
    "  id = ~SDMVPSU,\n",
    "  strata = ~SDMVSTRA,\n",
    "  weights = ~wt,\n",
    "  nest = TRUE,\n",
    "  data = df_final_merged\n",
    ")"
   ]
  },
  {
   "cell_type": "code",
   "execution_count": 26,
   "metadata": {
    "vscode": {
     "languageId": "r"
    }
   },
   "outputs": [],
   "source": [
    "# Descriptive analysis\n",
    "\n",
    "create_descriptive_table <- function(df, survey_design = NULL) {\n",
    "  require(gtsummary)\n",
    "  require(dplyr)\n",
    "  require(survey)\n",
    "  require(srvyr)\n",
    "  \n",
    "  # Check if survey design is provided\n",
    "  use_survey_design <- !is.null(survey_design)\n",
    "  \n",
    "  # Normality test a priori for continuous variables\n",
    "  continuous_vars <- c(\"RIDAGEYR\", \"INDFMPIR\")\n",
    "  \n",
    "  normality_results <- list()\n",
    "  \n",
    "  for (var in continuous_vars) {\n",
    "    # Limit: 5000 observations for Shapiro-Wilk test\n",
    "    if (length(na.omit(df[[var]])) > 5000) {\n",
    "      sample_data <- sample(na.omit(df[[var]]), 5000)\n",
    "    } else {\n",
    "      sample_data <- na.omit(df[[var]])\n",
    "    }\n",
    "    \n",
    "    test_result <- shapiro.test(sample_data)\n",
    "    normality_results[[var]] <- test_result$p.value > 0.05\n",
    "    message(var, \" p-value: \", test_result$p.value)\n",
    "  }\n",
    "  \n",
    "  message(\"Normality test results:\")\n",
    "  for (var in names(normality_results)) {\n",
    "    message(var, \": \", ifelse(normality_results[[var]], \"Normal\", \"Non-normal\"))\n",
    "  }\n",
    "\n",
    "  variables_to_include <- c(\"RIDAGEYR\", \"INDFMPIR\", \"RIAGENDR\",\n",
    "                \"DMDEDUC2\", \"RIDRETH1\", \"SMQ020\", \"ALQ101\",\n",
    "                \"MCQ160B\", \"MCQ160C\", \"MCQ160D\", \"MCQ160E\", \"MCQ160F\", \"MCQ220\", \"MCQ160L\",\n",
    "                \"BPQ020\", \"DIQ010\", \"DLQ040_bin\", \"WHQ060_bin\", \"DLQ010_bin\", \"DLQ020_bin\",\n",
    "                \"PFQ061I_bin\", \"DPQ050_bin\", \"DPQ020_bin\", \"DPQ010_bin\")\n",
    "  \n",
    "  # Variables using median (IQR) or mean (SD)\n",
    "  median_vars <- names(normality_results)[!unlist(normality_results)]\n",
    "\n",
    "  stat_labels <- list(\n",
    "    \"RIDAGEYR\" = \"Age (mean, SD)\",\n",
    "    \"INDFMPIR\" = \"Ratio of family income (mean, SD)\",\n",
    "    \"RIAGENDR\" = \"Gender (n, %)\",\n",
    "    \"RIDRETH1\" = \"Ethnicity (n, %)\",\n",
    "    \"DMDEDUC2\" = \"Education (n, %)\",\n",
    "    \"SMQ020\" = \"Smoking (n, %)\",\n",
    "    \"ALQ101\" = \"Alcohol intake (n, %)\",\n",
    "    \"MCQ160B\" = \"Heart Failure (n, %)\",\n",
    "    \"MCQ160C\" = \"Coronary Heart (n, %)\",\n",
    "    \"MCQ160D\" = \"Angina (n, %)\",\n",
    "    \"MCQ160E\" = \"Heart Attack (n, %)\",\n",
    "    \"MCQ160F\" = \"Stroke (n, %)\",\n",
    "    \"MCQ220\" = \"Cancer (n, %)\",\n",
    "    \"MCQ160L\" = \"Liver (n, %)\",\n",
    "    \"BPQ020\" = \"Hypertension (n, %)\",\n",
    "    \"DIQ010\" = \"Diabetes (n, %)\",\n",
    "    \"DLQ040_bin\" = \"Cognition (n, %)\",\n",
    "    \"WHQ060_bin\" = \"Weight loss (n, %)\",\n",
    "    \"DLQ010_bin\" = \"Difficulty Hearing (n, %)\",\n",
    "    \"DLQ020_bin\" = \"Difficulty Seeing (n, %)\",\n",
    "    \"PFQ061I_bin\" = \"Locomotion (n, %)\",\n",
    "    \"DPQ050_bin\" = \"Nutrition (n, %)\",\n",
    "    \"DPQ020_bin\" = \"Mood (n, %)\",\n",
    "    \"DPQ010_bin\" = \"Anhedonia (n, %)\"\n",
    "  )\n",
    "  \n",
    "  for (var in names(normality_results)) {\n",
    "    if (normality_results[[var]]) {\n",
    "      stat_labels[[var]] <- gsub(\"\\\\(median, IQR\\\\)\", \"(mean, SD)\", stat_labels[[var]])\n",
    "    } else {\n",
    "      stat_labels[[var]] <- gsub(\"\\\\(mean, SD\\\\)\", \"(median, IQR)\", stat_labels[[var]])\n",
    "    }\n",
    "  }\n",
    "\n",
    "  # Define statistics\n",
    "  stat_list <- list(\n",
    "    all_continuous() ~ \"{mean} ({sd})\",\n",
    "    all_categorical() ~ \"{n} ({p}%)\"\n",
    "  )\n",
    "  for (var in median_vars) {\n",
    "    stat_list[[var]] <- \"{median} ({p25}, {p75})\"\n",
    "  }\n",
    "\n",
    "  table_strat <- df %>%\n",
    "      tbl_summary(\n",
    "        include = all_of(variables_to_include),\n",
    "        statistic = stat_list,\n",
    "        label = stat_labels,\n",
    "        missing = \"ifany\",\n",
    "        missing_text = \"Missing\",\n",
    "        digits = all_continuous() ~ 2,\n",
    "        value = all_categorical() ~ \"level\",\n",
    "        type = all_categorical() ~ \"categorical\"\n",
    "      )\n",
    "  \n",
    "  # Calculate N for each group\n",
    "  total_n <- nrow(df)\n",
    "  \n",
    "  # Add weighted N in millions column only if survey design is provided\n",
    "  if (use_survey_design) {\n",
    "    survey_obj <- survey_design %>% \n",
    "      as_survey(options = list(lonely.psu = \"adjust\"))\n",
    "\n",
    "    total_pop_in_millions <- survey_obj %>%\n",
    "      summarize(pop = survey_total(1)) %>%\n",
    "      mutate(pop_millions = pop/1000000) %>%\n",
    "      pull(pop_millions)\n",
    "    \n",
    "    table_strat <- table_strat %>%\n",
    "      modify_table_body(\n",
    "        ~.x %>%\n",
    "          dplyr::mutate(\n",
    "            weighted_n = case_when(\n",
    "              is.na(row_type) ~ \"\", \n",
    "              row_type == \"label_header\" ~ \"**Weighted N (Millions)**\",\n",
    "              row_type == \"label\" ~ \"\",\n",
    "              row_type == \"level\" & !is.na(variable) & !is.na(label) ~ \"\",\n",
    "              TRUE ~ \"\"\n",
    "            )\n",
    "          ) %>%\n",
    "          dplyr::relocate(weighted_n, .before = stat_0)\n",
    "      )\n",
    "    \n",
    "    # Add weighted N column as an additional column\n",
    "    table_strat <- table_strat %>%\n",
    "      modify_header(\n",
    "        label = \"**Characteristics**\",\n",
    "        weighted_n = paste0(\"**Weighted N**\\n**in Millions**\")\n",
    "      )\n",
    "    \n",
    "    # Add weighted population estimates for each row\n",
    "    if (use_survey_design) {\n",
    "      # Function to calculate weighted population for a specific variable and level\n",
    "      calculate_weighted_pop <- function(var_name, level = NULL) {\n",
    "        tryCatch({\n",
    "          if (is.null(level)) {\n",
    "            # For continuous variables: sum weights where variable is not NA\n",
    "            var_data <- survey_design$variables[[var_name]]\n",
    "            weights_sum <- sum(weights(survey_design, \"analysis\")[!is.na(var_data)]) / 1000000\n",
    "            return(weights_sum)\n",
    "          } else {\n",
    "            # For categorical variables and specific levels\n",
    "            var_data <- survey_design$variables[[var_name]]\n",
    "            level_match <- var_data == level & !is.na(var_data)\n",
    "            weights_sum <- sum(weights(survey_design, \"analysis\")[level_match]) / 1000000\n",
    "            return(weights_sum)\n",
    "          }\n",
    "        }, error = function(e) {\n",
    "          message(\"Error calculating weighted population for \", var_name, \n",
    "                  if(!is.null(level)) paste(\" level:\", level), \": \", e$message)\n",
    "          return(NA)\n",
    "        })\n",
    "      }\n",
    "      \n",
    "      # Update each row with weighted population estimate\n",
    "      table_strat$table_body <- table_strat$table_body %>%\n",
    "        rowwise() %>%\n",
    "        mutate(\n",
    "          weighted_n = case_when(\n",
    "            !is.na(row_type) & row_type == \"label\" & !is.na(variable) ~ \n",
    "              sprintf(\"%.2f\", calculate_weighted_pop(variable)),\n",
    "            !is.na(row_type) & row_type == \"level\" & !is.na(variable) & !is.na(label) ~\n",
    "              sprintf(\"%.2f\", calculate_weighted_pop(variable, label)),\n",
    "            TRUE ~ weighted_n\n",
    "          )\n",
    "        ) %>%\n",
    "        ungroup()\n",
    "    }\n",
    "  } else {\n",
    "    # If no survey design, just modify the headers without weighted N\n",
    "    table_strat <- table_strat %>%\n",
    "      modify_header(\n",
    "        label = \"**Characteristics**\",\n",
    "        stat_0 = paste0(\"**Total**\\nN = \", total_n), \n",
    "        p.value = \"**P-value**\"\n",
    "      )\n",
    "  }\n",
    "  \n",
    "  # Notes\n",
    "  table_strat <- table_strat %>%\n",
    "    modify_footnote(\n",
    "      update = all_stat_cols() ~ \"Values are n (%) for categorical variables, median (IQR) for non-normally distributed continuous variables, and mean (SD) for normally distributed continuous variables.\"\n",
    "    )\n",
    "  \n",
    "  if (use_survey_design) {\n",
    "    table_strat <- table_strat %>%\n",
    "      modify_footnote(\n",
    "        add = \"Weighted N in millions represents the estimated US population based on NHANES survey weights.\"\n",
    "      )\n",
    "  }\n",
    "  \n",
    "  return(table_strat)\n",
    "}"
   ]
  },
  {
   "cell_type": "code",
   "execution_count": 27,
   "metadata": {
    "vscode": {
     "languageId": "r"
    }
   },
   "outputs": [
    {
     "name": "stderr",
     "output_type": "stream",
     "text": [
      "RIDAGEYR p-value: 4.87861915182784e-22\n",
      "\n",
      "INDFMPIR p-value: 1.95828244177061e-23\n",
      "\n",
      "Normality test results:\n",
      "\n",
      "RIDAGEYR: Non-normal\n",
      "\n",
      "INDFMPIR: Non-normal\n",
      "\n"
     ]
    }
   ],
   "source": [
    "# Saving weighted results in docx format\n",
    "\n",
    "result_table_weighted <- create_descriptive_table(df_final_merged, nhanes_design)\n",
    "flex_table_weighted <- result_table_weighted %>% as_flex_table()\n",
    "\n",
    "save_as_docx(flex_table_weighted,\n",
    "            path = \"/Users/silvanoquarto/Desktop/LAVORO/MEDICAL_PHYSICS/Med-Physics/results/NHANES_09_14_oral_health/only_overall_weighted_descriptive_analysis.docx\")"
   ]
  },
  {
   "cell_type": "markdown",
   "metadata": {},
   "source": [
    "### Regression Analysis"
   ]
  },
  {
   "cell_type": "markdown",
   "metadata": {},
   "source": [
    "#### Load Preprocessed Data + Recoded outcome and some variables"
   ]
  },
  {
   "cell_type": "markdown",
   "metadata": {},
   "source": [
    "#### Bivariate Analysis: Exploratory Data Analysis"
   ]
  },
  {
   "cell_type": "markdown",
   "metadata": {},
   "source": [
    "#### Crude & Adjusted WHEIGHTED Logistic Regression Analysis"
   ]
  }
 ],
 "metadata": {
  "kernelspec": {
   "display_name": "R",
   "language": "R",
   "name": "ir"
  },
  "language_info": {
   "codemirror_mode": "r",
   "file_extension": ".r",
   "mimetype": "text/x-r-source",
   "name": "R",
   "pygments_lexer": "r",
   "version": "4.4.2"
  }
 },
 "nbformat": 4,
 "nbformat_minor": 2
}
